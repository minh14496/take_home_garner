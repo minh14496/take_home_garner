{
 "cells": [
  {
   "cell_type": "markdown",
   "metadata": {},
   "source": [
    "### Packages\n",
    "Import sqlite3 to connect with SQLite3 database\\\n",
    "Import pandas to better handle data from tables from database\\\n",
    "Import numpy cause pandas built on numpy plus it has many useful functions\\\n",
    "Import matplotlip and plotly to plot and analyze data"
   ]
  },
  {
   "cell_type": "code",
   "execution_count": 1,
   "metadata": {},
   "outputs": [],
   "source": [
    "import pandas as pd\n",
    "import numpy as np\n",
    "import tool\n",
    "import matplotlib.pyplot as plt\n",
    "import plotly.express as px\n",
    "pd.set_option('display.max_columns', None)"
   ]
  },
  {
   "cell_type": "markdown",
   "metadata": {},
   "source": [
    "### Rule:\n",
    "Denominator: Patients with benign colon polyps.\n",
    "\n",
    "Numerator: count of surgical resections with a diagnosis of benign polyps performed on denominator patients.\n",
    "\n",
    "Exclusions: \n",
    "1) Patients who have malignant polyps alongside benign polyps.\n",
    "\n",
    "\n",
    "Endoscopy is better than surgery\n",
    "Surgery risk: mortality rate is 0.7%, rate of major postoperative adverse event is 14%\n",
    "Endoscopy risk: mortality rate is 0.08% "
   ]
  },
  {
   "cell_type": "markdown",
   "metadata": {},
   "source": [
    "### Medical Codes:\n",
    "| Medical Term | Diagnosis ICD-9-CM | CPT (procedure) | ICD-9-PCS |\n",
    "| ------------ |  ----------------- | --------------- |  -------- |\n",
    "| Benign colon polyp | 211.3, 211.4 |                 |           |\n",
    "| Colonoscopy  |              | 45378, 45380-45385, 45388 | 45.23 |\n",
    "| Colectomy - surgical resection |  | 44110, 44146, 44150-44160; 44204-44208; 44210-44212| 45.8*, 45.7* |\n",
    "| Malignant neoplasm of the colon | 152.* |           |           |"
   ]
  },
  {
   "cell_type": "markdown",
   "metadata": {},
   "source": [
    "### Tool:\n",
    "Tool has 5 functions:\n",
    "- get_tables(db_file): get the name of all tables in SQLite database\n",
    "- create_dataframe(table, db_file): create pandas dataframe based on each tables in the database\n",
    "- find_codes(df, codes, filter): create a new dataframe with new row that have or do not have the codes\n",
    "- get_list_codes(start, end, step) to create a list of codes based on range\n",
    "- violation_rate(left, right, codes) to find the rate of violation based on the procedure code"
   ]
  },
  {
   "cell_type": "markdown",
   "metadata": {},
   "source": [
    "### Using get_tables(db_file) to quickly glimps the name of all tables\n",
    "db_file is the name of SQLite database in string"
   ]
  },
  {
   "cell_type": "code",
   "execution_count": 2,
   "metadata": {},
   "outputs": [
    {
     "name": "stdout",
     "output_type": "stream",
     "text": [
      "Table Name : [('medical_headers',), ('medical_service_lines',)]\n"
     ]
    }
   ],
   "source": [
    "tool.get_tables('claims.db')"
   ]
  },
  {
   "cell_type": "markdown",
   "metadata": {},
   "source": [
    "### Using create_dataframe(table, db_file) to create dataframe and name what you want\n",
    "Function accept name of tables in string type as well as the database"
   ]
  },
  {
   "cell_type": "code",
   "execution_count": 3,
   "metadata": {},
   "outputs": [],
   "source": [
    "df_headers = tool.create_dataframe('medical_headers', 'claims.db')\n",
    "df_service = tool.create_dataframe('medical_service_lines', 'claims.db')"
   ]
  },
  {
   "cell_type": "code",
   "execution_count": 4,
   "metadata": {},
   "outputs": [
    {
     "data": {
      "text/html": [
       "<div>\n",
       "<style scoped>\n",
       "    .dataframe tbody tr th:only-of-type {\n",
       "        vertical-align: middle;\n",
       "    }\n",
       "\n",
       "    .dataframe tbody tr th {\n",
       "        vertical-align: top;\n",
       "    }\n",
       "\n",
       "    .dataframe thead th {\n",
       "        text-align: right;\n",
       "    }\n",
       "</style>\n",
       "<table border=\"1\" class=\"dataframe\">\n",
       "  <thead>\n",
       "    <tr style=\"text-align: right;\">\n",
       "      <th></th>\n",
       "      <th>index</th>\n",
       "      <th>encounter_key</th>\n",
       "      <th>claim_type_code</th>\n",
       "      <th>icd_type</th>\n",
       "      <th>discharge_status_code</th>\n",
       "      <th>admit_type_code</th>\n",
       "      <th>DA</th>\n",
       "      <th>D1</th>\n",
       "      <th>D2</th>\n",
       "      <th>D3</th>\n",
       "      <th>D4</th>\n",
       "      <th>D5</th>\n",
       "      <th>D6</th>\n",
       "      <th>D7</th>\n",
       "      <th>D8</th>\n",
       "      <th>D9</th>\n",
       "      <th>D10</th>\n",
       "      <th>D11</th>\n",
       "      <th>D12</th>\n",
       "      <th>D13</th>\n",
       "      <th>D14</th>\n",
       "      <th>D15</th>\n",
       "      <th>D16</th>\n",
       "      <th>D17</th>\n",
       "      <th>D18</th>\n",
       "      <th>D19</th>\n",
       "      <th>D20</th>\n",
       "      <th>D21</th>\n",
       "      <th>D22</th>\n",
       "      <th>D23</th>\n",
       "      <th>D24</th>\n",
       "      <th>D25</th>\n",
       "      <th>diagnosis_group</th>\n",
       "      <th>P1</th>\n",
       "      <th>P2</th>\n",
       "      <th>P3</th>\n",
       "      <th>P4</th>\n",
       "      <th>P5</th>\n",
       "      <th>P6</th>\n",
       "      <th>P7</th>\n",
       "      <th>P8</th>\n",
       "      <th>P9</th>\n",
       "      <th>P10</th>\n",
       "      <th>P11</th>\n",
       "      <th>P12</th>\n",
       "      <th>P13</th>\n",
       "      <th>P14</th>\n",
       "      <th>P15</th>\n",
       "      <th>patient_id</th>\n",
       "      <th>total_claim_charge_amount</th>\n",
       "      <th>bill_type_code</th>\n",
       "      <th>doctor_id</th>\n",
       "      <th>hospital_id</th>\n",
       "    </tr>\n",
       "  </thead>\n",
       "  <tbody>\n",
       "    <tr>\n",
       "      <th>0</th>\n",
       "      <td>0</td>\n",
       "      <td>fb9b260015b760e0a5c732a5e38c59cac3b03f422a16d8...</td>\n",
       "      <td>I</td>\n",
       "      <td>9</td>\n",
       "      <td>07</td>\n",
       "      <td>1</td>\n",
       "      <td>68.26</td>\n",
       "      <td>707.05</td>\n",
       "      <td>730.15</td>\n",
       "      <td>70.54</td>\n",
       "      <td>59.9</td>\n",
       "      <td>304.01</td>\n",
       "      <td>34.41</td>\n",
       "      <td>68.26</td>\n",
       "      <td>707.23</td>\n",
       "      <td>596.54</td>\n",
       "      <td></td>\n",
       "      <td>90.72</td>\n",
       "      <td></td>\n",
       "      <td></td>\n",
       "      <td></td>\n",
       "      <td></td>\n",
       "      <td></td>\n",
       "      <td></td>\n",
       "      <td></td>\n",
       "      <td></td>\n",
       "      <td></td>\n",
       "      <td></td>\n",
       "      <td></td>\n",
       "      <td></td>\n",
       "      <td></td>\n",
       "      <td></td>\n",
       "      <td>199</td>\n",
       "      <td>99.29</td>\n",
       "      <td></td>\n",
       "      <td></td>\n",
       "      <td></td>\n",
       "      <td></td>\n",
       "      <td></td>\n",
       "      <td></td>\n",
       "      <td></td>\n",
       "      <td></td>\n",
       "      <td></td>\n",
       "      <td></td>\n",
       "      <td></td>\n",
       "      <td></td>\n",
       "      <td></td>\n",
       "      <td></td>\n",
       "      <td>97f755b9e898334c3928ea66c0d976b4c57ae681f0c36e...</td>\n",
       "      <td>000000800365</td>\n",
       "      <td>111</td>\n",
       "      <td>43fd7855edf7b2ae330511f85e3779caad4382cf7377e0...</td>\n",
       "      <td>4bd1a0e54c79caff0fdfae9bf8a54b036aa05558849c12...</td>\n",
       "    </tr>\n",
       "    <tr>\n",
       "      <th>1</th>\n",
       "      <td>1</td>\n",
       "      <td>6d86bb8c0c2f8b09768b99af9fe566be64f54f45b835ad...</td>\n",
       "      <td>I</td>\n",
       "      <td>9</td>\n",
       "      <td>03</td>\n",
       "      <td>1</td>\n",
       "      <td>57.89</td>\n",
       "      <td>57.89</td>\n",
       "      <td>3.8</td>\n",
       "      <td>785.59</td>\n",
       "      <td>0.42</td>\n",
       "      <td>995.91</td>\n",
       "      <td>27.6</td>\n",
       "      <td>27.62</td>\n",
       "      <td>19.85</td>\n",
       "      <td>19.7</td>\n",
       "      <td>59.9</td>\n",
       "      <td>276.5</td>\n",
       "      <td>707.09</td>\n",
       "      <td>707.22</td>\n",
       "      <td>28.59</td>\n",
       "      <td>27.68</td>\n",
       "      <td></td>\n",
       "      <td></td>\n",
       "      <td></td>\n",
       "      <td></td>\n",
       "      <td></td>\n",
       "      <td></td>\n",
       "      <td></td>\n",
       "      <td></td>\n",
       "      <td></td>\n",
       "      <td></td>\n",
       "      <td>153</td>\n",
       "      <td>86.05</td>\n",
       "      <td>97.23</td>\n",
       "      <td>99.04</td>\n",
       "      <td></td>\n",
       "      <td></td>\n",
       "      <td></td>\n",
       "      <td></td>\n",
       "      <td></td>\n",
       "      <td></td>\n",
       "      <td></td>\n",
       "      <td></td>\n",
       "      <td></td>\n",
       "      <td></td>\n",
       "      <td></td>\n",
       "      <td></td>\n",
       "      <td>43a6da3529f59c802ff679d200955b74f7e8dabffce999...</td>\n",
       "      <td>000006603253</td>\n",
       "      <td>111</td>\n",
       "      <td>779e2d9b0c1d92f753ad1f937fd875b65a8dadd59ff59a...</td>\n",
       "      <td>19d7f933040df548188dc2076112ff872a904335cabf5d...</td>\n",
       "    </tr>\n",
       "    <tr>\n",
       "      <th>2</th>\n",
       "      <td>2</td>\n",
       "      <td>af38285ba71374e01eef09949b6c67ff704af48f3bbabb...</td>\n",
       "      <td>I</td>\n",
       "      <td>9</td>\n",
       "      <td>01</td>\n",
       "      <td>1</td>\n",
       "      <td>786.5</td>\n",
       "      <td>288.03</td>\n",
       "      <td>0.42</td>\n",
       "      <td>296.2</td>\n",
       "      <td>284.89</td>\n",
       "      <td>296.8</td>\n",
       "      <td>345.9</td>\n",
       "      <td>79.94</td>\n",
       "      <td>45.52</td>\n",
       "      <td>30.51</td>\n",
       "      <td></td>\n",
       "      <td></td>\n",
       "      <td></td>\n",
       "      <td></td>\n",
       "      <td></td>\n",
       "      <td></td>\n",
       "      <td></td>\n",
       "      <td></td>\n",
       "      <td></td>\n",
       "      <td></td>\n",
       "      <td></td>\n",
       "      <td></td>\n",
       "      <td></td>\n",
       "      <td></td>\n",
       "      <td></td>\n",
       "      <td></td>\n",
       "      <td>063</td>\n",
       "      <td>41.31</td>\n",
       "      <td>87.41</td>\n",
       "      <td></td>\n",
       "      <td></td>\n",
       "      <td></td>\n",
       "      <td></td>\n",
       "      <td></td>\n",
       "      <td></td>\n",
       "      <td></td>\n",
       "      <td></td>\n",
       "      <td></td>\n",
       "      <td></td>\n",
       "      <td></td>\n",
       "      <td></td>\n",
       "      <td></td>\n",
       "      <td>fa0f0f8a17bab031934344709a9c14e6a735554c2089a0...</td>\n",
       "      <td>000005983241</td>\n",
       "      <td>117</td>\n",
       "      <td>e709515f1e614f41092b9c4a82029654145190d06a9d41...</td>\n",
       "      <td>e2d66df225bfda151073edd988c1cb105f154d04a21837...</td>\n",
       "    </tr>\n",
       "    <tr>\n",
       "      <th>3</th>\n",
       "      <td>3</td>\n",
       "      <td>2398ae5f8761928bf5286c210e2c7fabe06c5d04286bc9...</td>\n",
       "      <td>I</td>\n",
       "      <td>9</td>\n",
       "      <td>01</td>\n",
       "      <td>1</td>\n",
       "      <td>427.31</td>\n",
       "      <td>58.49</td>\n",
       "      <td>0.42</td>\n",
       "      <td>27.67</td>\n",
       "      <td>250.42</td>\n",
       "      <td>427.31</td>\n",
       "      <td>427.89</td>\n",
       "      <td>30.51</td>\n",
       "      <td>58.54</td>\n",
       "      <td>403.9</td>\n",
       "      <td>583.81</td>\n",
       "      <td></td>\n",
       "      <td></td>\n",
       "      <td></td>\n",
       "      <td></td>\n",
       "      <td></td>\n",
       "      <td></td>\n",
       "      <td></td>\n",
       "      <td></td>\n",
       "      <td></td>\n",
       "      <td></td>\n",
       "      <td></td>\n",
       "      <td></td>\n",
       "      <td></td>\n",
       "      <td></td>\n",
       "      <td></td>\n",
       "      <td>157</td>\n",
       "      <td>38.95</td>\n",
       "      <td>39.95</td>\n",
       "      <td></td>\n",
       "      <td></td>\n",
       "      <td></td>\n",
       "      <td></td>\n",
       "      <td></td>\n",
       "      <td></td>\n",
       "      <td></td>\n",
       "      <td></td>\n",
       "      <td></td>\n",
       "      <td></td>\n",
       "      <td></td>\n",
       "      <td></td>\n",
       "      <td></td>\n",
       "      <td>68fa7bb2bd832ecaa20144c7f297849b46d6244731d145...</td>\n",
       "      <td>000004256654</td>\n",
       "      <td>111</td>\n",
       "      <td>274cd8bd73dfc81841a22e5a3cca45173be7abdc2b39b7...</td>\n",
       "      <td>19d7f933040df548188dc2076112ff872a904335cabf5d...</td>\n",
       "    </tr>\n",
       "    <tr>\n",
       "      <th>4</th>\n",
       "      <td>4</td>\n",
       "      <td>5f67ba33d85e9324464a330b5e14bc9e96768a0445cada...</td>\n",
       "      <td>I</td>\n",
       "      <td>9</td>\n",
       "      <td>01</td>\n",
       "      <td>4</td>\n",
       "      <td>74.7</td>\n",
       "      <td>74.7</td>\n",
       "      <td>77.07</td>\n",
       "      <td></td>\n",
       "      <td>770.81</td>\n",
       "      <td>7.69</td>\n",
       "      <td>779.31</td>\n",
       "      <td>77.66</td>\n",
       "      <td>362.24</td>\n",
       "      <td>779.89</td>\n",
       "      <td>530.81</td>\n",
       "      <td>27.63</td>\n",
       "      <td>779.81</td>\n",
       "      <td>799.82</td>\n",
       "      <td></td>\n",
       "      <td></td>\n",
       "      <td></td>\n",
       "      <td></td>\n",
       "      <td></td>\n",
       "      <td></td>\n",
       "      <td></td>\n",
       "      <td></td>\n",
       "      <td></td>\n",
       "      <td></td>\n",
       "      <td></td>\n",
       "      <td></td>\n",
       "      <td>213</td>\n",
       "      <td>96.72</td>\n",
       "      <td>99.15</td>\n",
       "      <td>99.04</td>\n",
       "      <td>96.07</td>\n",
       "      <td></td>\n",
       "      <td></td>\n",
       "      <td></td>\n",
       "      <td></td>\n",
       "      <td></td>\n",
       "      <td></td>\n",
       "      <td></td>\n",
       "      <td></td>\n",
       "      <td></td>\n",
       "      <td></td>\n",
       "      <td></td>\n",
       "      <td>3388281fb1d53667d6f7b8731d166680ae00b7fefb4535...</td>\n",
       "      <td>000081897066</td>\n",
       "      <td>111</td>\n",
       "      <td>ddbf0a09050825857a825b43a25d21ab3525d8cfea3f44...</td>\n",
       "      <td>daedcd574abd3b36b4fbdec0b08762bb37107eee207732...</td>\n",
       "    </tr>\n",
       "  </tbody>\n",
       "</table>\n",
       "</div>"
      ],
      "text/plain": [
       "   index                                      encounter_key claim_type_code  \\\n",
       "0      0  fb9b260015b760e0a5c732a5e38c59cac3b03f422a16d8...               I   \n",
       "1      1  6d86bb8c0c2f8b09768b99af9fe566be64f54f45b835ad...               I   \n",
       "2      2  af38285ba71374e01eef09949b6c67ff704af48f3bbabb...               I   \n",
       "3      3  2398ae5f8761928bf5286c210e2c7fabe06c5d04286bc9...               I   \n",
       "4      4  5f67ba33d85e9324464a330b5e14bc9e96768a0445cada...               I   \n",
       "\n",
       "  icd_type discharge_status_code admit_type_code      DA      D1      D2  \\\n",
       "0        9                    07               1   68.26  707.05  730.15   \n",
       "1        9                    03               1   57.89   57.89     3.8   \n",
       "2        9                    01               1   786.5  288.03    0.42   \n",
       "3        9                    01               1  427.31   58.49    0.42   \n",
       "4        9                    01               4    74.7    74.7   77.07   \n",
       "\n",
       "       D3      D4      D5      D6     D7      D8      D9     D10    D11  \\\n",
       "0   70.54    59.9  304.01   34.41  68.26  707.23  596.54          90.72   \n",
       "1  785.59    0.42  995.91    27.6  27.62   19.85    19.7    59.9  276.5   \n",
       "2   296.2  284.89   296.8   345.9  79.94   45.52   30.51                  \n",
       "3   27.67  250.42  427.31  427.89  30.51   58.54   403.9  583.81          \n",
       "4          770.81    7.69  779.31  77.66  362.24  779.89  530.81  27.63   \n",
       "\n",
       "      D12     D13    D14    D15 D16 D17 D18 D19 D20 D21 D22 D23 D24 D25  \\\n",
       "0                                                                         \n",
       "1  707.09  707.22  28.59  27.68                                           \n",
       "2                                                                         \n",
       "3                                                                         \n",
       "4  779.81  799.82                                                         \n",
       "\n",
       "  diagnosis_group     P1     P2     P3     P4 P5 P6 P7 P8 P9 P10 P11 P12 P13  \\\n",
       "0             199  99.29                                                       \n",
       "1             153  86.05  97.23  99.04                                         \n",
       "2             063  41.31  87.41                                                \n",
       "3             157  38.95  39.95                                                \n",
       "4             213  96.72  99.15  99.04  96.07                                  \n",
       "\n",
       "  P14 P15                                         patient_id  \\\n",
       "0          97f755b9e898334c3928ea66c0d976b4c57ae681f0c36e...   \n",
       "1          43a6da3529f59c802ff679d200955b74f7e8dabffce999...   \n",
       "2          fa0f0f8a17bab031934344709a9c14e6a735554c2089a0...   \n",
       "3          68fa7bb2bd832ecaa20144c7f297849b46d6244731d145...   \n",
       "4          3388281fb1d53667d6f7b8731d166680ae00b7fefb4535...   \n",
       "\n",
       "  total_claim_charge_amount bill_type_code  \\\n",
       "0              000000800365            111   \n",
       "1              000006603253            111   \n",
       "2              000005983241            117   \n",
       "3              000004256654            111   \n",
       "4              000081897066            111   \n",
       "\n",
       "                                           doctor_id  \\\n",
       "0  43fd7855edf7b2ae330511f85e3779caad4382cf7377e0...   \n",
       "1  779e2d9b0c1d92f753ad1f937fd875b65a8dadd59ff59a...   \n",
       "2  e709515f1e614f41092b9c4a82029654145190d06a9d41...   \n",
       "3  274cd8bd73dfc81841a22e5a3cca45173be7abdc2b39b7...   \n",
       "4  ddbf0a09050825857a825b43a25d21ab3525d8cfea3f44...   \n",
       "\n",
       "                                         hospital_id  \n",
       "0  4bd1a0e54c79caff0fdfae9bf8a54b036aa05558849c12...  \n",
       "1  19d7f933040df548188dc2076112ff872a904335cabf5d...  \n",
       "2  e2d66df225bfda151073edd988c1cb105f154d04a21837...  \n",
       "3  19d7f933040df548188dc2076112ff872a904335cabf5d...  \n",
       "4  daedcd574abd3b36b4fbdec0b08762bb37107eee207732...  "
      ]
     },
     "execution_count": 4,
     "metadata": {},
     "output_type": "execute_result"
    }
   ],
   "source": [
    "df_headers.head()"
   ]
  },
  {
   "cell_type": "markdown",
   "metadata": {},
   "source": [
    "### Using find_codes(df, codes, filter=True) to find rows that have medical codes you need to find\n",
    "Function receive dataframe. Codes must be in list of strings. Filter default is 1. \n",
    "\n",
    "- If filter = 1, function will get all the rows with the medical code you specify in codes\n",
    "- If filter = 2, function will get all the rows without the medical code you specify in codes\n",
    "- if filter = 3, function will get all rows from the dataframe plus a column specify what rows have codes you find"
   ]
  },
  {
   "cell_type": "code",
   "execution_count": 5,
   "metadata": {},
   "outputs": [],
   "source": [
    "df_benign = tool.find_codes(df_headers, ['211.3', '211.4'])"
   ]
  },
  {
   "cell_type": "code",
   "execution_count": 6,
   "metadata": {},
   "outputs": [
    {
     "data": {
      "text/html": [
       "<div>\n",
       "<style scoped>\n",
       "    .dataframe tbody tr th:only-of-type {\n",
       "        vertical-align: middle;\n",
       "    }\n",
       "\n",
       "    .dataframe tbody tr th {\n",
       "        vertical-align: top;\n",
       "    }\n",
       "\n",
       "    .dataframe thead th {\n",
       "        text-align: right;\n",
       "    }\n",
       "</style>\n",
       "<table border=\"1\" class=\"dataframe\">\n",
       "  <thead>\n",
       "    <tr style=\"text-align: right;\">\n",
       "      <th></th>\n",
       "      <th>index</th>\n",
       "      <th>encounter_key</th>\n",
       "      <th>claim_type_code</th>\n",
       "      <th>icd_type</th>\n",
       "      <th>discharge_status_code</th>\n",
       "      <th>admit_type_code</th>\n",
       "      <th>DA</th>\n",
       "      <th>D1</th>\n",
       "      <th>D2</th>\n",
       "      <th>D3</th>\n",
       "      <th>D4</th>\n",
       "      <th>D5</th>\n",
       "      <th>D6</th>\n",
       "      <th>D7</th>\n",
       "      <th>D8</th>\n",
       "      <th>D9</th>\n",
       "      <th>D10</th>\n",
       "      <th>D11</th>\n",
       "      <th>D12</th>\n",
       "      <th>D13</th>\n",
       "      <th>D14</th>\n",
       "      <th>D15</th>\n",
       "      <th>D16</th>\n",
       "      <th>D17</th>\n",
       "      <th>D18</th>\n",
       "      <th>D19</th>\n",
       "      <th>D20</th>\n",
       "      <th>D21</th>\n",
       "      <th>D22</th>\n",
       "      <th>D23</th>\n",
       "      <th>D24</th>\n",
       "      <th>D25</th>\n",
       "      <th>diagnosis_group</th>\n",
       "      <th>P1</th>\n",
       "      <th>P2</th>\n",
       "      <th>P3</th>\n",
       "      <th>P4</th>\n",
       "      <th>P5</th>\n",
       "      <th>P6</th>\n",
       "      <th>P7</th>\n",
       "      <th>P8</th>\n",
       "      <th>P9</th>\n",
       "      <th>P10</th>\n",
       "      <th>P11</th>\n",
       "      <th>P12</th>\n",
       "      <th>P13</th>\n",
       "      <th>P14</th>\n",
       "      <th>P15</th>\n",
       "      <th>patient_id</th>\n",
       "      <th>total_claim_charge_amount</th>\n",
       "      <th>bill_type_code</th>\n",
       "      <th>doctor_id</th>\n",
       "      <th>hospital_id</th>\n",
       "    </tr>\n",
       "  </thead>\n",
       "  <tbody>\n",
       "    <tr>\n",
       "      <th>0</th>\n",
       "      <td>125</td>\n",
       "      <td>b2ff5e25ef396d1b37da4bd7f7bc4ed7bf63242f6807de...</td>\n",
       "      <td>I</td>\n",
       "      <td>9</td>\n",
       "      <td></td>\n",
       "      <td></td>\n",
       "      <td>562.1</td>\n",
       "      <td>562.1</td>\n",
       "      <td>211.3</td>\n",
       "      <td></td>\n",
       "      <td></td>\n",
       "      <td></td>\n",
       "      <td></td>\n",
       "      <td></td>\n",
       "      <td></td>\n",
       "      <td></td>\n",
       "      <td></td>\n",
       "      <td></td>\n",
       "      <td></td>\n",
       "      <td></td>\n",
       "      <td></td>\n",
       "      <td></td>\n",
       "      <td></td>\n",
       "      <td></td>\n",
       "      <td></td>\n",
       "      <td></td>\n",
       "      <td></td>\n",
       "      <td></td>\n",
       "      <td></td>\n",
       "      <td></td>\n",
       "      <td></td>\n",
       "      <td></td>\n",
       "      <td>146</td>\n",
       "      <td></td>\n",
       "      <td></td>\n",
       "      <td></td>\n",
       "      <td></td>\n",
       "      <td></td>\n",
       "      <td></td>\n",
       "      <td></td>\n",
       "      <td></td>\n",
       "      <td></td>\n",
       "      <td></td>\n",
       "      <td></td>\n",
       "      <td></td>\n",
       "      <td></td>\n",
       "      <td></td>\n",
       "      <td></td>\n",
       "      <td>dce553a9508c25e439171274397adf3be0c31182c5d4bf...</td>\n",
       "      <td>000000740000</td>\n",
       "      <td>831</td>\n",
       "      <td>924f908412a2243aefaaf1a1abbe0651e668e6340c3993...</td>\n",
       "      <td>be265ef876f368e9285623d4202c2db129aaf401c5449f...</td>\n",
       "    </tr>\n",
       "    <tr>\n",
       "      <th>1</th>\n",
       "      <td>435</td>\n",
       "      <td>ecff758b15a1a6e93c09f6d3adc7033b27ba48f824d045...</td>\n",
       "      <td>I</td>\n",
       "      <td>9</td>\n",
       "      <td>01</td>\n",
       "      <td>3</td>\n",
       "      <td>54.39</td>\n",
       "      <td>54.39</td>\n",
       "      <td>211.3</td>\n",
       "      <td></td>\n",
       "      <td>40.19</td>\n",
       "      <td>414.01</td>\n",
       "      <td>27.24</td>\n",
       "      <td></td>\n",
       "      <td></td>\n",
       "      <td></td>\n",
       "      <td></td>\n",
       "      <td></td>\n",
       "      <td></td>\n",
       "      <td></td>\n",
       "      <td></td>\n",
       "      <td></td>\n",
       "      <td></td>\n",
       "      <td></td>\n",
       "      <td></td>\n",
       "      <td></td>\n",
       "      <td></td>\n",
       "      <td></td>\n",
       "      <td></td>\n",
       "      <td></td>\n",
       "      <td></td>\n",
       "      <td></td>\n",
       "      <td>142</td>\n",
       "      <td>47.01</td>\n",
       "      <td></td>\n",
       "      <td></td>\n",
       "      <td></td>\n",
       "      <td></td>\n",
       "      <td></td>\n",
       "      <td></td>\n",
       "      <td></td>\n",
       "      <td></td>\n",
       "      <td></td>\n",
       "      <td></td>\n",
       "      <td></td>\n",
       "      <td></td>\n",
       "      <td></td>\n",
       "      <td></td>\n",
       "      <td>f157360c6b7894973d598204e725a5887b27b0072f2d13...</td>\n",
       "      <td>000001844476</td>\n",
       "      <td>111</td>\n",
       "      <td>880251f5ae409dc658535736b41eadc8456f569f7f9828...</td>\n",
       "      <td>09b2a1add271711f7cda18eedb9a9a6315f4a103e605cf...</td>\n",
       "    </tr>\n",
       "    <tr>\n",
       "      <th>2</th>\n",
       "      <td>564</td>\n",
       "      <td>19b516dd184c38e369d34fc774286bcc702b16759753f3...</td>\n",
       "      <td>I</td>\n",
       "      <td>9</td>\n",
       "      <td></td>\n",
       "      <td></td>\n",
       "      <td>57.81</td>\n",
       "      <td>57.81</td>\n",
       "      <td>211.3</td>\n",
       "      <td>45.5</td>\n",
       "      <td>44.89</td>\n",
       "      <td>569.49</td>\n",
       "      <td></td>\n",
       "      <td></td>\n",
       "      <td></td>\n",
       "      <td></td>\n",
       "      <td></td>\n",
       "      <td></td>\n",
       "      <td></td>\n",
       "      <td></td>\n",
       "      <td></td>\n",
       "      <td></td>\n",
       "      <td></td>\n",
       "      <td></td>\n",
       "      <td></td>\n",
       "      <td></td>\n",
       "      <td></td>\n",
       "      <td></td>\n",
       "      <td></td>\n",
       "      <td></td>\n",
       "      <td></td>\n",
       "      <td></td>\n",
       "      <td>153</td>\n",
       "      <td></td>\n",
       "      <td></td>\n",
       "      <td></td>\n",
       "      <td></td>\n",
       "      <td></td>\n",
       "      <td></td>\n",
       "      <td></td>\n",
       "      <td></td>\n",
       "      <td></td>\n",
       "      <td></td>\n",
       "      <td></td>\n",
       "      <td></td>\n",
       "      <td></td>\n",
       "      <td></td>\n",
       "      <td></td>\n",
       "      <td>4544ac27e14e02f16689c6ae2dab0a004b1610617e4b11...</td>\n",
       "      <td>000000236033</td>\n",
       "      <td>131</td>\n",
       "      <td>95558115a97a04dea62cc868bc5a4f7868c59771eb8376...</td>\n",
       "      <td>1c0a6598efb9ee9c9e2a875b5a8d327f161b6df34c20b9...</td>\n",
       "    </tr>\n",
       "    <tr>\n",
       "      <th>3</th>\n",
       "      <td>618</td>\n",
       "      <td>4c231bb6dc7e12b6b54af0ca6d421b3203d2cf4f61f923...</td>\n",
       "      <td>I</td>\n",
       "      <td>9</td>\n",
       "      <td>01</td>\n",
       "      <td>1</td>\n",
       "      <td>56.93</td>\n",
       "      <td>532.4</td>\n",
       "      <td>28.51</td>\n",
       "      <td>59.9</td>\n",
       "      <td>88.82</td>\n",
       "      <td>27.61</td>\n",
       "      <td>40.19</td>\n",
       "      <td>414</td>\n",
       "      <td></td>\n",
       "      <td></td>\n",
       "      <td>211.3</td>\n",
       "      <td>535.6</td>\n",
       "      <td>57.9</td>\n",
       "      <td>27.38</td>\n",
       "      <td>211.4</td>\n",
       "      <td>45.5</td>\n",
       "      <td></td>\n",
       "      <td></td>\n",
       "      <td></td>\n",
       "      <td></td>\n",
       "      <td></td>\n",
       "      <td></td>\n",
       "      <td></td>\n",
       "      <td></td>\n",
       "      <td></td>\n",
       "      <td></td>\n",
       "      <td>153</td>\n",
       "      <td>45.16</td>\n",
       "      <td>45.42</td>\n",
       "      <td></td>\n",
       "      <td></td>\n",
       "      <td></td>\n",
       "      <td></td>\n",
       "      <td></td>\n",
       "      <td></td>\n",
       "      <td></td>\n",
       "      <td></td>\n",
       "      <td></td>\n",
       "      <td></td>\n",
       "      <td></td>\n",
       "      <td></td>\n",
       "      <td></td>\n",
       "      <td>f9f5840f724cd2b0007f49b5d8a10eec5b25da82f5d605...</td>\n",
       "      <td>000003316075</td>\n",
       "      <td>117</td>\n",
       "      <td>9de9d46a7b57ce0ad6c4d6e26780c8b4a49252c0957409...</td>\n",
       "      <td>9d15ec3cbf06399569956ed421d80c58086363cb464427...</td>\n",
       "    </tr>\n",
       "    <tr>\n",
       "      <th>4</th>\n",
       "      <td>636</td>\n",
       "      <td>3fb27b882f9ba1da80b2b8fe68c436ceb572c5d69abc5e...</td>\n",
       "      <td>I</td>\n",
       "      <td>9</td>\n",
       "      <td></td>\n",
       "      <td></td>\n",
       "      <td>562.1</td>\n",
       "      <td>562.1</td>\n",
       "      <td>79.34</td>\n",
       "      <td>211.3</td>\n",
       "      <td>45.5</td>\n",
       "      <td></td>\n",
       "      <td></td>\n",
       "      <td></td>\n",
       "      <td></td>\n",
       "      <td></td>\n",
       "      <td></td>\n",
       "      <td></td>\n",
       "      <td></td>\n",
       "      <td></td>\n",
       "      <td></td>\n",
       "      <td></td>\n",
       "      <td></td>\n",
       "      <td></td>\n",
       "      <td></td>\n",
       "      <td></td>\n",
       "      <td></td>\n",
       "      <td></td>\n",
       "      <td></td>\n",
       "      <td></td>\n",
       "      <td></td>\n",
       "      <td></td>\n",
       "      <td>146</td>\n",
       "      <td></td>\n",
       "      <td></td>\n",
       "      <td></td>\n",
       "      <td></td>\n",
       "      <td></td>\n",
       "      <td></td>\n",
       "      <td></td>\n",
       "      <td></td>\n",
       "      <td></td>\n",
       "      <td></td>\n",
       "      <td></td>\n",
       "      <td></td>\n",
       "      <td></td>\n",
       "      <td></td>\n",
       "      <td></td>\n",
       "      <td>09ba0c67ea0d3e24fc368cf371f022c2cb18f2a3caa48b...</td>\n",
       "      <td>000000432100</td>\n",
       "      <td>131</td>\n",
       "      <td>f4fe9d68e9a06488e63ab414c44bbb6f7c37ecb6a3320c...</td>\n",
       "      <td>b4730e5b559347e2db23c0086492d99dc1cef0d0b16120...</td>\n",
       "    </tr>\n",
       "  </tbody>\n",
       "</table>\n",
       "</div>"
      ],
      "text/plain": [
       "   index                                      encounter_key claim_type_code  \\\n",
       "0    125  b2ff5e25ef396d1b37da4bd7f7bc4ed7bf63242f6807de...               I   \n",
       "1    435  ecff758b15a1a6e93c09f6d3adc7033b27ba48f824d045...               I   \n",
       "2    564  19b516dd184c38e369d34fc774286bcc702b16759753f3...               I   \n",
       "3    618  4c231bb6dc7e12b6b54af0ca6d421b3203d2cf4f61f923...               I   \n",
       "4    636  3fb27b882f9ba1da80b2b8fe68c436ceb572c5d69abc5e...               I   \n",
       "\n",
       "  icd_type discharge_status_code admit_type_code     DA     D1     D2     D3  \\\n",
       "0        9                                        562.1  562.1  211.3          \n",
       "1        9                    01               3  54.39  54.39  211.3          \n",
       "2        9                                        57.81  57.81  211.3   45.5   \n",
       "3        9                    01               1  56.93  532.4  28.51   59.9   \n",
       "4        9                                        562.1  562.1  79.34  211.3   \n",
       "\n",
       "      D4      D5     D6   D7 D8 D9    D10    D11   D12    D13    D14   D15  \\\n",
       "0                                                                            \n",
       "1  40.19  414.01  27.24                                                      \n",
       "2  44.89  569.49                                                             \n",
       "3  88.82   27.61  40.19  414        211.3  535.6  57.9  27.38  211.4  45.5   \n",
       "4   45.5                                                                     \n",
       "\n",
       "  D16 D17 D18 D19 D20 D21 D22 D23 D24 D25 diagnosis_group     P1     P2 P3 P4  \\\n",
       "0                                                     146                       \n",
       "1                                                     142  47.01                \n",
       "2                                                     153                       \n",
       "3                                                     153  45.16  45.42         \n",
       "4                                                     146                       \n",
       "\n",
       "  P5 P6 P7 P8 P9 P10 P11 P12 P13 P14 P15  \\\n",
       "0                                          \n",
       "1                                          \n",
       "2                                          \n",
       "3                                          \n",
       "4                                          \n",
       "\n",
       "                                          patient_id  \\\n",
       "0  dce553a9508c25e439171274397adf3be0c31182c5d4bf...   \n",
       "1  f157360c6b7894973d598204e725a5887b27b0072f2d13...   \n",
       "2  4544ac27e14e02f16689c6ae2dab0a004b1610617e4b11...   \n",
       "3  f9f5840f724cd2b0007f49b5d8a10eec5b25da82f5d605...   \n",
       "4  09ba0c67ea0d3e24fc368cf371f022c2cb18f2a3caa48b...   \n",
       "\n",
       "  total_claim_charge_amount bill_type_code  \\\n",
       "0              000000740000            831   \n",
       "1              000001844476            111   \n",
       "2              000000236033            131   \n",
       "3              000003316075            117   \n",
       "4              000000432100            131   \n",
       "\n",
       "                                           doctor_id  \\\n",
       "0  924f908412a2243aefaaf1a1abbe0651e668e6340c3993...   \n",
       "1  880251f5ae409dc658535736b41eadc8456f569f7f9828...   \n",
       "2  95558115a97a04dea62cc868bc5a4f7868c59771eb8376...   \n",
       "3  9de9d46a7b57ce0ad6c4d6e26780c8b4a49252c0957409...   \n",
       "4  f4fe9d68e9a06488e63ab414c44bbb6f7c37ecb6a3320c...   \n",
       "\n",
       "                                         hospital_id  \n",
       "0  be265ef876f368e9285623d4202c2db129aaf401c5449f...  \n",
       "1  09b2a1add271711f7cda18eedb9a9a6315f4a103e605cf...  \n",
       "2  1c0a6598efb9ee9c9e2a875b5a8d327f161b6df34c20b9...  \n",
       "3  9d15ec3cbf06399569956ed421d80c58086363cb464427...  \n",
       "4  b4730e5b559347e2db23c0086492d99dc1cef0d0b16120...  "
      ]
     },
     "execution_count": 6,
     "metadata": {},
     "output_type": "execute_result"
    }
   ],
   "source": [
    "df_benign.head()"
   ]
  },
  {
   "cell_type": "markdown",
   "metadata": {},
   "source": [
    "### Using get_list_codes(start, end, step) to get a range of code for example 44150-44160 or 152.*\n",
    "End must be bigger than start and step should not be bigger than both start and end\n",
    "\n",
    "Function can accept float or int but not string"
   ]
  },
  {
   "cell_type": "code",
   "execution_count": 7,
   "metadata": {},
   "outputs": [],
   "source": [
    "codes = tool.get_list_codes(152.0,152.9,0.1)"
   ]
  },
  {
   "cell_type": "markdown",
   "metadata": {},
   "source": [
    "### Exclude patients who have maligant polyups alongside benign polyps"
   ]
  },
  {
   "cell_type": "code",
   "execution_count": 8,
   "metadata": {},
   "outputs": [],
   "source": [
    "df_better = tool.find_codes(df_benign, codes, filter=2)"
   ]
  },
  {
   "cell_type": "code",
   "execution_count": 9,
   "metadata": {},
   "outputs": [
    {
     "data": {
      "text/html": [
       "<div>\n",
       "<style scoped>\n",
       "    .dataframe tbody tr th:only-of-type {\n",
       "        vertical-align: middle;\n",
       "    }\n",
       "\n",
       "    .dataframe tbody tr th {\n",
       "        vertical-align: top;\n",
       "    }\n",
       "\n",
       "    .dataframe thead th {\n",
       "        text-align: right;\n",
       "    }\n",
       "</style>\n",
       "<table border=\"1\" class=\"dataframe\">\n",
       "  <thead>\n",
       "    <tr style=\"text-align: right;\">\n",
       "      <th></th>\n",
       "      <th>index</th>\n",
       "      <th>encounter_key</th>\n",
       "      <th>claim_type_code</th>\n",
       "      <th>icd_type</th>\n",
       "      <th>discharge_status_code</th>\n",
       "      <th>admit_type_code</th>\n",
       "      <th>DA</th>\n",
       "      <th>D1</th>\n",
       "      <th>D2</th>\n",
       "      <th>D3</th>\n",
       "      <th>D4</th>\n",
       "      <th>D5</th>\n",
       "      <th>D6</th>\n",
       "      <th>D7</th>\n",
       "      <th>D8</th>\n",
       "      <th>D9</th>\n",
       "      <th>D10</th>\n",
       "      <th>D11</th>\n",
       "      <th>D12</th>\n",
       "      <th>D13</th>\n",
       "      <th>D14</th>\n",
       "      <th>D15</th>\n",
       "      <th>D16</th>\n",
       "      <th>D17</th>\n",
       "      <th>D18</th>\n",
       "      <th>D19</th>\n",
       "      <th>D20</th>\n",
       "      <th>D21</th>\n",
       "      <th>D22</th>\n",
       "      <th>D23</th>\n",
       "      <th>D24</th>\n",
       "      <th>D25</th>\n",
       "      <th>diagnosis_group</th>\n",
       "      <th>P1</th>\n",
       "      <th>P2</th>\n",
       "      <th>P3</th>\n",
       "      <th>P4</th>\n",
       "      <th>P5</th>\n",
       "      <th>P6</th>\n",
       "      <th>P7</th>\n",
       "      <th>P8</th>\n",
       "      <th>P9</th>\n",
       "      <th>P10</th>\n",
       "      <th>P11</th>\n",
       "      <th>P12</th>\n",
       "      <th>P13</th>\n",
       "      <th>P14</th>\n",
       "      <th>P15</th>\n",
       "      <th>patient_id</th>\n",
       "      <th>total_claim_charge_amount</th>\n",
       "      <th>bill_type_code</th>\n",
       "      <th>doctor_id</th>\n",
       "      <th>hospital_id</th>\n",
       "    </tr>\n",
       "  </thead>\n",
       "  <tbody>\n",
       "    <tr>\n",
       "      <th>0</th>\n",
       "      <td>125</td>\n",
       "      <td>b2ff5e25ef396d1b37da4bd7f7bc4ed7bf63242f6807de...</td>\n",
       "      <td>I</td>\n",
       "      <td>9</td>\n",
       "      <td></td>\n",
       "      <td></td>\n",
       "      <td>562.1</td>\n",
       "      <td>562.1</td>\n",
       "      <td>211.3</td>\n",
       "      <td></td>\n",
       "      <td></td>\n",
       "      <td></td>\n",
       "      <td></td>\n",
       "      <td></td>\n",
       "      <td></td>\n",
       "      <td></td>\n",
       "      <td></td>\n",
       "      <td></td>\n",
       "      <td></td>\n",
       "      <td></td>\n",
       "      <td></td>\n",
       "      <td></td>\n",
       "      <td></td>\n",
       "      <td></td>\n",
       "      <td></td>\n",
       "      <td></td>\n",
       "      <td></td>\n",
       "      <td></td>\n",
       "      <td></td>\n",
       "      <td></td>\n",
       "      <td></td>\n",
       "      <td></td>\n",
       "      <td>146</td>\n",
       "      <td></td>\n",
       "      <td></td>\n",
       "      <td></td>\n",
       "      <td></td>\n",
       "      <td></td>\n",
       "      <td></td>\n",
       "      <td></td>\n",
       "      <td></td>\n",
       "      <td></td>\n",
       "      <td></td>\n",
       "      <td></td>\n",
       "      <td></td>\n",
       "      <td></td>\n",
       "      <td></td>\n",
       "      <td></td>\n",
       "      <td>dce553a9508c25e439171274397adf3be0c31182c5d4bf...</td>\n",
       "      <td>000000740000</td>\n",
       "      <td>831</td>\n",
       "      <td>924f908412a2243aefaaf1a1abbe0651e668e6340c3993...</td>\n",
       "      <td>be265ef876f368e9285623d4202c2db129aaf401c5449f...</td>\n",
       "    </tr>\n",
       "    <tr>\n",
       "      <th>1</th>\n",
       "      <td>435</td>\n",
       "      <td>ecff758b15a1a6e93c09f6d3adc7033b27ba48f824d045...</td>\n",
       "      <td>I</td>\n",
       "      <td>9</td>\n",
       "      <td>01</td>\n",
       "      <td>3</td>\n",
       "      <td>54.39</td>\n",
       "      <td>54.39</td>\n",
       "      <td>211.3</td>\n",
       "      <td></td>\n",
       "      <td>40.19</td>\n",
       "      <td>414.01</td>\n",
       "      <td>27.24</td>\n",
       "      <td></td>\n",
       "      <td></td>\n",
       "      <td></td>\n",
       "      <td></td>\n",
       "      <td></td>\n",
       "      <td></td>\n",
       "      <td></td>\n",
       "      <td></td>\n",
       "      <td></td>\n",
       "      <td></td>\n",
       "      <td></td>\n",
       "      <td></td>\n",
       "      <td></td>\n",
       "      <td></td>\n",
       "      <td></td>\n",
       "      <td></td>\n",
       "      <td></td>\n",
       "      <td></td>\n",
       "      <td></td>\n",
       "      <td>142</td>\n",
       "      <td>47.01</td>\n",
       "      <td></td>\n",
       "      <td></td>\n",
       "      <td></td>\n",
       "      <td></td>\n",
       "      <td></td>\n",
       "      <td></td>\n",
       "      <td></td>\n",
       "      <td></td>\n",
       "      <td></td>\n",
       "      <td></td>\n",
       "      <td></td>\n",
       "      <td></td>\n",
       "      <td></td>\n",
       "      <td></td>\n",
       "      <td>f157360c6b7894973d598204e725a5887b27b0072f2d13...</td>\n",
       "      <td>000001844476</td>\n",
       "      <td>111</td>\n",
       "      <td>880251f5ae409dc658535736b41eadc8456f569f7f9828...</td>\n",
       "      <td>09b2a1add271711f7cda18eedb9a9a6315f4a103e605cf...</td>\n",
       "    </tr>\n",
       "    <tr>\n",
       "      <th>2</th>\n",
       "      <td>564</td>\n",
       "      <td>19b516dd184c38e369d34fc774286bcc702b16759753f3...</td>\n",
       "      <td>I</td>\n",
       "      <td>9</td>\n",
       "      <td></td>\n",
       "      <td></td>\n",
       "      <td>57.81</td>\n",
       "      <td>57.81</td>\n",
       "      <td>211.3</td>\n",
       "      <td>45.5</td>\n",
       "      <td>44.89</td>\n",
       "      <td>569.49</td>\n",
       "      <td></td>\n",
       "      <td></td>\n",
       "      <td></td>\n",
       "      <td></td>\n",
       "      <td></td>\n",
       "      <td></td>\n",
       "      <td></td>\n",
       "      <td></td>\n",
       "      <td></td>\n",
       "      <td></td>\n",
       "      <td></td>\n",
       "      <td></td>\n",
       "      <td></td>\n",
       "      <td></td>\n",
       "      <td></td>\n",
       "      <td></td>\n",
       "      <td></td>\n",
       "      <td></td>\n",
       "      <td></td>\n",
       "      <td></td>\n",
       "      <td>153</td>\n",
       "      <td></td>\n",
       "      <td></td>\n",
       "      <td></td>\n",
       "      <td></td>\n",
       "      <td></td>\n",
       "      <td></td>\n",
       "      <td></td>\n",
       "      <td></td>\n",
       "      <td></td>\n",
       "      <td></td>\n",
       "      <td></td>\n",
       "      <td></td>\n",
       "      <td></td>\n",
       "      <td></td>\n",
       "      <td></td>\n",
       "      <td>4544ac27e14e02f16689c6ae2dab0a004b1610617e4b11...</td>\n",
       "      <td>000000236033</td>\n",
       "      <td>131</td>\n",
       "      <td>95558115a97a04dea62cc868bc5a4f7868c59771eb8376...</td>\n",
       "      <td>1c0a6598efb9ee9c9e2a875b5a8d327f161b6df34c20b9...</td>\n",
       "    </tr>\n",
       "    <tr>\n",
       "      <th>3</th>\n",
       "      <td>618</td>\n",
       "      <td>4c231bb6dc7e12b6b54af0ca6d421b3203d2cf4f61f923...</td>\n",
       "      <td>I</td>\n",
       "      <td>9</td>\n",
       "      <td>01</td>\n",
       "      <td>1</td>\n",
       "      <td>56.93</td>\n",
       "      <td>532.4</td>\n",
       "      <td>28.51</td>\n",
       "      <td>59.9</td>\n",
       "      <td>88.82</td>\n",
       "      <td>27.61</td>\n",
       "      <td>40.19</td>\n",
       "      <td>414</td>\n",
       "      <td></td>\n",
       "      <td></td>\n",
       "      <td>211.3</td>\n",
       "      <td>535.6</td>\n",
       "      <td>57.9</td>\n",
       "      <td>27.38</td>\n",
       "      <td>211.4</td>\n",
       "      <td>45.5</td>\n",
       "      <td></td>\n",
       "      <td></td>\n",
       "      <td></td>\n",
       "      <td></td>\n",
       "      <td></td>\n",
       "      <td></td>\n",
       "      <td></td>\n",
       "      <td></td>\n",
       "      <td></td>\n",
       "      <td></td>\n",
       "      <td>153</td>\n",
       "      <td>45.16</td>\n",
       "      <td>45.42</td>\n",
       "      <td></td>\n",
       "      <td></td>\n",
       "      <td></td>\n",
       "      <td></td>\n",
       "      <td></td>\n",
       "      <td></td>\n",
       "      <td></td>\n",
       "      <td></td>\n",
       "      <td></td>\n",
       "      <td></td>\n",
       "      <td></td>\n",
       "      <td></td>\n",
       "      <td></td>\n",
       "      <td>f9f5840f724cd2b0007f49b5d8a10eec5b25da82f5d605...</td>\n",
       "      <td>000003316075</td>\n",
       "      <td>117</td>\n",
       "      <td>9de9d46a7b57ce0ad6c4d6e26780c8b4a49252c0957409...</td>\n",
       "      <td>9d15ec3cbf06399569956ed421d80c58086363cb464427...</td>\n",
       "    </tr>\n",
       "    <tr>\n",
       "      <th>4</th>\n",
       "      <td>636</td>\n",
       "      <td>3fb27b882f9ba1da80b2b8fe68c436ceb572c5d69abc5e...</td>\n",
       "      <td>I</td>\n",
       "      <td>9</td>\n",
       "      <td></td>\n",
       "      <td></td>\n",
       "      <td>562.1</td>\n",
       "      <td>562.1</td>\n",
       "      <td>79.34</td>\n",
       "      <td>211.3</td>\n",
       "      <td>45.5</td>\n",
       "      <td></td>\n",
       "      <td></td>\n",
       "      <td></td>\n",
       "      <td></td>\n",
       "      <td></td>\n",
       "      <td></td>\n",
       "      <td></td>\n",
       "      <td></td>\n",
       "      <td></td>\n",
       "      <td></td>\n",
       "      <td></td>\n",
       "      <td></td>\n",
       "      <td></td>\n",
       "      <td></td>\n",
       "      <td></td>\n",
       "      <td></td>\n",
       "      <td></td>\n",
       "      <td></td>\n",
       "      <td></td>\n",
       "      <td></td>\n",
       "      <td></td>\n",
       "      <td>146</td>\n",
       "      <td></td>\n",
       "      <td></td>\n",
       "      <td></td>\n",
       "      <td></td>\n",
       "      <td></td>\n",
       "      <td></td>\n",
       "      <td></td>\n",
       "      <td></td>\n",
       "      <td></td>\n",
       "      <td></td>\n",
       "      <td></td>\n",
       "      <td></td>\n",
       "      <td></td>\n",
       "      <td></td>\n",
       "      <td></td>\n",
       "      <td>09ba0c67ea0d3e24fc368cf371f022c2cb18f2a3caa48b...</td>\n",
       "      <td>000000432100</td>\n",
       "      <td>131</td>\n",
       "      <td>f4fe9d68e9a06488e63ab414c44bbb6f7c37ecb6a3320c...</td>\n",
       "      <td>b4730e5b559347e2db23c0086492d99dc1cef0d0b16120...</td>\n",
       "    </tr>\n",
       "  </tbody>\n",
       "</table>\n",
       "</div>"
      ],
      "text/plain": [
       "   index                                      encounter_key claim_type_code  \\\n",
       "0    125  b2ff5e25ef396d1b37da4bd7f7bc4ed7bf63242f6807de...               I   \n",
       "1    435  ecff758b15a1a6e93c09f6d3adc7033b27ba48f824d045...               I   \n",
       "2    564  19b516dd184c38e369d34fc774286bcc702b16759753f3...               I   \n",
       "3    618  4c231bb6dc7e12b6b54af0ca6d421b3203d2cf4f61f923...               I   \n",
       "4    636  3fb27b882f9ba1da80b2b8fe68c436ceb572c5d69abc5e...               I   \n",
       "\n",
       "  icd_type discharge_status_code admit_type_code     DA     D1     D2     D3  \\\n",
       "0        9                                        562.1  562.1  211.3          \n",
       "1        9                    01               3  54.39  54.39  211.3          \n",
       "2        9                                        57.81  57.81  211.3   45.5   \n",
       "3        9                    01               1  56.93  532.4  28.51   59.9   \n",
       "4        9                                        562.1  562.1  79.34  211.3   \n",
       "\n",
       "      D4      D5     D6   D7 D8 D9    D10    D11   D12    D13    D14   D15  \\\n",
       "0                                                                            \n",
       "1  40.19  414.01  27.24                                                      \n",
       "2  44.89  569.49                                                             \n",
       "3  88.82   27.61  40.19  414        211.3  535.6  57.9  27.38  211.4  45.5   \n",
       "4   45.5                                                                     \n",
       "\n",
       "  D16 D17 D18 D19 D20 D21 D22 D23 D24 D25 diagnosis_group     P1     P2 P3 P4  \\\n",
       "0                                                     146                       \n",
       "1                                                     142  47.01                \n",
       "2                                                     153                       \n",
       "3                                                     153  45.16  45.42         \n",
       "4                                                     146                       \n",
       "\n",
       "  P5 P6 P7 P8 P9 P10 P11 P12 P13 P14 P15  \\\n",
       "0                                          \n",
       "1                                          \n",
       "2                                          \n",
       "3                                          \n",
       "4                                          \n",
       "\n",
       "                                          patient_id  \\\n",
       "0  dce553a9508c25e439171274397adf3be0c31182c5d4bf...   \n",
       "1  f157360c6b7894973d598204e725a5887b27b0072f2d13...   \n",
       "2  4544ac27e14e02f16689c6ae2dab0a004b1610617e4b11...   \n",
       "3  f9f5840f724cd2b0007f49b5d8a10eec5b25da82f5d605...   \n",
       "4  09ba0c67ea0d3e24fc368cf371f022c2cb18f2a3caa48b...   \n",
       "\n",
       "  total_claim_charge_amount bill_type_code  \\\n",
       "0              000000740000            831   \n",
       "1              000001844476            111   \n",
       "2              000000236033            131   \n",
       "3              000003316075            117   \n",
       "4              000000432100            131   \n",
       "\n",
       "                                           doctor_id  \\\n",
       "0  924f908412a2243aefaaf1a1abbe0651e668e6340c3993...   \n",
       "1  880251f5ae409dc658535736b41eadc8456f569f7f9828...   \n",
       "2  95558115a97a04dea62cc868bc5a4f7868c59771eb8376...   \n",
       "3  9de9d46a7b57ce0ad6c4d6e26780c8b4a49252c0957409...   \n",
       "4  f4fe9d68e9a06488e63ab414c44bbb6f7c37ecb6a3320c...   \n",
       "\n",
       "                                         hospital_id  \n",
       "0  be265ef876f368e9285623d4202c2db129aaf401c5449f...  \n",
       "1  09b2a1add271711f7cda18eedb9a9a6315f4a103e605cf...  \n",
       "2  1c0a6598efb9ee9c9e2a875b5a8d327f161b6df34c20b9...  \n",
       "3  9d15ec3cbf06399569956ed421d80c58086363cb464427...  \n",
       "4  b4730e5b559347e2db23c0086492d99dc1cef0d0b16120...  "
      ]
     },
     "execution_count": 9,
     "metadata": {},
     "output_type": "execute_result"
    }
   ],
   "source": [
    "df_better.head()"
   ]
  },
  {
   "cell_type": "markdown",
   "metadata": {},
   "source": [
    "### Using get_list_codes to get a list of all colectomy resection code"
   ]
  },
  {
   "cell_type": "code",
   "execution_count": 10,
   "metadata": {},
   "outputs": [],
   "source": [
    "codes_ = [44110, 44146] + tool.get_list_codes(44150,44160,1) + tool.get_list_codes(44204,44208,1) + tool.get_list_codes(44210,44212,1) + tool.get_list_codes(45.7, 45.89, 0.01)"
   ]
  },
  {
   "cell_type": "markdown",
   "metadata": {},
   "source": [
    "### Using violation_rate(left, right, codes) to find violation rate\n",
    "#### Function strictly use to find violation rate (number of any violation/ number of patients diagnosed with the any health problem)\n",
    "Function receives two dataframe one of which is the medical_service_lines table dataframe, and receives violation medical code"
   ]
  },
  {
   "cell_type": "code",
   "execution_count": 12,
   "metadata": {},
   "outputs": [],
   "source": [
    "df = tool.violation_rate(df_better, df_service, codes_)"
   ]
  },
  {
   "cell_type": "code",
   "execution_count": 13,
   "metadata": {},
   "outputs": [
    {
     "data": {
      "text/html": [
       "<div>\n",
       "<style scoped>\n",
       "    .dataframe tbody tr th:only-of-type {\n",
       "        vertical-align: middle;\n",
       "    }\n",
       "\n",
       "    .dataframe tbody tr th {\n",
       "        vertical-align: top;\n",
       "    }\n",
       "\n",
       "    .dataframe thead th {\n",
       "        text-align: right;\n",
       "    }\n",
       "</style>\n",
       "<table border=\"1\" class=\"dataframe\">\n",
       "  <thead>\n",
       "    <tr style=\"text-align: right;\">\n",
       "      <th></th>\n",
       "      <th>doctor_id</th>\n",
       "      <th>index</th>\n",
       "      <th>violate</th>\n",
       "      <th>number_of_patients</th>\n",
       "      <th>rate</th>\n",
       "    </tr>\n",
       "  </thead>\n",
       "  <tbody>\n",
       "    <tr>\n",
       "      <th>0</th>\n",
       "      <td>00011a3bdb96736407f60e498f001ac8075a4260bd805c...</td>\n",
       "      <td>612945</td>\n",
       "      <td>0</td>\n",
       "      <td>1</td>\n",
       "      <td>0.0</td>\n",
       "    </tr>\n",
       "    <tr>\n",
       "      <th>1106</th>\n",
       "      <td>98ca567d088303c2fb5c33308150862e49b4c6421f7acc...</td>\n",
       "      <td>154390</td>\n",
       "      <td>0</td>\n",
       "      <td>1</td>\n",
       "      <td>0.0</td>\n",
       "    </tr>\n",
       "    <tr>\n",
       "      <th>1105</th>\n",
       "      <td>98c23667dc9984057165832ee6c3093c6d0af00ec705af...</td>\n",
       "      <td>114560</td>\n",
       "      <td>0</td>\n",
       "      <td>1</td>\n",
       "      <td>0.0</td>\n",
       "    </tr>\n",
       "    <tr>\n",
       "      <th>1100</th>\n",
       "      <td>975e2870b6d2dc73302bb128cab23fc9abb8c34e128714...</td>\n",
       "      <td>929303</td>\n",
       "      <td>0</td>\n",
       "      <td>1</td>\n",
       "      <td>0.0</td>\n",
       "    </tr>\n",
       "    <tr>\n",
       "      <th>1099</th>\n",
       "      <td>96f57f1f4af23beede5e1d6f2bdcaa92ad1f21317ddbd9...</td>\n",
       "      <td>180199</td>\n",
       "      <td>0</td>\n",
       "      <td>1</td>\n",
       "      <td>0.0</td>\n",
       "    </tr>\n",
       "    <tr>\n",
       "      <th>...</th>\n",
       "      <td>...</td>\n",
       "      <td>...</td>\n",
       "      <td>...</td>\n",
       "      <td>...</td>\n",
       "      <td>...</td>\n",
       "    </tr>\n",
       "    <tr>\n",
       "      <th>335</th>\n",
       "      <td>2e86ff1ccfddd631a78c8bf195027a815a312f1aed1e27...</td>\n",
       "      <td>1225931</td>\n",
       "      <td>1</td>\n",
       "      <td>1</td>\n",
       "      <td>1.0</td>\n",
       "    </tr>\n",
       "    <tr>\n",
       "      <th>1549</th>\n",
       "      <td>cf395fe624cffc35f80f069219530cc0ffa67f1a61f233...</td>\n",
       "      <td>1195497</td>\n",
       "      <td>1</td>\n",
       "      <td>1</td>\n",
       "      <td>1.0</td>\n",
       "    </tr>\n",
       "    <tr>\n",
       "      <th>968</th>\n",
       "      <td>861d922b2adf4a171a3682f44496642ab2d7c851498c9c...</td>\n",
       "      <td>893983</td>\n",
       "      <td>2</td>\n",
       "      <td>2</td>\n",
       "      <td>1.0</td>\n",
       "    </tr>\n",
       "    <tr>\n",
       "      <th>831</th>\n",
       "      <td>73ab3aab24f34db8a2455ea293403bceb04d8873073266...</td>\n",
       "      <td>3196684</td>\n",
       "      <td>2</td>\n",
       "      <td>2</td>\n",
       "      <td>1.0</td>\n",
       "    </tr>\n",
       "    <tr>\n",
       "      <th>603</th>\n",
       "      <td>527269dc0a85f0ed169f106254b8845cdfabc62732d8c2...</td>\n",
       "      <td>591837</td>\n",
       "      <td>1</td>\n",
       "      <td>1</td>\n",
       "      <td>1.0</td>\n",
       "    </tr>\n",
       "  </tbody>\n",
       "</table>\n",
       "<p>1899 rows × 5 columns</p>\n",
       "</div>"
      ],
      "text/plain": [
       "                                              doctor_id    index  violate  \\\n",
       "0     00011a3bdb96736407f60e498f001ac8075a4260bd805c...   612945        0   \n",
       "1106  98ca567d088303c2fb5c33308150862e49b4c6421f7acc...   154390        0   \n",
       "1105  98c23667dc9984057165832ee6c3093c6d0af00ec705af...   114560        0   \n",
       "1100  975e2870b6d2dc73302bb128cab23fc9abb8c34e128714...   929303        0   \n",
       "1099  96f57f1f4af23beede5e1d6f2bdcaa92ad1f21317ddbd9...   180199        0   \n",
       "...                                                 ...      ...      ...   \n",
       "335   2e86ff1ccfddd631a78c8bf195027a815a312f1aed1e27...  1225931        1   \n",
       "1549  cf395fe624cffc35f80f069219530cc0ffa67f1a61f233...  1195497        1   \n",
       "968   861d922b2adf4a171a3682f44496642ab2d7c851498c9c...   893983        2   \n",
       "831   73ab3aab24f34db8a2455ea293403bceb04d8873073266...  3196684        2   \n",
       "603   527269dc0a85f0ed169f106254b8845cdfabc62732d8c2...   591837        1   \n",
       "\n",
       "      number_of_patients  rate  \n",
       "0                      1   0.0  \n",
       "1106                   1   0.0  \n",
       "1105                   1   0.0  \n",
       "1100                   1   0.0  \n",
       "1099                   1   0.0  \n",
       "...                  ...   ...  \n",
       "335                    1   1.0  \n",
       "1549                   1   1.0  \n",
       "968                    2   1.0  \n",
       "831                    2   1.0  \n",
       "603                    1   1.0  \n",
       "\n",
       "[1899 rows x 5 columns]"
      ]
     },
     "execution_count": 13,
     "metadata": {},
     "output_type": "execute_result"
    }
   ],
   "source": [
    "df.sort_values(by=['rate'])"
   ]
  },
  {
   "cell_type": "markdown",
   "metadata": {},
   "source": [
    "## Analyze\n",
    "Ranking doctor based on violation rate is not entirely accurate\\\n",
    "Looking at the histogram we can see there are a lot of doctors who has 0% violation rate which mean they did not refer colectomy resection for their benign colon polyp patients\\\n",
    "However based on the scatter plot, we can see a lot of flawless doctors did not treat many colon polyp patients.\\\n",
    "We should recommend doctors who has the lowest rate with the highest amount of benign colon polyp patients"
   ]
  },
  {
   "cell_type": "code",
   "execution_count": 14,
   "metadata": {},
   "outputs": [
    {
     "data": {
      "text/plain": [
       "<AxesSubplot:>"
      ]
     },
     "execution_count": 14,
     "metadata": {},
     "output_type": "execute_result"
    },
    {
     "data": {
      "image/png": "[encoded data removed]",
      "text/plain": [
       "<Figure size 432x288 with 1 Axes>"
      ]
     },
     "metadata": {
      "needs_background": "light"
     },
     "output_type": "display_data"
    }
   ],
   "source": [
    "df['rate'].hist(bins=100)"
   ]
  },
  {
   "cell_type": "code",
   "execution_count": 15,
   "metadata": {},
   "outputs": [
    {
     "data": {
      "application/vnd.plotly.v1+json": {
       "config": {
        "plotlyServerURL": "https://plot.ly"
       },
       "data": [
        {
         "customdata": [
          [
           "00011a3bdb96736407f60e498f001ac8075a4260bd805ca0e9740df52f5d3944"
          ],
          [
           "0039d4128cf7ae2e9a637ded9b0f056aecda20105c5b1fa176ac84dc1fdcb5af"
          ],
          [
           "0053f157450476af69c501f39e8780d7cea30aafbfb9a2f0e6b2a1ee54e1f0e5"
          ],
          [
           "006764cf23e7df5bf91511cf1c2c78903ee7c1683a936d4ba6e080fac7b7d681"
          ],
          [
           "0067c410b32482e2e46323b01a592300a87c9ae54b5ab400f0d173b15ab4ec56"
          ],
          [
           "00759ce2603396dda4ed1b4b2fc8b080acc5076d41fa1d3502eb7fb50645e6e5"
          ],
          [
           "007a1afad99071d1f2cc5baeacaee818a604d689744e551f81f183d9a1c2e3fe"
          ],
          [
           "00d2da293998cebb9a57036a2a914dbba4e96e4e272e6c05967137ec8574dd0c"
          ],
          [
           "00d869e44e2a6fb384552b7eaec439bb4f4390dfda22170922c704a6a44dbdeb"
          ],
          [
           "00ee278c5cf35e57d0c5fc0713be0d86586986bf7adb0217482564d70c5c0e0e"
          ],
          [
           "010a2d44fb509a52076a97b56132326b7b792da6e8017ee8691a3b120c0d3290"
          ],
          [
           "01324f85867eee3b706f934c90d2cf1b9aa998b8401e0bc7f241eb65e63801be"
          ],
          [
           "0139ffe055a33b965049c60a0361ca6960ab1cd5eb0ec0dfccad8d6de2ad5a99"
          ],
          [
           "01469d5cbaa6e581fd5cfb42d19dd9f2edfc52178924e8d459f50a657bf179e6"
          ],
          [
           "01857ea7ab6bc8845ca6e27f9eea98d0566895935ba613c39d0fab1b5bfae745"
          ],
          [
           "02283330c9abd4cc420ebc61f44678ec2892c8429824e9a016bf30bc97cd934f"
          ],
          [
           "0230a6461c5c5c70886134bab2f939f31a2b0fa63e7d5383b292fed8406a426c"
          ],
          [
           "0234034ce12f711ec2a049728a93c51607adea0b9744933b46225ac55df02ba5"
          ],
          [
           "02b936724394d86f0950e1247bd61abeed9f65a708ff234152be268283f9d1b2"
          ],
          [
           "031003e72ed9beba54316c9e0758ba65dbb07a45185ede4fe27e23bd02415db9"
          ],
          [
           "032d9bc6b4ecc95af33616d413212769de3950d87d119b32e2e3c80a3e19d850"
          ],
          [
           "03306f82257233df3a372159a7ed16356370ca0b9ef898be7e796ae8267e3fd3"
          ],
          [
           "0337e0b39905ed3a61412dd9567ab6592f2039f1737eac287656bd20c719dcaf"
          ],
          [
           "0352c3ddbb25027eb0544d01d73a79992a1985dc7149e97a48ab4dcdfc5fc938"
          ],
          [
           "03848228989c6c44851e94db63fd511dc8e0cc7c222f9b5eb32ce91dc0943ecf"
          ],
          [
           "03a7caba1716713146e5f0d513dc8c8ec94d662a10bb7ed4fc8073792ce9e648"
          ],
          [
           "03add32ad48a85682e5f61341af59c8dbba6aa9bd5e86de85219a773c9487fa8"
          ],
          [
           "03c142e96fea8c5f5345fbf9c9cb594e0af740de155bf58b574c549d481ffd1c"
          ],
          [
           "03c6f31aeaa10c535ba93178b91ca5c2a9a7c0626be59a7d77faa5c1d3ce8cc1"
          ],
          [
           "03e94176d1243a739220d20eb6c9ee1e217e81ba86fb0a29960ee38c30e4a048"
          ],
          [
           "0417edbfc823e5d7754eb603c459656b70ee4f2f5c6d3efefb5c26b7bd3da41d"
          ],
          [
           "042c21a7a035bd4a463aa76e601aeb18b01d14adc9f96f6e1be727728b6f481a"
          ],
          [
           "045fbb7ead0bca7a22adc469e2a407cbdd8830c698bff1cacd860641fcb2b601"
          ],
          [
           "04797e66a1b036e6204937e153526fcf891699a87f77110150a316bcb8137752"
          ],
          [
           "048cc3cbbffd2d93ae0a7644a95a492d81905b456e5bde69ead91e4eb38d2381"
          ],
          [
           "04b7592005b28b074f77159d2b572985d7dfea29b1182fae95a8771756ed2c35"
          ],
          [
           "04c628d218caf09486033adcbbb4906375b18b8b4f750c860958ee6f34b64494"
          ],
          [
           "04eb9ad2f82b3c76a3204e7161f4c9d9fecddbfab0d9971826be9e4f3f08e158"
          ],
          [
           "05441b8fae3c12794c386087a47c9d2023b5d6fd85b35bd5776b336abffed518"
          ],
          [
           "0579954bfbeade6235d45331e46162cd975cd5d1ecba99591bc09c0e2cd5a369"
          ],
          [
           "05ab572679395736a7de9bb81a444b9ee4d5ff64b5ac2fe61d0f7265281e3477"
          ],
          [
           "05c698ddf2d0999812e6289732fdb351a2bc14c62c96d46fe5b84cc6a4ac34a5"
          ],
          [
           "05de13af28804a13dab034852434ecbb774c45f69a22f48948d0adf7a302ade3"
          ],
          [
           "062d07d6116f22151b62eb842d2c30e4709a393aa1b704720868db86e6a32bc9"
          ],
          [
           "063fdaaadf6d19041937b576ce9d2028d078b3c9439d51f72af7bdf0017de191"
          ],
          [
           "0693b06eccfc7a7cbb89405768cc66622fdbccab3b26ed0bd8654207d801b6ef"
          ],
          [
           "069bb38dc2f7a2451ba221acaf100ce4ac851b65794e950f58dba996c8127efe"
          ],
          [
           "06a3b4152514a89e265bb8a9611d3bb0f52bc3b72f1acf9dbd75bdfd3832153e"
          ],
          [
           "06cd1fdc9a9523e1b12146f68934642455b63461ce20f8022e3c743e6103bb3a"
          ],
          [
           "0705772f9152b24b88c182024970acbc3d163a16bf9226c7ac0509d5cb2ffbde"
          ],
          [
           "0715623c76bf084f26e10862d7b931c39d0e431f6c8d1cb543e6693a403423ea"
          ],
          [
           "0736881d0c32030b229c28fe023aa4f4869df666cf4859d86344231ea1f46a59"
          ],
          [
           "07590cc62297475e6e1cd900174d2cb85198877ab556a66064c375d18c5b2c26"
          ],
          [
           "075d4795ec69e26b048cc1a64fbfd3ba1639e0305148637f1553f947b287d2d5"
          ],
          [
           "07d89aec75014217aaf0078f082ca38a78a934531852584254a7dd7dc66326e8"
          ],
          [
           "086a43ac8f9690768fc62e9e7d9804a4aab372e88e0344176ec64b0b48c207ed"
          ],
          [
           "086a95e6b106e5c277b68754124e11ef95eb045a0193a6b72b66acad13e261bc"
          ],
          [
           "088e7cb495847bd3b5572e285e394af2664e5a62fb92357d16115d095c1dccd3"
          ],
          [
           "08962f61ba04fd11ab599c840e48b46400c033993b96f8807bce401f020f0146"
          ],
          [
           "08bd2c8109f05fc8fe8f41cdefa723dc72e90237fb62e92118b4ed3cdc157b59"
          ],
          [
           "08f5dcc10a6cac28c52af1e18e40db5bd10b8ebb04633e2a41f6b97b8d315fd3"
          ],
          [
           "093025e439b9b072d2c3b1e6ae43070b65febf0df832f70d168d80de94f195c0"
          ],
          [
           "09757528749bee98655133cc68b4d00c96057df409a45b46aa6f8ed4743ee573"
          ],
          [
           "0987e33fe390dfd7bc7a2ab97dc0ce860ca9da490595afd9632b516aeef02c76"
          ],
          [
           "099d48c16c45d12b63b59680cfe91c0befeecca3291a4f829854e0b359faa827"
          ],
          [
           "099d8907f62dfb125435d11c9d40b9bb7cdfd531e456e9027a5090032cf3150e"
          ],
          [
           "09d88fbb17ca24a2f48992cc7d250f56dfbea0094cec54a13ab0268c2530c827"
          ],
          [
           "0a109f070eb537995f4e78aab4c84e06c82a62f3289f064076a0fb1dd46cfb2c"
          ],
          [
           "0a214a7d3fe7a9a2c1aa2374dc94b44db5048f43d98a331fdd0e1c135e5003a1"
          ],
          [
           "0a2e784ef4453dcc5cd19268c4dbcfa429aaa011c8dd96800d45f3de2ffcb91b"
          ],
          [
           "0a6dfa14beebdd49f17d2301a29739256d4a06b056d8837d5f5961eac12a82dd"
          ],
          [
           "0aa98374216599697a9be1b3f3722fd4bf074e1e29ba0220fb2faa5007fc86c2"
          ],
          [
           "0ac712cf9e170026a9f5dc8f2044a83f34ab7a648bf16905365a50d5261fd933"
          ],
          [
           "0add3239e0864b6e76019754a517ec1d78ffc96995b28a8fde7241fc4cea2601"
          ],
          [
           "0b042ef4be3c30848e6b030700e818113a6263e3c6282946d2a884bb4594bda0"
          ],
          [
           "0b157ecc89e1786951f42482f1f2d3b91bcd60c7d86ba672a58a81edcc53ba56"
          ],
          [
           "0b3740df45a71df584374f27a8b303d002d34b79f181358a490f4e2d9a2fe610"
          ],
          [
           "0b4603d7513350238afc2d5080ec3203fc8d54335adbb63cc66d2d8eb5e4c526"
          ],
          [
           "0b86de2eb08ce4ca939c948b30dca0dc944e4f96724b8797228fad9f716fc1cd"
          ],
          [
           "0b8fb0a4e136c42c301d0bf426d308b1ef0d1630d60c61f7d42426c327fd52b6"
          ],
          [
           "0b9904cb6c0369959369c03140b8153f3a4adacd8fb40847b58f37cedc02b1db"
          ],
          [
           "0bc2642e719fdb44976e1883767194ff734196b568eeae2c834450bd6e24d119"
          ],
          [
           "0be43b2e43ba9f36e0800600b6c9a5ab5e1389a0119bfd59032964222b57f209"
          ],
          [
           "0beed660cdcec84303fd1bd4f4959fd5cc44742bd56bcfc7fa529a99c545b4a3"
          ],
          [
           "0bfa46a7e6131c83bb616ab5e7fc6057fadc4f02d5bf772817a194e42083b72c"
          ],
          [
           "0c05cfd71cdc0cda0cd7848d9983520109a40fec59c890258cf00387d19ffa77"
          ],
          [
           "0c517850d37456a9a888267667b51a46ebcec520125fe9b34de5585cdd34861f"
          ],
          [
           "0c9bf2d4af3d0949fc31d36f76187ee9550765de6b58e1112451dd68d018053d"
          ],
          [
           "0cc71689f9f952892e37a9280c0d131a51a0e1b998a4559599cf3ca6049ffd22"
          ],
          [
           "0cd9ed99e28ec6cf09afbf4372a0bd67af85f7f544521c3526909f83b96ec298"
          ],
          [
           "0d326b0c26d65c47ddff4cd67519bbb76ef000f4037e771c7612d38ced71e814"
          ],
          [
           "0d47a86989c0382374a80d614e6ee1fc2d26a145e593f81719f4f1668e2f2117"
          ],
          [
           "0d53191eacc2b92dea79a9c9607b485708e39d46a1969f0cdfd088114363688b"
          ],
          [
           "0d608181ef2d22ecf86e01ff66f893066205d054b3ae523b24cf4bf081c567da"
          ],
          [
           "0d7710cfdaa2384e42a63371843273508e7f92aba10f57bdf35150bfcf67d34c"
          ],
          [
           "0d7db84e74c9c642250e1d53f91945e9177b3676b4523035c5677945acf71510"
          ],
          [
           "0d8b99d348aa1fee6f418baf983f1e3193b07d1c6e2115fd6c1b4071c64a2e16"
          ],
          [
           "0da749816273876fefd4041572e79f13787074f2b4c1c5f287c65d4297fc64a2"
          ],
          [
           "0deca444c4614fae633884dd0456936b7302d0b74df565be61d60e032d0d4d16"
          ],
          [
           "0e3e50140a707629e57ab1ba96d4a106e53a71c2b966cb197cdf572e3ec3879d"
          ],
          [
           "0e4f7af0b307ae0c036aeb32be59fe37be6c3a11a566fddf690a56167191cff4"
          ],
          [
           "0e6e64f759cd14c6e12ad89ea8be9bbb1717bb68fcaa8dd73d95799fbc4de9fb"
          ],
          [
           "0e6fe65be1f9a4ad3fc8bc6430ae7b6ace80561e7c778e4a676404a6e2c3f8c7"
          ],
          [
           "0eae61729f50bba978c8baa40525e934c969cdb282d4867743e49ae97aa0118b"
          ],
          [
           "0ebe57b8eef724cd312ed986dbc3b97e92cbf7ec19d1681d0c35aae6b435c7a9"
          ],
          [
           "0ee6ea85d4a3780c632bf92797d8bf408185d5bff8b2c4acb411869016ad3486"
          ],
          [
           "0f2781bac6fa76533c0611584848972710aedbecb67144c9cc48a9eb0bf821d0"
          ],
          [
           "0f31d3049932158222479dad535635ddf1b783eabc2665841284c75cea5e9817"
          ],
          [
           "0f4cc46bd8dad5ea28d611af82ee90fd41ac08778e62e89d6dc2415a8db8e2f4"
          ],
          [
           "0f9d8de9c75965bde5922bddca163ad00026fc392ff058fc8ae3e52ff4461b27"
          ],
          [
           "0fb799336e39f1576836ac3d8cf8ad423412366a560ab99adda4474774737637"
          ],
          [
           "0fb9f3c1d2c97c273b07ee38963cb79c0df8dc129970ca1db8135d363a58cba8"
          ],
          [
           "1018982890672f89c809932461428d0c294f2b0bc0c9082abf81ff5c052a95c2"
          ],
          [
           "10821d806d7ddb320af3337d541e051e076d7d09db61d30457c126118f5e954c"
          ],
          [
           "10bec89275cf30715396945ffa341c5ecd76ddc4834a85ee5eb60697762d360d"
          ],
          [
           "10cc7fc93efddb2b2f79228050837840701ebc06e2700af2d0cdac239123ac31"
          ],
          [
           "10d9fe7143d4ec111887c2fd15c385402ed3dff6e71a1fcbde196e593c9a0beb"
          ],
          [
           "10f9b36fa44e16341b021485160368d6d0e84aea4484df3bc46d2b05acbdbef0"
          ],
          [
           "1109de6e111cb975b40019aa922579ec9880917bf429a17465342b06404f59a0"
          ],
          [
           "110b5d2ebdf6a317c735008ad2f518beb37d3d6619fa8f8ae1ff46791e78a958"
          ],
          [
           "11409a64ea5efeb8da2357962c42e599b3b13a7b2ce4c4d0cd91719b8905f674"
          ],
          [
           "11431bdd1692edb6a6c8f313878727b8b97ab26530c0aadbacac3953b4475f3a"
          ],
          [
           "1226ea049d206caefa12419a796a39d14f8590a2982339826eb903026617fd7e"
          ],
          [
           "123214c4562f1ac1cd8972368707e1b89f4c2d79ed998bfebe3d58df59b26750"
          ],
          [
           "124e0fe8baf478653c5bb3c4dbd6a478da1c7d7999ca2aacdb733b5ab8b97934"
          ],
          [
           "12ae9e2cfdabe2d01be9d87ec43d335ecc99544e264ac2f24a9933995226a66f"
          ],
          [
           "12d316934554826dc01672d0de86b907a78b4cec61aa00510fcbb7dd062afcf0"
          ],
          [
           "12dd04f679de20adbbb22b6cb95b28ca6187ae634fd65e6641760aba1f57490c"
          ],
          [
           "1328e74f57baa152509ccb24b9384e6dc28baf01426e8a29772b04a8edff6d9f"
          ],
          [
           "1334c7ef90275cf4c554c06dedd87b1eaf9925dd7bf164ce3527a07dd3fe3c0d"
          ],
          [
           "134a94f2a98768be53f5e0e2671d614ef5d6e933dd7d45dcb9051e76e837c857"
          ],
          [
           "138ce99d14e6183c871cbd0e0b68f5bca777ff572c345058ca9fdf8d901ef485"
          ],
          [
           "13ace55f041b88f1117a35536a39fe7ad992c4ba813cf23d30d96a8704101444"
          ],
          [
           "13ba0b830a3dca5fdee1bb2f66977caeb5f2f4f196c2ea51fe7c0a08ed956bb8"
          ],
          [
           "13bfb0f6aa834204428de0badbb5e2803bdfaffcdb8a6ff398924109aa730303"
          ],
          [
           "13d19d8d1241fb8bf7150beb403d5ff8aba87c5ec4244392b05501fff3df87d2"
          ],
          [
           "13d4b3cb5399b64c3868641ca45ad40126c9857e6418ce0432d404ae4d3b7416"
          ],
          [
           "143d1b4d7a25b29336966e9077b57a95931a471884ccfcb4843a5316effaff1d"
          ],
          [
           "14633cabd2b8064d082f44b65d7043bd960e2d2d9ba59852d5ac5adcbda10cec"
          ],
          [
           "14921dd4a7d7ad50515d1578b2fc72f39d31f7acadfc40f8ce535c11c32948b8"
          ],
          [
           "1495ce3eb046b0032a2e36ac86500ebbe78ad31ad7166b3ab06e5ac624c0be8b"
          ],
          [
           "14b40cea32e10ec40af18575d8c21427c3e17a1cacc775562dc74ae41ec35a8b"
          ],
          [
           "14b43686686d1ee4e81b9ea7aa196a739614f7c800979c6bd0aefa09dfe3e833"
          ],
          [
           "14cd208db9b3ee9eb6f4c62a7a8f14b3ef40d61a27ff0b22ffffcd94269297c5"
          ],
          [
           "14e3a7b526e6b649118e3675d9bd16bf22022b52f0a753e11aef3a27c05107b2"
          ],
          [
           "1554f91b7ece0f68bc10475870c81cd7aa236d0d455e30272562af2a6dbdb4fe"
          ],
          [
           "155c9dfd9684eee2166818ae026b6ae26349beaa8a078c7e70d4d5907ee05a92"
          ],
          [
           "15caaaa595462b5325350ded2f09c0f6b47582aa8684798a5a20097f90c1e8c3"
          ],
          [
           "1631ce85770b81838e92bbb8f351dbc120239a039be7347ac209bfed49e34956"
          ],
          [
           "16546215e6d511f41ac37e1979bb13cab1eede775f501c39d3c5ed394d9c400c"
          ],
          [
           "16691c3a6818089cd1c1eee35656803a08877502b67beb09b0204506a4a1c475"
          ],
          [
           "1686cc9bc094baffaeaf249fac6fdc370d6f82d4e11f453e96513c809649ff50"
          ],
          [
           "16e351b43fb8874faa678f3124292e46cb7728a70e8e1e142b42aea4c375c7f0"
          ],
          [
           "16f590bdcc70be677bc9fe2c3e0967a6c9a5599b8bed84d1134441998614a187"
          ],
          [
           "17527b94dc8f2316713f38690b7258482097245e71d560f8f6246f089cc3685f"
          ],
          [
           "17547727d6bc601961beff5821ead3bf726abdb4458a6392819665d24ac430d1"
          ],
          [
           "176c512948e13313d51ce7c5bad15b53376a7a2fe48f875b401014c6ed9616b5"
          ],
          [
           "176d3aa8da81657e2e6a7c7b41511e78f7d13840fd837d0a0c98865eb4965177"
          ],
          [
           "17772914d4c2501f6d2293a717668174d60b76295e79f0f35d19808a15e85540"
          ],
          [
           "179cfd664bf6da9b63b621d95aabf566d7ac6a30204397de1cd7863870e0afba"
          ],
          [
           "17c2ae0ce7ce04865d788bb3f751f7cabc1d28dd8e9c18795bc700831929f5fe"
          ],
          [
           "18037731867b430da155292698358b63376e7fe2870ae234a2e2481e251f9910"
          ],
          [
           "181b6c828d0aaa919fe6c927e514400d0ab75db7345a5199722e30db313f9b79"
          ],
          [
           "18325fc75b9ea52517f3c4f5b0970afafcd71bf898389339e5f489a63760dbc2"
          ],
          [
           "18419eb3b11bd41e920d16e4d0b69a312571f0c85ecf343655f7081127398ad4"
          ],
          [
           "1841b442926e586064ab4985bdd292796b888aa3aac230d69702eb21edb479a8"
          ],
          [
           "18964c7341985893402950846326661a689554dc0e266b1b93e9e5bbfcdbf629"
          ],
          [
           "18c454238b54b25061a7b76342ea0255820d4a544be5d079b441172b948c3988"
          ],
          [
           "19213e29dae75ea534d28d4e064909e76357749cb4e5caeb38b05808f385d51f"
          ],
          [
           "19ce016833c0954a646a3b691879f5f921f8e744ca91cbc927408187f732190f"
          ],
          [
           "19f37a6e1c735b82fb79a58735820866aed6378f95b534bc3fa6a7dd0897ec01"
          ],
          [
           "19f557e8ce29563442989c82df205702c82dfa50d1fa91ade196434c988b5fa0"
          ],
          [
           "19fadc796139162c5ebfddad7a6c6e93a90b74180e69782bc500604b85a9cbe2"
          ],
          [
           "1a05428f14cd01a9fb515c3466771ed929e9a220b6786b7e8e369ab73a666245"
          ],
          [
           "1a6919f6c2e8c623234ff535453515788f10be4293d7b94d10bc449100a98dc5"
          ],
          [
           "1a89b654e03b891395b5dda5f69af65e85caf0af4bc7283f0a2bd8f0a35ce4db"
          ],
          [
           "1ac4ee01f757c1cab1602fb91b466735f87dad9bf4d0d08047e32bf762febc36"
          ],
          [
           "1ae6e3da08f56980dc974b801ce3de8b600d03340975fe6cef80d7f3e90627f3"
          ],
          [
           "1af5919812bbf797cb55e036317c0e8dc2e200784dc06e2da240effc4f41eb83"
          ],
          [
           "1b864c245c25b46fd74c5c3de1bd9543d897b0007ffcb19878f898dac7ae7c78"
          ],
          [
           "1bc1f113f18ce4286ea00b7ee5240a02ff38675e79f9acaa83dee933654c8b22"
          ],
          [
           "1bc6aad78ce21baa4c6f4c013847ffa4b069ad455878d2aa356356526089a370"
          ],
          [
           "1bc8335c6262749997c3e8996de0289228011360bd852190903e11e598743c65"
          ],
          [
           "1bd818caae711147446a890aef8b4fb409a3d684be44b294eaa4c3efdc89369e"
          ],
          [
           "1c03aa32fcd65fc1b8631e6ed49834e4c922fbd00865f72df8fa77ff139d4d17"
          ],
          [
           "1c14de24c059c373407c56a75ab53bc27cf01c1f7b60dd0abca698da5a13684e"
          ],
          [
           "1c254da5d0e9f331e39e1447e0029e4cfd119d3c14868a074e188a209f1aea94"
          ],
          [
           "1c85f0a124137fc316fa4568b66108832a0eccb89082861682c1b54f52ac9bc7"
          ],
          [
           "1c943c93b1ff6e5234d80ba9625db2743f9dff1df27e13109b6b830901712ec5"
          ],
          [
           "1ccae9a42f8c7ec784367179e66096ee26a0f0545b447a34e924ef3d1d8e5fc8"
          ],
          [
           "1d00c903f0661b106a48467180eaac1f8f2e578835326fe9aa6c4ed77cfb6036"
          ],
          [
           "1d5cb1d3b2e2903d3067f3bb2e101fdbfc4688eda7d6fb164347be06092c63f0"
          ],
          [
           "1d69bfddfb8c6fdfd1ba08c632f55e97fa0ef6d94147857976ef09c2a6530d57"
          ],
          [
           "1d805d5e0014382c197cde2cae79fc14b60f100695396dd45c048a7444b86d82"
          ],
          [
           "1d8bbf7f94cdcbb094849ea289fa91ebf634fa525a00109bce743453305282cd"
          ],
          [
           "1e17a721c058f8da56ddfd0cc7fa042dd394b03adc0aed99ba08c7c85a5bf205"
          ],
          [
           "1e1bf4e58b6a1d1bdc31873915fcef51c5fec3e757fc4061c70f067b125f59e1"
          ],
          [
           "1e22a92c70f6f141cc7c433c5eb6466db4afe6a7b0f0fc6f4ae2fd1f6af9f742"
          ],
          [
           "1e27499e1f46efe4ce6540704d0a03419211076262931740c60ca63660b24ea1"
          ],
          [
           "1e31f817702cd0f3cdd7f9ec5f4bdd33c38efbd0b42b2f0bccb5223b9b9f3753"
          ],
          [
           "1e3a5f81b3377b2c0cfc2c6f485954c603eead439bec80fda49cf75ec4b01ddd"
          ],
          [
           "1e496af32487546c00227ccd56a7ee9b850e3dd3b274646f964f5501baf1f9a8"
          ],
          [
           "1e50a9e2f2ed3cc30d0e707e752fa9cf4044f7e0512a4c122fcf07711ef0b1bb"
          ],
          [
           "1e5dcea844628377f91e77bb2cc298caf17b0e6a7bcf2e1f545e91869b36329d"
          ],
          [
           "1e6ac5116ee4bffb04b8983f37aa06c3b6f53c2cf71f8364b05fea63feab1e08"
          ],
          [
           "1eb10826d84fd558bad672cac787ce0a6f0de36bb9270bd5ac65e2741cb67229"
          ],
          [
           "1ee146beb0630beae64496bf0a2755dad10e9923c1ea0b6e8e42546f1dec0232"
          ],
          [
           "1ee69a3e775357278c3054d01c80a372f3f9b718510902c2f6e7c8efdf3d3615"
          ],
          [
           "1ee79a57543c797eaba498a99245eb4e70621bbb0f67322292d878f075db42bb"
          ],
          [
           "1efe0d08909d2c8a16b5ac408cbaa191a7dd6b01759e0ecb113a4ff8b4d9251d"
          ],
          [
           "1eff85c9b6d9a24feaa465e675cda8518e80d9c20a39e82b487266b8efb42b2f"
          ],
          [
           "1f043ea864e9896c6db39028cb3190e9e6d00c9af71ad0c3c600b850c97149bd"
          ],
          [
           "1f131aea69fab47c7da2528e7a8ac4b1f08ba204f3e34616de7905d99e039dd0"
          ],
          [
           "1f191c02e2783394744068aa399293f970be86507bdcc4f3a04d6fa685515122"
          ],
          [
           "1f2a92361ffff92ccd2a9305f92418fccc1deeb6382a768db548998c86e81f03"
          ],
          [
           "1f2b051aa458a8acab480d1384bf2c82209a7a0b4982d490fccfc8478675f936"
          ],
          [
           "1f3f721a89312c806278530c5f36b848ae9df8bcf9476e3108911a77c75053cc"
          ],
          [
           "1f654675418557c28f7564d179df43b313dea5f3243c3fe5546b6c5b30aa318a"
          ],
          [
           "1fa447a3b167c7badf5a7bfc5d092586acd15fb2fd74296372615b3a6ee71c3b"
          ],
          [
           "1fbfd9646f1ac2a54105f7dd66eb9340a7c8245cc2df6a50f2f3aaa6d02071e4"
          ],
          [
           "1fd7e895d4895ab01d6d8518012b76980be849cc35da007061b69143b41995d7"
          ],
          [
           "1fddae84ce6f6fdade721fbd8eae37a1e31278e2af471b04f038f5d4daeba86f"
          ],
          [
           "1fe94199e9647aa1446062c61f60d833b8a32d159f93949f44a9f585f38422c6"
          ],
          [
           "1ff2201730a4e3510c3642bcd85113bc7079cea7b73b99feb5c75c5f61e1b832"
          ],
          [
           "20026a43e2c1437aa0855a7a9d2016afce9f7e427d236bbaddf5d1f34a0825fb"
          ],
          [
           "201217206cd5232f929e072769d4e9be4a3ada891d4aa053a130532b610b5dea"
          ],
          [
           "205e55b11c6efa80957cca5c199f573d7c7566e95b71e3ff163d52022502e6cd"
          ],
          [
           "2090fc29c1d95917ae4c236fbb4305546383b878e9607c00fb28b707cbfe83f2"
          ],
          [
           "20b008ddbb1163412eb7aa3f521ca5f9f51d0eb04661d1f035a3dcdf5ca9ee79"
          ],
          [
           "212d12710a89427a19e5d30da0e618bdef2ae2cab9aa997c87062370825b1bb5"
          ],
          [
           "21b4576bd7c9e538b5f0e9864feadd566338930c09b64db618c5457a17e01a04"
          ],
          [
           "21f3379eb298f974d795862f6ddcc091019cabd95fa7cfdc36ecdd3684203b07"
          ],
          [
           "2207b991218310a10c1a4251c30139666f53755e74b918d8ff0a3f67959c4697"
          ],
          [
           "223a1514ce3f3853b991538ee3bfcac193d3155e7e40ecbea0c490be1b1e9deb"
          ],
          [
           "226c6a40157d54098b4c16e2364f02e0095cc36c60a38863b1621638c2bca58d"
          ],
          [
           "2295c4328b3b08c4a97df33c59589c4900a181d87b1618b7f1ea43f5447b3614"
          ],
          [
           "22a9f819d8aa963fc9831b0024449acc17226172250642e0ccaeb4662318015e"
          ],
          [
           "22b238dd70c1afd28935f3fd36285721812864645a4007e1a17d1bb28c6e3190"
          ],
          [
           "2318922d0f9b96268f531b67f81bf71fe5c37c95ff09e1fd1c59928d26c1c7e8"
          ],
          [
           "231f8693cade4f7f16879ce8b1dfe94f72d40de2c20ff57e63fbe8219c7e9cf2"
          ],
          [
           "233aa14a7d117265fb14c031eedfd172ef7f9ba3ef4eda7553c1531334ccf1bb"
          ],
          [
           "236c589e447b1793b4db22166cd97a91b346fa7040192c4739c72d6d68c379c1"
          ],
          [
           "237cb1dab9689b8ffaae641db1ff1f7c14f3684eaeb08106cadf1cc758b71aea"
          ],
          [
           "23993488099a96a7f9476170b6dd03978a487637b509ed5c7d8fa9c4de669203"
          ],
          [
           "23b0a63eef22daa768ad0dbe859fe9b05dfe76442db350c601a25f7b9b1c2922"
          ],
          [
           "23d8f59cfbbe28168847153de6896bfb3a26e68a5b08608d7809ed156c4512b3"
          ],
          [
           "23e3395ef2a1b6ef07d74e4387b4f955cbc66cd019d463d5f885c577533bf359"
          ],
          [
           "24394f62df898904cc3f4f9cb2220028063f9b7b81cd246262d322e6591d2d77"
          ],
          [
           "2458915d86d5f28790c7e5ed0ea857af74ca5d17f3371b2a192cc1ee00e60691"
          ],
          [
           "246a8d7d2a4cc45f642301b8f3202079b8cad66697b9a490c5bd2d71e12284ef"
          ],
          [
           "247385cab78f265b5537abbe0ae68851c811b2a3b032b5409f6f19eb553f07d8"
          ],
          [
           "24739e2a4fc43001a4c76135d355bd19c5376e5fe4b85f3dfdeef5920ab25ca8"
          ],
          [
           "247da92a2dedfd22227ee36bc632378902c059bfcd1bd2c4081fb3a8bfcae574"
          ],
          [
           "248c64151f51c598f9365c9d39f8f7f8ab2f4e2d52d8bf2b55047cc999ecc195"
          ],
          [
           "24924b40c239881d8566995ceb79dcef735416a88e7a9f01f8a50a82e846882f"
          ],
          [
           "24b60dc8f375d07043c4042f7aca314721b672033e1a15cc5f24c51a26fa0ef4"
          ],
          [
           "24b783171f4a545b8096770cebd54d82c3196c7bf7f49fe983f8c1a615630e63"
          ],
          [
           "24e371a04368a8513fb429fbd04a4dc29a19cba93be67657962edb0ae51b4321"
          ],
          [
           "250df35d888aacc2b3277107d6df2332abc22bff3ae78431baef509c1575e0b6"
          ],
          [
           "251433442f887f120e973acbf15e392495c7aa093a051c6e4b193cd04a2fcd1c"
          ],
          [
           "2514b7d71c93ed586833b119cb275c01f852d88a0240eb16c78d9293d4101201"
          ],
          [
           "251a8a89b630d1f4b2081cb1494169b06f6c490896cf64de953d6f3e6d7e4a81"
          ],
          [
           "25b8bf34118e7a165c9e312a43bf25a80c84f42d810c6d5f13ae7af5d2512e9b"
          ],
          [
           "25c7f226413990de197e938ee43008a4511dc015cf23513ef2618f472ea84a02"
          ],
          [
           "25e3bf3ec0eece1059f1bc8c6a919b3b8f19ef0c3636255e9c92b15f9c00b1cc"
          ],
          [
           "260e0c4de0d1df1403676755a97ab54ee3db7b725f89a69ac04b1c7fe0622e30"
          ],
          [
           "261562d2b74207395ff3ef39dbff772d9e0bda45fbdea4a6d6f82d4ceeef6b95"
          ],
          [
           "2633313a31c3d2d9487ad917c68ccdf6f88dc2bc66d17630dc9c9790c246e92a"
          ],
          [
           "2645343d21abbe6ee21c7e2efa090b0cb0d6fbb1b9e247291958f2b557511ad8"
          ],
          [
           "266d194486961669a9f0490dee7fdfb195eea8905d14f4ac15d47bcd3fb05f39"
          ],
          [
           "269e371411c624b128e5d5cac61de30e9179ff2913d38b16fa7a5256aaf05aee"
          ],
          [
           "26b8d64c769938a34d314efc4bce56541403997be643f512959e4b6084193cd5"
          ],
          [
           "271f766aecd50544a4cee6376a558b77afe012fe5710be24e11ddbe687e5eceb"
          ],
          [
           "27400f3544b9b817a7cbc5e97f86fadc6b4671cae10430a48fb83fb9554a5981"
          ],
          [
           "278c586dcc460b27163a514eb961c97f95fbf78d034e82e9e60a5326d5d39074"
          ],
          [
           "28142b8514b09a2be947336eeb12ac043fe8bbdf9f1a874d33bf975a7d39c406"
          ],
          [
           "284d2fe82096f840dcfb18408debc9a4f6da0e6d2f1ce0ec2700cbdf4872da5c"
          ],
          [
           "284e0b8b3a22e0b9189bb942a7c7535e900819e026b06cd797ab55444da68c22"
          ],
          [
           "2860aea03cbb286489d247fd82ed0dd03d8423d9e19898caa3c54eaec5b97225"
          ],
          [
           "2864ce01d44c1d58d533130a8b7e27517381248320089ad48b95b8f2829001f9"
          ],
          [
           "28d0dee4a93b9c5a01b1f8eb8c9b23619aee952d1d51e55bba4382dd59d3f47a"
          ],
          [
           "28d64ab66f6ebc932d9c11c47c9433ac930895d2c06f473b57dc1e6aeeb1f920"
          ],
          [
           "28d75101d607be61fdfa2d6418cd16eb98dd8e2ca8e4e41ace02487e7df5d211"
          ],
          [
           "28eb389b319b85546bb528b3a60d2371c004dd9dd38c7940243ed0371933ac84"
          ],
          [
           "28fbd3adc78feb0d870e5d1082307892c6d8ac0f59f5d675770da5aa96410032"
          ],
          [
           "29727c93a23d1ea8c132432cc605250e04fe8e6d465a21d76170b6a7d3e14c7d"
          ],
          [
           "2986c2759ec5a6d881f5df7853f592049f935af0e89973feaa512c4b949f1c92"
          ],
          [
           "299f77c5c6a464e10c397a0875e993fcc2570976c9deb356f411958c860b4222"
          ],
          [
           "29b66157165bc7a0453fd50fedcc48f61022307686c3480a08a63bc41ca5decb"
          ],
          [
           "29c2c30968d3b96fafb2e1b5a51d1126df55a96f3ea520292687da6134999df5"
          ],
          [
           "29c3cd698a318a1f7def35f1d838c39e8b98b6c0b198c2711cce18384523596b"
          ],
          [
           "29c5afdb683ddb7cfd1f44bd4123581529bedf09b304b81417268157f23ec06c"
          ],
          [
           "29d372c95fcda8eca5864053f2305136046a68eecdce3de62e83f8bdda53ffb2"
          ],
          [
           "29d6cc141d1a93331144396ac2b544e921358a3ba6aae3f297a3140f6d41746d"
          ],
          [
           "2a0872eaee56831cdece16372ce6350d68fd809f516e88d81650060c0c5e8b4f"
          ],
          [
           "2a1ee2ea03d192cdc968953de76c9b7e388980644dae634aaf2237a333195a07"
          ],
          [
           "2a6aaa77bb6649044a7462d1fdec5258f9d907a80b66e16ecdc260b0b35f1230"
          ],
          [
           "2a73f065c6cb0958faa0bf0c527c9eb6a0876d76ac164e742c903e78305b78dd"
          ],
          [
           "2a8f18aa8c62ab2177e7dc0287dd5f5e559cddbf37f2498a6b2df7ce6c4f55cf"
          ],
          [
           "2aa81f8dd8fb77012bb1b4d13da84f8764b07f2635dbca291327b08d17729286"
          ],
          [
           "2ac6f8595dc4bad2bf3197fd2828e0b6620e6760d254f0304bea708920355603"
          ],
          [
           "2ae60c51f1c270a6ad7122592ee0c79f3d42a68f22d9bc2c1156798de1966b53"
          ],
          [
           "2b3e8c1c6731370d536ac3e5a52bbb71150d08e806a1d7264d270369312e1ea9"
          ],
          [
           "2b5d4caf4211ec52c02c15a8564aab724e871b37831a6c13d157b8c795261cae"
          ],
          [
           "2b5e8700b3ba627598cd7c54443a6f3bee630ec43fd8e0bfec9c6aa3aa78121d"
          ],
          [
           "2b662322b7787b30d5826a7345eeead10b51268f42a8360e1c757ce6f226180c"
          ],
          [
           "2b9bbbffd08ead2ff95d4c02df3a9eddb21d9d6441832ee11e2379bb3dbf00fa"
          ],
          [
           "2bce23abd9b34861e49a0aad98aa426e0c58f7e1a2e3ac769657ab1d00256a86"
          ],
          [
           "2bd8b91c0adb695942ef9caaf2f3f19f73902d159e7e9e2f17807a8a53603041"
          ],
          [
           "2be5ce81776f696bb54b4eaa3a94969ee18af323ec5e613ccebc722fe47539ea"
          ],
          [
           "2bfed4266d8e5b94bd49a8effd41fb0bf6a10fb642de76e1c3dae95d9865db50"
          ],
          [
           "2c04121df7cf7436ad56f51517405322501b2a162efddc3f569de9b696daf984"
          ],
          [
           "2c171ec71ea75d5dd7b45a538979ddb2b5e8cfe7669ee04e321b1beaeaec4645"
          ],
          [
           "2c2d2d2db8b91b9cb5c8ef700e36f8a804d9fd6ec8b507042c5969d8031e73f7"
          ],
          [
           "2c6069186cb9dac4254d61a62382fb8bbb694cbd1897af46004f120d59d104b9"
          ],
          [
           "2caf1585aeddeb753f9a2023663263661c15f1dd81fe3e89a34a0e58f05a0c58"
          ],
          [
           "2cb5f0654c375935648b7baa8b6482fbc7c454ff8b5c0bd5e2dc00bed23d07fe"
          ],
          [
           "2cbfbb65e451f0406282282bd1fd2cd004832e0085c8ffc8c5a36b11d5d9c4a7"
          ],
          [
           "2ced564902f7872518b56f19ee0ff51ad14325ab2b4904e8e93b934850890283"
          ],
          [
           "2cef334f85f764790784337e1b631591c925e6de49a86482e782b9983aeddd61"
          ],
          [
           "2cf41e65f31ff5e2c810e2000569278df6f73724abc4fa124918c900ca3bc4ee"
          ],
          [
           "2d1a76501813b3bf4f20df9031dd6f609c6d9207debb39ccb4a5706958b8c685"
          ],
          [
           "2d1ee079a6ba159f270cabdcb6e052932c21d7b678208c68f8834ccb17280d1b"
          ],
          [
           "2d2d1af29b3a1a593ac96c99a946758b7bac7c342fdbf45601d2f64223950082"
          ],
          [
           "2d901ee20a6decc4d90bdf4fbc92ec0b9e52e41baebae64ebd0fdb146e606b1f"
          ],
          [
           "2d9023a9f465304f5ead6fa6e3858d25b8b6074eaff43c228be4bf4484a67fbb"
          ],
          [
           "2d9a9592a6e78baabc15e16aa67f9cb764b2d23bdbb374632215738f742470de"
          ],
          [
           "2da69b0b02467956d238e43c0a77fef2218fada350999fce2b8653bc3c3fffc6"
          ],
          [
           "2dd2d0bb803369fe0bc4526eef41ea2b4807e9e942e6d5cf9a66fab592c76dc9"
          ],
          [
           "2de326a24cf78bfa6d09a4e1230bd7a2fe38d4b2bfbb4d418a890932679ea05f"
          ],
          [
           "2df3fac11a2e6efc7038a6153ff4a65092e130c8c68ac8a2e7dd2733a2d7e391"
          ],
          [
           "2e1281aea58ad82b3318c0bc56c58de66c3fc1710c19d6111821e4924042b69a"
          ],
          [
           "2e2432d9249fd995ff24c67a86f6ad6dda1e5767d250eb0fc0c4069b423b36af"
          ],
          [
           "2e260b65a3a6a0a6488f376fdfed4672248c06dbd5b1b7effbbf5b977bb2991f"
          ],
          [
           "2e7930595565d6cdf9f6510d017b839c2b74adbfdfad98b7046564221ab87546"
          ],
          [
           "2e86ff1ccfddd631a78c8bf195027a815a312f1aed1e273a3af6fe8b5670930c"
          ],
          [
           "2e92ce7c51d95d3007a0e223dd93141e2ce108a310ae6ea798bb3688e9abc884"
          ],
          [
           "2e971e44958f1f498819ee2a634af931fe045acb8a9e7e857c25d997f10a30c4"
          ],
          [
           "2ea076920dd3532f40b93e0e3c15f2f87124f39942b69ac1899163f951d8cbb8"
          ],
          [
           "2eab4fe5613fb45b3ef916ae95de31c5c340107fe0fb5dd982a9f9e86e1f6836"
          ],
          [
           "2eac34b7117727460a121d565a445b73df4f748286baa928efb45338e1a321b4"
          ],
          [
           "2ebe20e14c2f982354af4c5e36d5656467d28a5833869c418424f70caf1c310e"
          ],
          [
           "2f059cc1dfc27932d59ad94bf97ce5c3577bc99e317bbbd5d6c2f2bd3d69c8c6"
          ],
          [
           "2f0af00067eba20f52fff1ff422e2e9ad7cb4d0f775498eff1ff986e20224788"
          ],
          [
           "2fa530ed3d9dd244e37a469c9fba5e966bb6d898f5b2c51f8c8347c4e6ea10f7"
          ],
          [
           "2fc11129989eee61acced742b44c57aad46c54ed577226b878ac2904d7bff86c"
          ],
          [
           "30085f4d2777cad4e6b2ee07665c2e760dee5baaf0bdef80e7b6b50167f13cc8"
          ],
          [
           "300dc06c6a45b5f87f9f48abcbc32e10ab47347cd8f84bf6d29dde2bbc406576"
          ],
          [
           "303cc23ada59013baa5a759ba2c4486aa656d3f135afe079165b6f11d2d1e436"
          ],
          [
           "3083c0f61910931affad9bc2ed5bb0341e3eb768ab1b86923a3297fe1f36ed70"
          ],
          [
           "30c0364639c670c567c7d34a522d4a04fd26c5ce4a3c1a58a1aec2a4c2996a23"
          ],
          [
           "30ef895e983cda873dbab1d8512daed521782b4cd5668a2c47e6331fb07c5abb"
          ],
          [
           "30f7c827aa6335979245e40ecb75f8fb9fb6d041011bd54eac6caaed0c2201e1"
          ],
          [
           "31372472ccc4573f6776b26cc96b4f1a9a8abae19d284661723b09e67bf092c4"
          ],
          [
           "314dfe7f915ebb0be9cffbeb2481778bbdf7c8ee4edc5f91b1c13e3fff56e363"
          ],
          [
           "314e865696b956df0326e8b3606aa13f35a7440c63c898dad73c00dbffce13f9"
          ],
          [
           "315c18691b49ee434c5157bc82da8d4c12c72c659b95cb165540ba3571f91276"
          ],
          [
           "3192a0af87e01f7ce9add22e601d4b09093cbff0d5bbb17f968b58ec5230e4c4"
          ],
          [
           "319631c68e5f0761e43bec8be25cadce003208ebed9ea9a3667b9cf1ed8d6e35"
          ],
          [
           "31f406a6394850536ecb700f686476c795653fa382f972a80d7a35cf20746ad1"
          ],
          [
           "31fa4872042d50ea5f2d9029576c2ef0964a67270f5a52cee9eaacddf175bbb4"
          ],
          [
           "32265b2773c4ee1eb5143e226ece27ec51e98b21d99f1b85c0ae39ab11199d59"
          ],
          [
           "3231ed4b9ad3f580d051f773fcb8e299a08dc2c52521e48072644cad1aef1df8"
          ],
          [
           "32324ccace2616c878c2415a64b9e2b14863eeabfd835c461999b79b836c8b2d"
          ],
          [
           "328a8f49da5b9e5e49062ec7ddca07b908285c07b98d622a1cfaec3c3f0ae1dc"
          ],
          [
           "32bc7f96cee7faeb6027136fcbca4f117f570acc3ed5ddcb7198df9c74e5e3ab"
          ],
          [
           "32c1eea70f968b00ead349b673cf36adf6fe3115adb073a76ad374985b18a453"
          ],
          [
           "32c5a4370232a8c0124daa8ec6dbd1ad929804631b06cf1e4943bdfcfdb4acf0"
          ],
          [
           "32cbcca2c8fdab469841b535f2f4dd6b96b3534e85596b29347981724af5177e"
          ],
          [
           "32fb78e6d099256958de495fc5603640ed40be25eee2b4e6704083b8ffa310b4"
          ],
          [
           "3315e5d97f395ec4b3370633d601345af8c18d563d9cf0b9f6eb188c1a5c5bbf"
          ],
          [
           "332c851776bdc21e3c891d69132122b0c52421f91e969fb5329e3dbbb7ea0aa7"
          ],
          [
           "33335fc58e29f617ff11a375e1b9d347e20558d6e9c514fa43d74643c3c690e0"
          ],
          [
           "3336f7f5a870bc5ac159f2e4d142259c0cc62f34bbdbc171024136f658b742df"
          ],
          [
           "338a66d3ad3346e661bb9153e49a9bf333516abb8d38b92be5ace72f46789c63"
          ],
          [
           "33a7983522076a993f1841f53b9bdba8d04a6c2454e2d74d8acabd1cb279a557"
          ],
          [
           "33d41496a8fea8bb8e797c272f17c3c2f83c0af6c956ed750ef744e1b0caa6b5"
          ],
          [
           "33da9b9931cea50e0b13f734f5b1ff3261d72bca3b89322d00f5b30bc901101a"
          ],
          [
           "33dfa80266486080af5d86de8149e8238d8122da0437252bd6c8054178f2ed8f"
          ],
          [
           "345d76123361d148fa2da42b0cc4cf5d06553baa141e9b883127f9a4ff4f875e"
          ],
          [
           "34af608ae3d3134b00b2ce036f3b196b36dc5e749a3630a791e034389c90b56e"
          ],
          [
           "34cef5693dfeb41b80f04b3cd42d8b5ebab753246a5709b691cd919bf1cf9201"
          ],
          [
           "3527b879b542e37b82f8cbeeef63d6768b46a1810cdc400667c9a27043bf48a7"
          ],
          [
           "353dcba4704f7920376b5cf62d2b6df390b9b4b087c344478058966603c3d2f6"
          ],
          [
           "356858b25748d22d954ae0e3f4bcbce14c9f42a3a39f19e7daab37a68f1f0248"
          ],
          [
           "359459d099c3261b8d5d1f1024f089dc8ee1957a3b3fa146bac6f7775890ebdd"
          ],
          [
           "359c9675e27aed1fee166109aed8bc76058ec84c8d6b1a4702cfd24342b8ff84"
          ],
          [
           "359dd977295694d5e2206239ad83a750ddd4b7a904ebe5f7dca369d88b7e58be"
          ],
          [
           "35da1d0b63da4843a88aa1e0bd462a2f7a1bac315f71ac605f360b2b0fefecb5"
          ],
          [
           "360894117e393ecb60312a0eb665e9ddac3826d09a013e919d27f752d2590ca7"
          ],
          [
           "3619a593544cb91185221b02bce3556bf36a5e9b83a314322bfe060370c62415"
          ],
          [
           "36351114832fc3ebe948b70f65d567d9e76577403d62df580ef48e1d719d5277"
          ],
          [
           "369482b0316b53b286096e89d216c456fad8541591d34b2e29b3f10eb447efe1"
          ],
          [
           "36a103d53cb94d1c79fc9fed4af776f84dcebc404b9924b07111fd2b36122ff3"
          ],
          [
           "36a854515dbc59389dfdbf74fabc08f2086ec1fa38f216cccde4c6335b1d36ca"
          ],
          [
           "36bccbbc687f7e312ddeb8a7c0d40b89670633d4ceb659bed5d4f8cfcb58e33a"
          ],
          [
           "36cef491fa1ef44b363bd2881a8d36db5f1cd13dcac98ae71fd94342ac562bd1"
          ],
          [
           "36dc47bbb3228e804f4d25c6d2fda627aa120583110f55d9c718bebf2bd2a204"
          ],
          [
           "37246c0e16d863d0c62d586e298807e349b8350238e95bbe55ea1908f4eb379a"
          ],
          [
           "372d401cb725574c9e9cc83b3480b674705dcfacd4691826045d584f6fcaf99e"
          ],
          [
           "373f11f288b9aaa6cbb545fe67268c2aa44c9bd0b2f651b004ae40ec1051e8da"
          ],
          [
           "3759ba706329d820f58e5d2af9fab0c04cc4bc2de7972c3f59c97ca6ab263f6c"
          ],
          [
           "376310e0f644d7b481f0c318f8d51bb0a1332c772f69f52d35fc68cc8eaf9a96"
          ],
          [
           "37731f9aa802964be3a265318d67580355c82924955e6994a8c18f9e85a3590f"
          ],
          [
           "378a05a7eafdf56d15cac96c61661dc52db5db6d97e787d3bc46fc16d277dd66"
          ],
          [
           "37c2c03314b34b91e051efb076c77a498473f90bbf075233d31fe4703f37ba88"
          ],
          [
           "380271c284c80c00cc52a28fad5a7fd17b48c951c005a807609f45e54365b27a"
          ],
          [
           "382ac2e4553a4a7135335488169b6f7aad90da466e393cc535e173747b68ee5c"
          ],
          [
           "38420042176291afc413e9baee5af287c66e8050168df7568d731c5412a15150"
          ],
          [
           "38796410b8773543b5151e22432cdf99ff30bcb4c034c0f35c05df2f5806cd14"
          ],
          [
           "38a1f63634d5399257f6e406f8a4c91bd412193e381b67bfa215ee0eb276aa09"
          ],
          [
           "3910d77d81749a0211cadbbe947eb79af868eb87c4ff82e88fa35b9465571336"
          ],
          [
           "3980760385433bd063bf2bdd5af6ac0dc7d37163013f001115818dd5fe9b50fb"
          ],
          [
           "398eea689e327202d22eb65cd9b86df48a875ae7b04898a34f1957c4c11d341e"
          ],
          [
           "3991f9f84bc60e43ca8a86a105e9f9a6167ef62b7c24cb7dac6897bf2b39686e"
          ],
          [
           "39cf95d4bf9b76ce871ab575eb316423449fd89f52da9eb32da99b49b3aea65f"
          ],
          [
           "39ffcef5e6369724469b49ed65e80cb2a22269d85892ac3ccfa2932e09c16da3"
          ],
          [
           "3a470ac8cf7aa5866e8220fc929762222fc60001acf62bc33c39ce2cc3d12520"
          ],
          [
           "3a74384c9d10a128bae02154120724678e564ef4e4c12000dce01ed7329d3ee5"
          ],
          [
           "3a798a229888ccc996dc4e5671308470cecffdb50382b07aed79dba69f56a42e"
          ],
          [
           "3ac4c9cee0ebf6b895ee1f6f9810053ce1c508bbdcd57f977ec1fade790a56e7"
          ],
          [
           "3acd775493b718d55f469fcc3bb27088971e4ff8bb051da2ba7026a044ba278f"
          ],
          [
           "3ada654badd1aff64efd5fda84c6a7da7b394dd9600b29960abef7ef18131989"
          ],
          [
           "3b3942b7d660e3560bee1a37451de979d292b01f459b04e197bc7d7688e94ee6"
          ],
          [
           "3b61fb8fdcf2596ebde530f28894843b01edd533be0780dc99daaf39f557218e"
          ],
          [
           "3bc78a165fdaab565cdfa2d1f8b9d9e1815e56c83f65f2f6f8138d624094bb92"
          ],
          [
           "3bd909533771229628c6ce5dd4cc27bffc168f2def5dd8f1d2d2dc8a4f67958f"
          ],
          [
           "3c0c812b612d327ee5786b7b830999b9eca1c693d8c012840551b1d85a41431d"
          ],
          [
           "3c0cb42d72d89c72ff1290c6b4db15d271a26941bd2d7a4a8466bf81cb473c84"
          ],
          [
           "3c57e58c58894a495a13af4c2b6e7e6de76f346e76d776f251a0620ce250d007"
          ],
          [
           "3ce76281ceb8ecd53df51be731283a502edc2f866972f8d7269e8136aa81cc8d"
          ],
          [
           "3cee6104e75e1b6524c7b4ae4dde2828fb062c2f02f434274c4e685d466c90ce"
          ],
          [
           "3d2d10bc6c80cce92814a87c3b03cff95012e42c16ade81b28c248c1d8e07751"
          ],
          [
           "3d3939141da8c6eda6c879d80f4c46e0ed4a49946b0128ebae765ff0944d945d"
          ],
          [
           "3d42d5989c3af98d3a98312d88ebfb0fbdba6fdaab9254613fe88625c4c1bee4"
          ],
          [
           "3d6130b274d7d0dd11153c94b9289a8a91dafd724304701250adda7ac67d5ad1"
          ],
          [
           "3d6261d39a091092d7afff3405bab1996c628dffd9b8768f1772401f1ea3e57d"
          ],
          [
           "3d89030560687594bd4869cfcec26d0fe139d291d69e370f795f543aef23d965"
          ],
          [
           "3dd091ed77848880e7f420c6999130526a73db3eff88182545f20c37e84e74e7"
          ],
          [
           "3e20770386b06b9e15841ca26bcd2134d4acc64a8739d073b137ed01de09c4a3"
          ],
          [
           "3e3652e74b1b2de6c72642f0835ef1d01103fe7c455fba38a80dea970576d264"
          ],
          [
           "3e3fa0876d89b5f24fefe39b40f23e1f35d3b3557302cae61ca26b4e4ed85848"
          ],
          [
           "3ea54c86baa36bfef0fd8002dcacf5873762d2be54690fc46ca2fec469dfc0f9"
          ],
          [
           "3eb1f9d737e4877bcc7d1dc462a2fc4bfda36bbd71dfab5bb9c21d87438aa348"
          ],
          [
           "3ed6f40ce83933a1aa378a10a2180d3e87e56f2a9f4db84304a9bae7a836043f"
          ],
          [
           "3eefb1a0120a21ef00921cf14b8c41af09c2b82c4952df96e64c3b3934ba8f85"
          ],
          [
           "3f00a875772de0f750089e62fc8363a6ec09cbf95e45cd852460787149ce08bc"
          ],
          [
           "3f1e657c21b9dd9233655d20adcf3f912c35071d33b0431059d94f6bd52631ae"
          ],
          [
           "3f25d9f553ea99989466adad27f94770e8639358373ee89eeb265fa0a1c7062b"
          ],
          [
           "3f36da92db6297f46632b5d7fb22a8a3b83a23cb057b83c4d43308f2b08ff4c2"
          ],
          [
           "3f9ce17b63de15457afadea0e069684d5f27bb4dcb2bce34c43f9986f5c5d375"
          ],
          [
           "3fb09599ac482b966c3a1b8e8b568377e010b9233e26ed261cf55bbe744a7ce2"
          ],
          [
           "3fbe40253512a810aac96abe2a426f6753d04200ceb6ba62efd6f3e9aa2c8391"
          ],
          [
           "40329f01dbcea6689bca5cf8e6f256ab63f631034a3739169c9b5189a541a2b0"
          ],
          [
           "40637eabbc79ce293292c59a87c856e99959d0abfeec4ab2ce0fe8113fc49fd6"
          ],
          [
           "406a20570896889cbe1386858226d7f7d9d31cd3a24d289cc1631d1758620b00"
          ],
          [
           "408fcf48ad6a88f9b085e7731c801d08b2e6d101236d0041c5da8e9e377f00a4"
          ],
          [
           "40dce06e55b8fbfd2af4bb7c4188033b77d4cf5410abd64b8325a4b90a1aabac"
          ],
          [
           "40fec9f71a38431090614ba5102cbc213ddddcb32b14679cce49673ad4d91119"
          ],
          [
           "41212698a10f02b6d830b634b1ed85f8a35b8456c2aa495e2fb27c858f385ac9"
          ],
          [
           "4151ef853574b0cfa9584d89a4759ff4a3bc14c99d3d08984fe71177c6a67dc8"
          ],
          [
           "41afce37b01f60603b5981965aa8b47bc61ea271c5aaf83e41f15c4d34ef1f10"
          ],
          [
           "41c887f6107ae732136ed05e3b1129f06476f68f7b4a5925d8a82c9275eafcfb"
          ],
          [
           "420f449a49c9057b1aff07666c2ab67f60e0eb4f5cf872948b8cf280aacaecdd"
          ],
          [
           "4231134ae9063accf85d86fcc25c157048e74f34f31495eae6a7ad02c4b64106"
          ],
          [
           "4238ba125d7dec78bb7cedbd13f558540c9811fe9f466643f836ba5f2663668f"
          ],
          [
           "425377895f92c0718beae2d50eb0ee5526af611f4c0c926f1166ed75e46344dc"
          ],
          [
           "42653f0412d731f47efc3f0c43a3d579c81469e14bad3b40b499ecdfcce1ef15"
          ],
          [
           "42676c48c6ace36b3fddc281914799febb039bc56876fd06b1ff89d8d90ee6e5"
          ],
          [
           "427394fdbdaeee691ccc7e4158a16f2db47bf4363c9e92657dbb97d6f0409e63"
          ],
          [
           "427dcd08a31a9bd5345ae37d92a58faaa2fb21b12d477eb37adca0891d8931dc"
          ],
          [
           "428f3b055f6a2ee34ef6665e6615afb662a0d282754ae2de43b9e70a05d52daf"
          ],
          [
           "42df724c93cae4296986ebd409434a458dfe873d3195702f5bb74580cd57be20"
          ],
          [
           "42fda172231e743583cde033435da0575fc92802a1c98e6ce8dc21b59423fa0f"
          ],
          [
           "433b4fb053f90c15e4abb87ca56765c5dc0d978bc589eaeae7ef900d20bff30e"
          ],
          [
           "434ebada2ebc80f3dafff94526d93366d152962f9af6c4d85375695fb4a2834a"
          ],
          [
           "43626d59cc76e190fc1e8a1ebd583f77ab28a0b0abf42b48848665e9d8fc970b"
          ],
          [
           "439a3c62f78b55b5604ed2032871944bb69233ac82589d82bfe5cdf513e26869"
          ],
          [
           "43ba1323cefd33037cc1b8360180596d42f5549956def600103c96bfa81557a4"
          ],
          [
           "43ccf414297b5847f32dc28ec55ab6ef77544bba8f89a993e7b088e3747c1f0b"
          ],
          [
           "43daf1b2b24bc94de5f3cd4702a6f658856d6dbfd9a0dd732fc29f9e58cc7094"
          ],
          [
           "43e32ae50daf394e46c31bdb91f536c7af3e42cc150687bb939598ff2a7ffbfa"
          ],
          [
           "43f4bd8f79c946b05e045aee30ff2a8d1a3811bb7982b9a9cd247f76a940780e"
          ],
          [
           "440b2e2ec1e0f19cb14f4b340d767e47b1ea3582303f434e5baf98bbf06a6313"
          ],
          [
           "4423d20a957edd0e0d6564311ade87101299c8ebfd8c4f2a2b3aec7fd98e1528"
          ],
          [
           "44380b509074a1ed57d5d2090d939a82aacea715651767dc7986434fbf2af3c1"
          ],
          [
           "4447d185a1683cfe3563bbe0aff310a0c9ba2a87477fe0e93ab9eb657526e974"
          ],
          [
           "44573eb7ffaed51c06a3bd5e1f3d6c68ffdff66b3f6b3d2f9440a02e849a2ca3"
          ],
          [
           "4460dc77a1a548cacbe2edf20fb71b187734ee174694bc5249b0fc09ff00aea4"
          ],
          [
           "4462b8596d5ea62047a26d8f303c967df247b872ed3a1de9a20c6e9feb40c9ee"
          ],
          [
           "44bbb181c242e91f78ec496148f1c0edf8f8d989b30f043029748a7988c328c4"
          ],
          [
           "44be4fff3241eac3a9d524d6a41901c2f70467f531f8d48c5746cc4bc06bd5f6"
          ],
          [
           "44d9f8202b721cc9282705f4cede77b1b12f03990f2b915b46027b15eea792b8"
          ],
          [
           "44edd9ee34e7fb50733b75385d3113392a9253deba2901fb11fec6aeec0c9ff9"
          ],
          [
           "44f91082cc95e8432d752c89e4cd04e05cf8e2243b607fcdcdb5873cf76c16e5"
          ],
          [
           "45955bd5f0a05a41746252db11acdddabca18090ede829806cfe231b668a3526"
          ],
          [
           "45975c1f8922df0bb6fb15cdbbfeb4dc802c7e17ccf56bfbc917db775c46ffb4"
          ],
          [
           "45a8a232e36d7ed3f1d82b33f7f3386aa04b209e91e85cc2da82fe8075a87ba8"
          ],
          [
           "45bf88b70f471a960c6c7b42960e8e9b25ceb52d2b076d95726230a0b476203a"
          ],
          [
           "45d114e5ef0f0e54c14f0b9355946dd7328e36892ca779017d32c40924a00811"
          ],
          [
           "45d2d94177e416d23f2df95c7b20d4df3791866d8a2e0c1f4e5d13d2e207bb1b"
          ],
          [
           "45ded4f435fef6637f41b2017eda0f969e8fa4a52942e21d6736317c34fb4649"
          ],
          [
           "463a3c282f004a1d9b23a866a9b231f9279de1ebe9d356702fc2af2959da65e4"
          ],
          [
           "46c45b3827e74db226cb1c17104467d51fe3f7fd0b2139c1ed1e4894e53f59d0"
          ],
          [
           "46cb517f26fa26ebc46db6bef6e4cf1749b9c38ac20df8011af580b2b1b1bb9a"
          ],
          [
           "46e61a0e9d80fb3827e1df38f7a1d81104a23b43ac0acb8d963944c0a1ef123f"
          ],
          [
           "47157ecfdc41a655abb470bfa876a82e2af77809283ba6d513587610ffdace28"
          ],
          [
           "4719ebdc5a2a1d139279b75fdfd8b1cc4803482ed3d4f106aceb9a0f5ffa6a3c"
          ],
          [
           "4727d5004fe78a67ec49e8e6230ef6da3275a1f60671617f15953fad1c6cfec3"
          ],
          [
           "4731d1901db4a004f22e2a90c28f7ca092dfef6740edd4d93992ab2137996637"
          ],
          [
           "475cbc39a1a95691ff3e614ff34e146cf10acbb143f75cd8577bcde097564c4c"
          ],
          [
           "476a1c33dfd696b7171f99c5c253ea096dc298ad09208f56a41af2ee7ad8663c"
          ],
          [
           "479141def0ab2e77746b0f3ea68f7575088712eb1b4289cebec488b92f55f1eb"
          ],
          [
           "47cce544ea886a3fae1e343f50af13b9ccfa022f3022ff29d7da22226a930004"
          ],
          [
           "47cfa64a269f9acdbff5e1c71aacc42114b05fdc4c6e4fd0d802520137765a65"
          ],
          [
           "47ea4266ad6cf4ba35691ba35261cf409490bce26e73b40122720d26f0bf1f66"
          ],
          [
           "483f0e814abec51c7812de42bcc2c63f6cabd1bf00424534d19eb046882fa738"
          ],
          [
           "4881fe272122b1732e56bf0787f40b1662cc2744e7e1e27709f4497df815fdc4"
          ],
          [
           "488dba0bb32e5900907680f644b567daec3755ec97d11afd0870d4c9a6af4b10"
          ],
          [
           "49067a427ce715254091c26b84d5e9b12075d3977254e00bc6bd91be1b3a7c2f"
          ],
          [
           "49140cfc2137df532a945138ef3fde63537a7cc5f72e7c0ecb4cb8103e534e2c"
          ],
          [
           "49218473766c32a1ea99a26d45ff3cec4bebe733c67c10fa8850578f8801d50c"
          ],
          [
           "4933c0989d274fcf335e0efc7a213dd3faad54514b063b0f5f386da072cfe848"
          ],
          [
           "49432aa708e848248d1c0bf11435b4cfeb5819a45751f866a093096b96537fc6"
          ],
          [
           "49436df8ca7a2c911c2d76772a97be22de39c81fbc0e0015eeb0697575d4dc87"
          ],
          [
           "4957c40a7199c99063d655c7bac689bbb2930143b4616191745e6619aa49114c"
          ],
          [
           "496424a60d510b21a947e3d08c888961abad2c79ab9887c710b815f2b7c08964"
          ],
          [
           "4968d1d2b5ab2d8db01ed0f2d4fd0a173989f72e3d0af9e5fdac6cf11acfe65e"
          ],
          [
           "49dd9d6baa9faf07539ec869825da81f962ef8cee700346880df84e92d903520"
          ],
          [
           "49e5999567832825b0aa41560d2319945f748ca72b98274e7ce2802f6e2a1a66"
          ],
          [
           "49eddb355a781d5bd9e89b349d5986485e861c78488783d0bfb34a1eef31dfde"
          ],
          [
           "49f91add3c058b241e552d6999f2377e078d1166e6c0a7bede968ec3422aca86"
          ],
          [
           "4a189ca5b669fe291b6dab5adb809ec6451e719edbe0d5f1b3b8c589f3216309"
          ],
          [
           "4a78453cc8bcfedc28a199cb538d9fcb454e3522503528abc863592579432d98"
          ],
          [
           "4a7ff445f437871bcfab066fcc22fc1db3dc443ce0722d6fd7000a34f9323c91"
          ],
          [
           "4a85effbba80f025c1a3cce5a5989fa1cbbc3c28ae2e2893d7af7f4059200b72"
          ],
          [
           "4a9ba6075959ad84486ca6df879b8ba9cf359701842fee1550b63638afcb0d3e"
          ],
          [
           "4aa89e3e7381355157fffb465b9407bc3243bb087ab8d9417bf185947f79a43a"
          ],
          [
           "4ac3932fa6e475c702a6af75753ebc0c745a50bbf219b37195100ed9807d88c7"
          ],
          [
           "4ada00048c7419190769052aed36ad5a6c4227103d6cbf480e07ccdf9a956128"
          ],
          [
           "4b12ee89cf18736763d649e452e2b71d059b52cb53717e416f6cbe4fcbe3c91a"
          ],
          [
           "4b1d1d0fe7eb443d6df0bd97f0172bddbf692aabab182884fb3539dc9f1c1480"
          ],
          [
           "4b3868e802dcfa411d902f4277aa2c0ae92c5a3bcda6d3308c72318eef446dcd"
          ],
          [
           "4b443a210ba4dcc4a676d3651b2d058a6018b85abcdd12eb6b07d67657d206a2"
          ],
          [
           "4b773b8de93e05d43849754aee298f8e34009792c8bb6cf45306761b0293253c"
          ],
          [
           "4b7e51ff058f25b86c3748ba1060919d9e4bf4cd6fbceb8732eadfbb8c1a8891"
          ],
          [
           "4be0885e11361e537fcc0c6727ac9f07956d5c4739c7a805f486425c360e82b2"
          ],
          [
           "4be1cd30e8b6bb95722df0a7913dad8b5c252e01ad697e3a063dffb491ce13b8"
          ],
          [
           "4c11fc56d197088af577fe4f5c7ae9ba238b7b3314531f6aa9937d963f785c93"
          ],
          [
           "4c15063f78baa2c21c62ddbf2431946da8edb1b79f379a4a2413156d74e2c478"
          ],
          [
           "4c43be84a481f87317bf0bf360a8e394840f208090fe5c79b98cd794a5bf4d5b"
          ],
          [
           "4c49aa6d9639b4a00d77aced506553b55863d202e47c230ce5fdad8a86a7f853"
          ],
          [
           "4c751007c887d10134b79dad08c1f0a61cb3b18f0263fa2ccfc4bd7b794248e3"
          ],
          [
           "4c789a340a8a64f496c9cfc51aa2cb9492a49a0a5de3b59cb904ebd538f93aa0"
          ],
          [
           "4c7ade2ea8574b2724305b6fc94c05ef76e555d413b5ce3831e50cae0b4f865f"
          ],
          [
           "4c818107ac2cac8f5e83c3d7790371c4515f5dcfc2ceaba2747418357e2ed7fa"
          ],
          [
           "4cb7b2e0e7cdd4228afe698271a06e470c1ad26dc1c407d1457727d0e6a6d092"
          ],
          [
           "4cebed2c6747c799007312b93094c1856a2d9eda695976f087d0f0772239f215"
          ],
          [
           "4cf1611853e40228a0e8a3c76918dcbe1bce4f6d72fc3d13f1a6bbe05eca49ff"
          ],
          [
           "4d096ad33f547d41d2edaec4425866755a18a5ba516b04b1b987a81fbc6347a1"
          ],
          [
           "4d5ddc0c24be23ee8671a042e29c5edc10cd2aa80a59e89b8b1bcd71d0df4489"
          ],
          [
           "4d71a0eaecf5ee33c5b8331e51e81a7eb32e116fe5d860acef9068f4c673a699"
          ],
          [
           "4d9459acd6d869fca1af5b832f2d74b98476f6b9dacc48d2a503c76b935ccc23"
          ],
          [
           "4dbd4e2dfd78b52a6e348407ad9801eb84a40793c607eca19f68b8c57dd5a163"
          ],
          [
           "4dc2398e149fd0fad27568a4bc9f8fb0a610b217f0458a25212363a825a44f68"
          ],
          [
           "4dc5741cda5f8044cc2a683f368380c1c203fcf25e367adadbb55b724f3436ea"
          ],
          [
           "4df75b76da0c0f12d2ee2fedb7cd1af2f1986ff3184ab0d867db2a0873f2fd52"
          ],
          [
           "4df8a15896f3120a662115dc4c653dc802e11d530bc758ba2e2e8c35cb2820a5"
          ],
          [
           "4e0b1ae120c0d31fc83071a9e3c9bd822159b46fccde1b3f2d9d7f590581e238"
          ],
          [
           "4e0e89bcc0b221b3ef98de1e4104a4b7e042e0599103f1acaa80b3f9dbeb8846"
          ],
          [
           "4e3230810b224ce251dcc11941ab0adc57f809d4dc77ca2cb459ae3b45c24171"
          ],
          [
           "4e3b999c986ddbeac20809d9086b446d48c5cf1cadf0cb8ce2ed2cb2895b5573"
          ],
          [
           "4ea7c12987f4f09fdb75c9082f5fef419b0b0c3189b8b83ab7f733d7f80df895"
          ],
          [
           "4edb3cbe19d0daa95ea73249c81e135195b56882efbfcd68bbdbd60842a93036"
          ],
          [
           "4ee8fe1031f97e7b1f55cf4dd039a7983c4b143e00e358914e40b1b5633c52a8"
          ],
          [
           "4f18ebd11f7a449eb7c85e08235ed5ee07f5c65352ac013b17b15c0aba4e3ef0"
          ],
          [
           "4f3c1012307ee48c830da5bc8d0d4481b69a1dcf63e838134469a0afbcfdd400"
          ],
          [
           "4f3f28795273b063a21822c5a46e73c76f3bd1cc0c44767ca60d9bb31c88ca1a"
          ],
          [
           "4f46c084d9ad8781b4c7112bbd41130fd3d0206b83231c4f8210e5bbb01f6e7d"
          ],
          [
           "4f4810b4454bc9639dba809640006055070a9321aa4a5bc0f8e7aeea291354a5"
          ],
          [
           "4f4cea7f619324d2bb0c0b08b1df2a0cde8d49632a4439d9b12d65e24e88d427"
          ],
          [
           "4f73f985f5367d3b8b4e8307d6b6778b0c237878d1031d128c2373142be2447d"
          ],
          [
           "4f92e1f25009e45bf279aa9f827dcaf42f5241d3f3b06f97a9af96859e58b688"
          ],
          [
           "4fa1cdd65463be0cc8fbec6ce27c22987d9c427a3307c232f8a8115f06c94b92"
          ],
          [
           "4fc8a70f4f0faee3b5d389f3dc0b421251f843fe837e86152324f5919e603a73"
          ],
          [
           "4fe18dd569edb1a5daf444d067c4ff9d471cbea1197267980ea3ca71d26d3bb3"
          ],
          [
           "50207cd1afce983cf0bcb47041eb037fd28988135d34dcf59be3afda9bddaa52"
          ],
          [
           "503cfcb217407f7625feff89cadee0dddf10b4a146a4e325f6924fe5a9e0ed43"
          ],
          [
           "505fab950f84b39cc57215054d9fceb1b5c6f0f65ebf8f9155d06ab4d80f5c93"
          ],
          [
           "5076d13715f89cdc941c8f83b15dd527c563188b250c02c1a9c880b2dbf8f647"
          ],
          [
           "50c4cf8f8cd3fa6d52434b688048334a3361effb42a3ae72beedfa54bba22922"
          ],
          [
           "50fa2636f2b46c44784a535f6daf5afa06ae82dcdbe82f073651335a65d9d738"
          ],
          [
           "511de753fce6785421ddbf9565969b5462a53cead027630fb71a2e77d0ad784b"
          ],
          [
           "512ec3e88e2b1512e56724e6de010282a1f90b00288e0c304310c50baa1e91b5"
          ],
          [
           "51376cfed1dcbc46d0a0676832a070778d35b9f00f6521658b4e1d5af7f38c07"
          ],
          [
           "514d2fd2eea38c643dc4cceb4fe009eea2ef5825caf2fd7c1e801e5fb5d24c53"
          ],
          [
           "5151a4d921dd6779d82a1e199fd6fd9bec16aaece90d24e11c230f821ce57fb4"
          ],
          [
           "5157281dbcb1f382fc5bd59d2db893c2399e0e84311ebec12d10a33870cb15ba"
          ],
          [
           "5179dc8870cf461c47504f58abced67ceea83cbf940034836cace890c2feb93b"
          ],
          [
           "51b38ca9d086c0ebf94289933599ffe61112e539a16caa6982e20173e96338bd"
          ],
          [
           "51c6913d83e445c6e42b08cb3b4e66bd5a2cff77e05af05809994f6d9ebe041e"
          ],
          [
           "51c93d898b92f031b30d0557449c3347ea214c9fe2b2e80ad23cbe4c22d461dc"
          ],
          [
           "5266adb269287bbbab2ff87bf808a9bbb37f806b7a3db54c19e7e40a24c15b8b"
          ],
          [
           "527269dc0a85f0ed169f106254b8845cdfabc62732d8c25b95f02595278f5832"
          ],
          [
           "52b52cd8a9d102796129532dee2ea3f608ecc3bed29e3e20ed50420610fcee1e"
          ],
          [
           "52fb389c54450bdde7f98a4f2fc18eba091b4239b8298a68461a22ed9e4577ff"
          ],
          [
           "5354ef722261dc9e6b1988bcf5b6a7c2b54cd970ef335fa3876cba55baa17a32"
          ],
          [
           "53bba27efc54a3d2d2f1d43f6e2223795f2495c70b74b9d3fa076bf74e6c0613"
          ],
          [
           "53cea0d7909d6083bbe57e46fc7b965333db732ff9ae57efd4ff2f2d09d660eb"
          ],
          [
           "53d06dac2dd41a70e3488832725dc149f9b279510196913cf234b09684e29021"
          ],
          [
           "5403457bee2f2f504b56d002adb8d401acbd9d1dfa19a582e6774bf60c3e5456"
          ],
          [
           "540bcc5ae5be00a49a95e0a72328f81f13c17a3e2c170d34f61829f8e4bc5cd3"
          ],
          [
           "5448bfb4c11327bcfa49e15dfd358c165b86985edca22e1c409116fb3f7f5ce1"
          ],
          [
           "547719967d18ea915b60add94a5b1769abffa6d6ea6ebcb8c7a580798e014cd8"
          ],
          [
           "549df24cbd75c5e4a3e86207e2f029a389851147bcab229bbbcd9150bc1405ec"
          ],
          [
           "54a0c73f63704409be4851c85c2f0079fde3396edce709b4387540d349697a93"
          ],
          [
           "54ad17520f2e6f7cafb3d0a808b2e0f97d2bdcde818b694b0f383c496d12589b"
          ],
          [
           "54f766faed2ec76e2fbde7115ba354fa21a16f2ab896cc66c9f51a9678a805d0"
          ],
          [
           "550200f3f925aa72e6c107b55ea6b02ca0a7d28b7b9f3f8a057752f2e4b9da1d"
          ],
          [
           "55362d66847a27d91047dcc6613101c517aef36a5d735cb233f65a1e676c3869"
          ],
          [
           "5539f98451c3708bd0573ab539846a37389d66ad07bd1e3a2d253b7f116af820"
          ],
          [
           "55426109dc61f372024f927c6cad653143031d2cf7e8a389de2c4f2e6166491a"
          ],
          [
           "5568c72079839406111bad22568ee285c5dd047f363c4090731ba69419882abb"
          ],
          [
           "55adaf016c9ebcd72dafb224b47068fa46fb662219caf47604f10f059588d688"
          ],
          [
           "55bdd713469101179543e1b1c18e6942a35dee4ec504ee39566a16fff72d0b11"
          ],
          [
           "55efd8e911251a29ed9c2e12026d8e2b344f69b9538def0236e79a0ae0fdc6a7"
          ],
          [
           "55fe04262d6b990241d71d3ab1b76c01ac8044f4c1281d94d8323626d57b8d9a"
          ],
          [
           "560b1d02b7480fcd3a1d5ccfbecf63c5d0d000772bd2c2dea88f2c028412b04b"
          ],
          [
           "5637066237531ff9953b4ab5f1985070c4edf17485ac75a462042bd05a3670fa"
          ],
          [
           "5660517425f532b1ac319193d6fb796502395231a6a696b697842326fdf19411"
          ],
          [
           "56a00a313e83788e63d58bdc1f701e71b7e4eaea1ac0db0d2a6bc0a15b44b098"
          ],
          [
           "56b0a3700163d72753cac941abdad0aa3293077909801dffb5789e7f8480fd34"
          ],
          [
           "56baf142e6524da7c5e9478f6769489555c3913b0d71089b065dacd25ab1ccbf"
          ],
          [
           "56dcecd6a9641d77ef35df07169ef5e9891148c84bf556ff233cbbbdf3c14f1e"
          ],
          [
           "56e30147baaff7063619a0536f9375049b3802c8189a5e123d54b4cb52042c5d"
          ],
          [
           "56f6d74e61e1f1ec9fde4ca987632da5696bc675f7a3182d924b5925fcb427ab"
          ],
          [
           "570be9bd0e7ecc923553b3988b234749d66cac9bb8d0b6dedae5b5c58d4fe879"
          ],
          [
           "571dcec004da899b7c91d4971e97bfbd3c592068dd90028d439521e4622da2cd"
          ],
          [
           "572703048d5cd09eccda08080c2b0ea4debf0ac2f39a96a94dc3fdec9649e591"
          ],
          [
           "5757a801f7a4acc7d1c787489397881416ababe4ba7112d0306c46cb9d798ff4"
          ],
          [
           "577decf502c27e0ffacb3c83da54a82aa300e02e7897d01b5dd52bce20f42386"
          ],
          [
           "57e1fcc2f7d072af5c85d6d048071f6365b53d840567ec8e32277b0503c79604"
          ],
          [
           "580c2dd3c0011f13946cedd68cd381724e2a2da6feaf5a9418a57236d449e3ab"
          ],
          [
           "5820d1179f425fff0b6c2483f7c636fafc493dd115f79099a93d2ee3dd44b666"
          ],
          [
           "583556b63ac6c81876efd31d4b5e1579fcf939a934e17d40965e107650dd330f"
          ],
          [
           "583f58c487c31c2a36096fddf869c1b4dde69b0ca19b646ade1614519b34aa0b"
          ],
          [
           "5842569782f9aaa9412778b7615123d07b1a7a084b71b19788d8696e84e36f8c"
          ],
          [
           "5863c4136d29d1ed65d4ea08b0bfada54994866283bacc6a425b6c4964422a47"
          ],
          [
           "5879b8b7cf24b504e4a866909228312416bc4c6da0d57bf4a51e2d048dbb39c4"
          ],
          [
           "58a6ed395697bf3a53e9a381c19411cc396ce774404770365a8ab905a1986f84"
          ],
          [
           "58bcc7401be5d57c125e3d20b675e964d86e8f701fa2ae10f8268322c7450ac6"
          ],
          [
           "58d82eb17fa939114dda03425450077037f24f536270c8065f3dee498c47f8b9"
          ],
          [
           "58d931421a9a9bb5f72b9e8146e03e513a845f3427c1dd5d1507e2b7a3d252a1"
          ],
          [
           "59270d97d39f27185618b874d9c99c8e246b136cff9569f53a56af6f5dac9363"
          ],
          [
           "596de2bb6fa0378e078a4157adad0b72f7565ccc6fc7318069ca2dde4c7e1411"
          ],
          [
           "59c7a637f7050a6eaf9fde5c7f1324132fbb7293d6af5be23c59b2dabbde3040"
          ],
          [
           "59ed2a7b57ce0e48e1df6a668c82c98ad98070902871e3918fa22ff0ac68695c"
          ],
          [
           "59ee5187ae2a1c5677ce3455b7637e82fe14f14f2fd56238acc7de915e6b6e1f"
          ],
          [
           "5a37cd7179bc9ed7458222e4572a16e9dbf7651ee5160219a93c96dc8087c6c8"
          ],
          [
           "5a4374338bf3b0340572379657b6489fedd11926f349762a3cdc4a01523bf243"
          ],
          [
           "5a44b0da1711034e0f6945b13b3462433fe1470bb94809802d6ef8269ea0b49d"
          ],
          [
           "5a457dddfb2ce60e9d9fc2cc05122be4c8ed159374ac0003a713b9f2ceb6c4e0"
          ],
          [
           "5a69b3fb5ec59b245c60e535855a552b82845d63f6cdc8579f064fb38ef4a49e"
          ],
          [
           "5a906f5e8777d5264ec8259128634cc6f54fdcc32b2e479b1f9ec28ca52a7d93"
          ],
          [
           "5b32edd4991522821905560853986a92f04ead6e2ec240371ffc4723fbb2d91f"
          ],
          [
           "5b547466fc227b465791f18cacf22b9b7d5525b06254e85b37e660914e139627"
          ],
          [
           "5b728cbf523a440def1c0f7d63e411452fecd87044c3901d16e9564d9debf592"
          ],
          [
           "5bb1bd991a3b29df82a23c7ef6bf6c75b4c0d26f591ca1247fdac1c3629c1167"
          ],
          [
           "5bf665efba76d7d0f2fb0d6b03ecbb18a0b727c85a3d62c3b468e1ba23573566"
          ],
          [
           "5c2c3c50a426034645255e298eb53f4d80f45bed4f54691eeabcc12bbb6773e1"
          ],
          [
           "5c4236d9b31c468138d0959be0e043fb5a2bc3df1175376a75778479934858f7"
          ],
          [
           "5c82838d8b198926a918522db3ee1df7a74cb49bebe8c3fc6144fb91c62deb01"
          ],
          [
           "5c9b674fdaea0a9b97d9b9ce5f3d13cd30afcb5d743cf2abdce1372ae25b242d"
          ],
          [
           "5cd0a8a023d20feef58c8a1e6fa9e716f23cfdc63c255461662db128d9d82bc6"
          ],
          [
           "5cdcf4229cdc2a5e39dc55c0a963864b7a266f9bba89ad3317b2f394aee8b8a6"
          ],
          [
           "5cec8722ddbc85b55adec8be39dee0cc0f7f2980ccd7cdac3d51e1487be24b69"
          ],
          [
           "5cf0603d60233fde1c89acd444f79716e2d911111824860128926c3cafe5dea0"
          ],
          [
           "5d19cf7de95ddabbaa4f487d15c24d0d81ff4df637276e39393d001b70dfbcae"
          ],
          [
           "5d5fddc743eee0a62c334380a996fd45e1e1c50f6733a5142ab797827f68f265"
          ],
          [
           "5d7921d8c9b803dc58dadee30cc115314694c52a3dcf12a88a877c17293ba31b"
          ],
          [
           "5d825e886293e59518163a8b8c28a8fe3e4c63ad968b6805d9055788308e8c55"
          ],
          [
           "5d9b22938098d0fa914a345b2e73700abcba1a944253eaf2b268febf15b32c20"
          ],
          [
           "5db615e283e8013f8f98353b94b956ec6ce157d1370accb02e401b940c9c686b"
          ],
          [
           "5dd0b701674c647a0acdfb8bad767191ec66a2d416039cca99c68126cd747cba"
          ],
          [
           "5dfbd6f9da158bca1c19e04cbc37313b60fdfb1fb7eea03d7f8ec33592434f6d"
          ],
          [
           "5e3dbcdd6c875eb3e0845f2a61bfae0b8f22b9e898386ac11a108a44be61dcac"
          ],
          [
           "5e8d3166680bfd696ba408039ab13e4fb0ea5dc30c9ef46020c6fc93a5a6929a"
          ],
          [
           "5e93fcedf5ea2cf7a53f74c035ab6103082b3b97e98206389c021b7a5fbe8d17"
          ],
          [
           "5eb3c61b233cdeb59da8282f48eea379c3ae6e397ae9ed9acf08e71add6ce938"
          ],
          [
           "5edffe31e8bdebe1552b2d0341146beb60263aafff33acd7312d9d785894f5d0"
          ],
          [
           "5ee6459250abc0dd1455cae2e5eda339ddbc00b42631cf05ed15722f891fb94b"
          ],
          [
           "5ef6f70c5e60a82aba92f98e9c987ef0fb92cfb5ce7180b1547491d12911c4de"
          ],
          [
           "5efeb211086040bd9813b3eb1caf41c624124bd8a56d5ef7125de1588ba8d3dc"
          ],
          [
           "5f0f1cf5f6ba36f0a0242f346afdc69353815c659079fffcdfb5ab2d0f2eb467"
          ],
          [
           "5f1dc6abd018be3aa4edf500c4a4425da7fd83477f38e71eb973a9e6f26287e7"
          ],
          [
           "5f4abf537e54683263c715106d1e223a6ce7b016fb6619bdca7ca67b36e20527"
          ],
          [
           "5f6e48f86ffb9ec72309677a5bd82f272dc3845bfce46556fc1fe56a50fd9db7"
          ],
          [
           "5fb91982ffffb147be4e4343ad7a4a5c73aca181ccfe3867671625ab410ea62d"
          ],
          [
           "5fcbfaee0295381330e5fb220688f10780390b2a0b77b022f9367895fbe7f99c"
          ],
          [
           "5fcff2bfb9e6bbe21dd9bc2ac37fd368296546a374dddd087b575b5e5358ffe3"
          ],
          [
           "5fd9adceb1f7035575c8a042efcba87ec465807299d3e02d08283806b6aa1eae"
          ],
          [
           "5fe67e0b61493f32441a06a5e13a8aba7b57d66fd7f48dd1846f11636f7d5c01"
          ],
          [
           "5fe90707ff7d35425fdabf7a0d27090350cbc1a940f236d46b3c44b937dbe3ae"
          ],
          [
           "5ff8786b58de56f1c684e33aba9d12e6e87f3e944f51700d5164efc4c9f70602"
          ],
          [
           "6024f17c8a9c9df7a37ce348f2e5427f507b752e239ac758193e65b0762a475e"
          ],
          [
           "6037dea3de084898347dbf37c47886d5586e9db9a1f5c71cc1cc1c19425c77a3"
          ],
          [
           "6044bf8e17442c5fce6f305bad5ad82e507eaa4845c3046dbe31d6a51338b8e5"
          ],
          [
           "6060ba9dd3c87f9db596373a79235e2f8dc5593ccc66d7616cd3b18ae2950022"
          ],
          [
           "60b28e3ab7cc3af53f87b53feb9490c92e7e3f2bcc7f269a366752bfdb0364d1"
          ],
          [
           "60c3801cdba71c53c90ee638d33e1616a067c04cb68ed624ce9ac5c4e2f4159d"
          ],
          [
           "60ef03fb2cbf699d532ace2f9a04ab7ce3db0200ae0e9a2da47d7801c88e5f5a"
          ],
          [
           "611e4d92b879d794771a800c7a4746ec12c47b5cfa3409c5b535a859f3ef69cc"
          ],
          [
           "611eef9f38f04582eed885be7c4d73c96a43ea64d038d4f4535f3d3ef7d242e9"
          ],
          [
           "612e224c3144d7ab7f99fb3bdde1318ba58b0845ab7335ef04cce7bca1dd083d"
          ],
          [
           "615ad912c3cb101cdb685dee29ce4b86f2710fc7b7be9daa06ea25be4b5d32fd"
          ],
          [
           "617bbcef2792bbdffefcd42b3c1a3e160df228ce274a65d1c5cda28c26da4fc2"
          ],
          [
           "61b23a698581f4520ff77befd374b2e6e7d3ecf1b3d6709af957c14b7877f02b"
          ],
          [
           "61bab4eeda9d8cb7f052e46ae11270b7331ee8cc6f236ec3afbf8f39086e3e99"
          ],
          [
           "61d6ead0e7c9eb436ac99793221ec718cab639bb2bba6ea91fe2994c6863fc65"
          ],
          [
           "621dbd5c9bb09403bd855f69d4302fcf9f26fc5d3bb0eb3744018ee7ebdccfed"
          ],
          [
           "6297b84b069849de6761ff7248173b40b95e659b233820d2a2ad0b1c0c42ae8a"
          ],
          [
           "62b9a2bea0e73ba38642ca6c234f583539c6838cdf1219e639636bb076707ee6"
          ],
          [
           "63015175260b398389ddafe0a61e0cce403a158a148721c6290746ff38f3e920"
          ],
          [
           "631452a15898aecefde0b5219741c656050346cb4d9b273ea27350875529415e"
          ],
          [
           "631902d1ea5e91fd36f766005e80c8f1d9536b53328effe12a8d988f6670dbdd"
          ],
          [
           "631dde693cc041a581091c36335e96533b9741863bdcc8a9aef98f38c692b4bf"
          ],
          [
           "6330914a5a9458f0d89f6cbc03aac7858b8328dc49b1054aa6face86a3aa47d8"
          ],
          [
           "6392be1b1108621e4a8dc73921451676a4141f23151929fdd720fd06aef44915"
          ],
          [
           "63a5c31621886b6e4d9445a7055ab2fa1e8c5a17b8366c0d182c9fdf2ab0a33c"
          ],
          [
           "63c2cd4515271b70060fa2713fcf9f0bfa3872c3a3f4ae87b079e5c58455c567"
          ],
          [
           "63d69b1f81a1c02e4171168298f8892a0b8716d3e0639cddfed3119c64b6bc20"
          ],
          [
           "640ced1b428baef2934c07c90227131707897a02b1f801e70a96f41eaba1c2eb"
          ],
          [
           "644619f7fbff30cba8391314da5797e492f4bc222003b09e8a48e8bf58089c56"
          ],
          [
           "646f7daf0fa816c5f050a6040646a83f0b1898bd7382125ea670230747fbc024"
          ],
          [
           "6497ac21c2df1513e72d79942dda645d03c6df5cdf9b21e6026e9a399a6a5a7a"
          ],
          [
           "6497f5ae00dee7410d1fe4f1c70909b7cddf7369c5bd6f2cbb1df8c8d02b651e"
          ],
          [
           "64d94e4e18053bfc55bb0c50aecc457582f769cff3223fc1d0638cfb54492bf2"
          ],
          [
           "64dac15eead177d0b4f770f557e3bac58b74a75774b1ec6cf6909a32caa1bc79"
          ],
          [
           "64dc3cf20564b880bc5f5ca851c2067aebcf2d7c37d94fa355f9a0b461b6b2b5"
          ],
          [
           "64eb747407b7e4f91776bd469415c6da25a93af3642f86192b4fd6363cd56d1d"
          ],
          [
           "64fc4676b502d5eaa776bbcbc48d7d02ac62ffe86bd3b92a1d935d6f56e5fc2a"
          ],
          [
           "6512d9d53d7b76024b407a19a4c5f3fab32cd8de868088de09841e515a261f87"
          ],
          [
           "6514d06252c48a8bcf5097a38cdfd6036b6f4deabbadcd68fac4e3366c8ea370"
          ],
          [
           "653c08eb28d4e597ad80e87b6a5ca82bc40ac094531a36d7075b78597fdd5c37"
          ],
          [
           "653e5f7a69c5fa7abe3a9a4beecb55a8774ad82f3527048085a5a53b4cc3a1fe"
          ],
          [
           "65601f87cf7ffa6c8bb54b9ce43b10e31bd484147b411882264052713d12862e"
          ],
          [
           "65b7c17ba2b8601514f86a3ad67d2a3e02a05cd41714649b5b759efa796f713a"
          ],
          [
           "65bdb304a96b0ad0ba2c3bc313e7b960d64a097d05691b26062afb57e07e19cb"
          ],
          [
           "660ea96a2abebd668d9df3d1ae28de17e9fadc657575e27cf8e0278030e3c2a8"
          ],
          [
           "663585296fdbb6cddd10be7aeee3a3acf0f2c95a4372c7fceea7d67eeb6c32bc"
          ],
          [
           "66403afad11e36e33d6f772db5f3da8041f9564e24d805f022e72e7c2990f0cf"
          ],
          [
           "6653fc36f4c03b1977787b7bc626ee6c9b8d9833b57eaf806ff7c514748ae780"
          ],
          [
           "6669d2869c185fd5bf51b7e2e17bde7b274e191af047333d7c79e8fd77b68e3b"
          ],
          [
           "66b93e916778c68d01f41768a67f87167ba928aa00bcc1a10a4a8889cba3299a"
          ],
          [
           "66c61565813f2097b4c93fcee977ce698d3ecacea1e0527a6d278a73d98d6ff9"
          ],
          [
           "66d7ae4d41b6d4774e635aeaa14beb962761b6a0ddbc243192ff82d4f792e263"
          ],
          [
           "66e5b15f536d6b7f9ed897a8a79b261324ef0a640e038af40d391619b2c445f1"
          ],
          [
           "6754d689cd68b05840e8f81dfae6eb731ae69f4e1d6a60bf9b3875896090e739"
          ],
          [
           "676832f9d29c3942a1a5e27cce42c9cc8936edd35195eab4767490e24526367c"
          ],
          [
           "67764a240cf81bb55732f31d3db69d30a8ede4e5e9ff12446649ba95bcac9d1f"
          ],
          [
           "67a5493cbfdec2b370e4def3458f722aec7197d09bb5773253acf3e0e5dab1f7"
          ],
          [
           "67ba650ce17ba19e52804c77c9d17bd97fe474b93315fbb1921f10f625bc60a0"
          ],
          [
           "67f9830ccc719b39df75b452eb1e3fa6a98887e1fd7fd80ce0fbfd1cb9373fc5"
          ],
          [
           "67fa14e838df25561b158a07db5b5376c87b2e9c411ca5d6f532a2109f60f5ef"
          ],
          [
           "6811ba3f2a3d8a0f7856b6d94c2d5f3f5c8f3a23ef59831da60bf8c106ca728c"
          ],
          [
           "684957743cfd65fcf1866b8995064acad1eefe204b0ab99e99956763449ef4b0"
          ],
          [
           "685e5cfa073dbb64fd1ebe2b880659e1feebc8178e6b59e0314d99768b57db63"
          ],
          [
           "6879731f7d8cf2947fddcdb7f21131273fcfb857aa9da701cb73685db4ae5aab"
          ],
          [
           "68ae1d900b5e2d945148a29177d16341ffdee787958abdbd96b316983039e65a"
          ],
          [
           "68efc87d506052030b803407b34cdb0df7962a11b173acdc4ae2bb89efab380e"
          ],
          [
           "69118de1676075cb4a2d6e019e1aa6f946e1c2de5d3596a35d0897e8c90be010"
          ],
          [
           "6912b816ebf14fa47b35d1462d47b39e530c0e9c1bb3ca2492d62ce0cf9c793f"
          ],
          [
           "6921f2577d251b1a16695c176eab2b23fe6756a9eb0cf711a444d426f3291891"
          ],
          [
           "695cd7df366d789d9a04a8fa58ae6843af4d977625068f8bf3e2f22647311a60"
          ],
          [
           "697b11794d7ca51ba188a2d080300b6ddd9baf483cd59425f8828edb076e07dd"
          ],
          [
           "69e26428ae51d911167a817bd3518742ba6b78d64efa27c433ad8c836f0ec4ea"
          ],
          [
           "69e46cf64167e2ef7c6dfd6783fba5baac32cb57fc908c61fd18ae7d5a31bc39"
          ],
          [
           "6a2e3aaebe55e9def8332b072029527def806143e17fed0832af19bccae198f9"
          ],
          [
           "6a3a956371f9b22dd1247bf8428c0998b27fdabd37d57b3ec7a5ce2eeadb8b6b"
          ],
          [
           "6ad673d9f09369580b523db8ca9afc91bcd3c874eb636a71d814cd082b989fb2"
          ],
          [
           "6b1f58cd5db235b4cd16a545fca474def0e81936128329965a6b558109e18abb"
          ],
          [
           "6b6a5e1d49936880d4dc000828380e877a4107f22081998de7ee479147a646b7"
          ],
          [
           "6b6c92ef8762d66c9b20b4877636868aa936a974e4dd2b5f37322f9c0dd483a6"
          ],
          [
           "6ba91b14730e5890545602fd6ef869bcef871712a309c14ea95430eea4416c74"
          ],
          [
           "6bb8ecdeabe1d14ffee31be08bdcb06963b3d4ae3ec1e73276a9c0eac416f59e"
          ],
          [
           "6c1b47d8ba0d9670ea4cb8870a77785959b22078b199bcc5ba946723ce755b0b"
          ],
          [
           "6c34a9a9df10f299ca4894ee3dd117a1afaca92c8271abeb823e369927c08a66"
          ],
          [
           "6c57354dbede306c2de57d5dda1a8ee763c17aa2ba2fa3695e5d5d1dae855a5c"
          ],
          [
           "6c5ebcd3153fe983f6c84120ce5e202fcbd2c1a5707a52dee122fd5e8f2cd00d"
          ],
          [
           "6c678636c4f0323736b3e3f2ce8ae7aebb0e5ce09a245e77d85161cc8aa0a2c6"
          ],
          [
           "6cb174b8e4281ef45fdf3152991f8d5fb9f96369858dd5efb440391f7dd1cedc"
          ],
          [
           "6cc071d09a73d4b234809d8752d66ae722a825ce30b1b07c9e40330f1eb02440"
          ],
          [
           "6cd6015502e854d3eeb6afb88eff408e0207f9cf5bc5e15cd6969d5439f6a53e"
          ],
          [
           "6ce145a53c48a65adde2075168b95b840d2cc415dbedc37ca409fe8e49f9fa51"
          ],
          [
           "6cfeb5d1b082ca102c53149a07c6dc98b99be51aa9e8ef76f325b646c1061a67"
          ],
          [
           "6d06680810734c408c46dc2d3711eee007dc7162cb2d79933d6899021768a28c"
          ],
          [
           "6d5d8a46667473fbff3a0a122fba4c5cbf5847814f2b18597d8c191bd76f3950"
          ],
          [
           "6dd62fb75a0323b9ba7f7bed7ca6d62d397ab518f293250c6aecd77607ffc51f"
          ],
          [
           "6dded13181661646941e6b4480ac65988ab139b40ea1c50622ab218ac602c2b3"
          ],
          [
           "6e18d2a946c27184c84ec77833e2fc30edbac14788a382ae8b8d6508b012793b"
          ],
          [
           "6e92c34e0e7fe84cf00ad544a935d421769e8cf08a8417343bb87fecc7f86de4"
          ],
          [
           "6ea77f757fb442aef212770ac44a776a78c71cf91ccd5ea093acf143da19a63d"
          ],
          [
           "6ec71550c58ef11bd807714b19f576cc0928f193cb3c323657e68814afe087a4"
          ],
          [
           "6eddb541c5284e8806e6978fa8f01cf95e183abb9844467267d9f5fcae499096"
          ],
          [
           "6ee1e4564fe0bfd9b7f7cfad790bb7cf95262a04897244fda427cf63dfbf1bfa"
          ],
          [
           "6f15b763f31836f09017df021964ae715f705d0c22bd0e76f345fed39a35ed37"
          ],
          [
           "6f4d10ac9655a4dbf838d2ee0b33a906f83f5a181fecdd7f43694080ac632963"
          ],
          [
           "6f6f3e86edc3b28c75aa02aec7a7289464fa5661dbab7eda25d1e700c0ee8785"
          ],
          [
           "6fb400e647aee3b107841245a9873191d0d4276e66c889afef0000c2ea4c4ab4"
          ],
          [
           "6fc55186a98aa81f7e1f48b52e089e1cfd085c58de58fe7d02af50e0c0bd068c"
          ],
          [
           "6fcf5b5efc928a955616ee73367139d4e9c838d0a2b2e3f3f2ff33f11d2605dd"
          ],
          [
           "70253e8e69267f782c44505bdf187528f44497de88d88ecac94c2600ded707ed"
          ],
          [
           "702dac5fed364dde7165ac082e5951318a159ec43caba6de77b7ad70befd6f25"
          ],
          [
           "70628d9d2e96a9b257e50571ceb3fce0eb79d5d2b655695c9f34f01477d6ea9e"
          ],
          [
           "7086faf84f904c870bc3b831b2c89a5bd6e1eed4dec351d5c603c31cfdba6988"
          ],
          [
           "70af187e92636a4866d13445bb7245e00443e822fb6789d41988f5d4b9b40164"
          ],
          [
           "70c00cd5e9505c4c586fe7c954fca1b1967b7d6491b9c3caf8fe1a504ba96999"
          ],
          [
           "70cb7ee6926a99805de68b66da49ced8321bf96b399ab32db9ab9e3821339edc"
          ],
          [
           "71473e0c13a34306eba18714c5d35edc5be3162434a7a8da4edc2499776d0e94"
          ],
          [
           "71e362f1a042fc031bded30513a7b7772e4074fcea754abe9b49998f38e2d4d0"
          ],
          [
           "71f53ad97f6e206fba3f078c45b656a2cb30c03473c8c8c311e5208bce50a59d"
          ],
          [
           "7200487b7ea33a380809466aee09ef3c8723b3f0d66b3675d395b9dd7a26d073"
          ],
          [
           "721cbbce73121fddb96f19e8562ddbb12efc8d183abe62c8067c85a43ed48889"
          ],
          [
           "72308e7b3488b992750c4f2a523b2d8ac35f42f3550976122c6c3d665b761e51"
          ],
          [
           "72ad8e9f847be98d44517ac38697fa5bb383e225ac256b032b59c4cd7c238ff2"
          ],
          [
           "72bd028005a7b9ff926257d056b79db2f3ff8008a6d16b9963067d68fb55d228"
          ],
          [
           "72d94997eb80068877a3e5875dbf4cf7ac788db511c1c7415fc3d7bc60eae7bf"
          ],
          [
           "72ef8a2e0f3739612dfb51100269fd85d3bfe0cddb943b22ca78077549ac2fa8"
          ],
          [
           "731b2d46f8a110492d9cd9dd85ebaee3ef0386d252cf005db1c8c5cc7e10d49d"
          ],
          [
           "734c785d39f589d41af1be7210eb1ce476e438b16d8519b300f76408d40fa36a"
          ],
          [
           "7387407b77aa66aa783efbebb7a6e4759493e00bd4f355222179499724afad23"
          ],
          [
           "73ab3aab24f34db8a2455ea293403bceb04d8873073266991fbdd7f610a7b557"
          ],
          [
           "742f37e5dbbc19696efbe683198d80b3af6b9050fe3a1b822fd7aba588fb7ac3"
          ],
          [
           "74aa0a9184b16b75a7346293f19fca958fb5be2c250857d5f2263181bdb0dc5a"
          ],
          [
           "74e19a804c9cc9bbcbe573539c087c8889d7e9626711d6ceebcbd2acf05d34a1"
          ],
          [
           "7547bffe8093ba81f6b7c7299c1bfbd4baf67c97f9e659130664e42826d1e537"
          ],
          [
           "75487c00a300d7f846910539e0acac44eb579fb369d6d7ac1cf56beaf7dad141"
          ],
          [
           "75555a742beda6d578725bec3eaff4c0ed7f6e8b50c5ea0c0928575b9a64f8f9"
          ],
          [
           "7572250f34c31e2aa80be48ea1bb839ec22a89a19b27961fc87309a8b1ef63ef"
          ],
          [
           "75a5339337c37760414fea63db9d7121edb881e6d07d854dfa91973f833e8f31"
          ],
          [
           "75c2f99c59cfd5c9c628d40d25d1525682fd81ba5652ce554fc17b7b501c75c5"
          ],
          [
           "75ebec720dc8475d422bd09899891494201d6478df4b145c51b8ec7d503cb0f1"
          ],
          [
           "75f74d74dc5cca72205ff136bbbb7499998efc50869963cc03a977437ead2d6c"
          ],
          [
           "760dd3e704cde366cd0642c97d713b089e7682d23a8b88b5f3dd91a66136fb78"
          ],
          [
           "762aaad8deddf111799ed3c91edd9c015680c4697abd452ee1a3f98140df5d85"
          ],
          [
           "765f412e88ebbbdeba84b3f2d983a6ef6ae42d592427950994a55e420932a834"
          ],
          [
           "766f626496f9b978348053ad31419e2bccb36650b87fdef11fd8af99faec80f7"
          ],
          [
           "7675e17ccd1c88487bcf25cd97c74943f2b5a2f8c0e2e2b7749afb6a039fa05b"
          ],
          [
           "768a251bc31acb2e28c5f9f95383b16040f265d12024ea06a88a25748e596e5a"
          ],
          [
           "76ad84cb023283a75be07aea5fd0822ac67246abd988d32a0b83d4fe8ad9eb28"
          ],
          [
           "76ad896c7331d1094362c456833743c7ff48d23015edcbe65e290f64d202a402"
          ],
          [
           "76ade7d36b9d9c2a025e5ec29a0c786b9fa0cf0d6f5eb501e6b40ac75551868e"
          ],
          [
           "76adfe9eed3a22b303c723162c2dcb30ab959257c72896630db8d881919f1dc5"
          ],
          [
           "771acd19e57b179812d4624ec2d50bef6d79df70d21b485618fca796a92b45d6"
          ],
          [
           "772549a1589d138f9b20b124ab7012c07585c7200200cefbf0bc82125a1c2195"
          ],
          [
           "773c5caea66f1875609b702ec09a036d6a92d45fb33bdce72b6877ad08d40ab3"
          ],
          [
           "7748ecb2fa1f1cc5f9e51fa466d8964328aa47f4e12661d8c673319a5740cdad"
          ],
          [
           "7754c04c1e68852ac048e475c421630cd44191a04f173b03e57ee401181b88f5"
          ],
          [
           "7760df49cd1eb57500b278f66fd09a99bdc23fbb3ac08992daf1443d8579c4d7"
          ],
          [
           "77870984fce4fd39df6e13c55afdb62f9885c2a0efed71b71e0a9cca7b9727bd"
          ],
          [
           "77bde9421276bc90c46799dc94104e28d9b9af7a366fba82f40b38f6c9f6a376"
          ],
          [
           "781ba5f202eb21e9f1e745075699a4eab880c4415a3a61275bc14ea4b192bc72"
          ],
          [
           "7834c5a4340ac4b1baa1370cb758ada99d27856169976d7a670c8146979e9d9f"
          ],
          [
           "783acb5bcb362eaa905af5c889afc7e52f70232b9255c02440ba4cab6da8d648"
          ],
          [
           "784a41d9813d68336061e706058620eb4908b34767882412d50ffcb9d8d7f993"
          ],
          [
           "784c084cb65ec1ae913929212bf2526efc6aaf3f3b971336a6950c0422fe2dbf"
          ],
          [
           "785cb5ac49915706198120f37960658cb6f66c30b49cef85dc4aa44717137753"
          ],
          [
           "78751446a58feabd76f9487c138e683f2becb3b4ffa256387597c29a9f6eb09d"
          ],
          [
           "787d3778f904c34c68c178b5b5c3d98e3697a1c6c3f73597e49139ce0db9ccb0"
          ],
          [
           "78b02a2c050ea90125bf371b4cde1130f6880b77367eeb5f347eeb5193d07438"
          ],
          [
           "78d6db760fc28cbbcce983d52094cf3916398f2509b3095bf6f11d9228d60bb0"
          ],
          [
           "78dded3ef35f9012481064deac7b691897dd1ee3e00ed4103edd36e577fcb822"
          ],
          [
           "790c69202edc74f8aad6f13b2e44597a95f586348233ea62abb37e116a6620fa"
          ],
          [
           "7922e5d4a88a3e0fe4e9aefab5317663c2ccfde17354793977d647a3bcf300fe"
          ],
          [
           "7965f07a96a14329a4a2a6ca958be9678e260ead154b777546c1817a6e476bea"
          ],
          [
           "7968926fd2bafab9643211910c83c9bff676025ac1119d72fffc6de7d6e28338"
          ],
          [
           "796d12d1c605f707798215beb2c01a736066d8bd7efb78b5a3a528583757b019"
          ],
          [
           "799839beeef6f273f525293825c569683a98100284132f39c122b5c80eaf4a1b"
          ],
          [
           "79c357829a167abee9cdfbed5f41e2d7082ef488698ddc269ea32d94f4fce07f"
          ],
          [
           "79dc34f456e78d012acdb4a571cae9c5259823f8f467cf16c9c6881347a1f224"
          ],
          [
           "7a0dae05febca489be4d7e4b7a7536f909913c0e378bebf7b6957ff46b2b405e"
          ],
          [
           "7a3cfd811f8900d2457a2498ec2cf0ca3a1db536a352ab92849c8974e29925f3"
          ],
          [
           "7a8c2f116aea8cdbb80df16d05428f3d4460e783b1ad64f939f1c958ad0bcc48"
          ],
          [
           "7aa0e0d633f6469e81ed0e8e6f701d24b690f9e8a565daa45f69effd7efee234"
          ],
          [
           "7ac5669de644172d0dc8649e61051213f62a2fc5c4050c2eb18eb6848f5a15d9"
          ],
          [
           "7acd918a689f374b552a430a05720051ce3a78b304b6b16626a516e99edf6a61"
          ],
          [
           "7af9c6448c55f7b97ddf980e80835972785a6fd829cb5368cb49fd0e1cbfb213"
          ],
          [
           "7afc8fbb8331abfcfc6a2012560bc8803087d49d58e61a8987bb79beb32ce73d"
          ],
          [
           "7b0f63aa7f8f0103e28f20140308072c0032524f7460b17b4833ce012eea970c"
          ],
          [
           "7b6dca5056deb449bb13f23a703eba76b33c6c7b00e49b23fea30f824b4bff44"
          ],
          [
           "7b7adbe3b9542f70de2359900825dcdeadc3fc73c3dabdd7cdd584f7dddfe8ec"
          ],
          [
           "7b7f432fa112e989f4fc7dd997cb1608900d3c3a40f0f8523544fbc874041981"
          ],
          [
           "7bb56e78ee859d51d71accf707bcf43fa9f4fa6328d5b04b7d59deda9cc98d45"
          ],
          [
           "7bc7333872a9c4275984b6aec7fc6df39c5b6dc69775a43d4d65f0cb6c88a466"
          ],
          [
           "7bd20dad2ca9f0507b3029b11e469d33b268a0267d2b33c24a16f05bcf86a9fd"
          ],
          [
           "7c28839c1ae071ac42a2c3ee5a065152e2ae0763670fe1ac2a3e290ec2bee653"
          ],
          [
           "7c33d3f506a2df1c2a278bee7826656f2c821c76aa7f0d81fad54f8d33ec6703"
          ],
          [
           "7c3a3cb3baadabc9cda37ac4b685b4ce575e47417eb27393afacce3f7e899399"
          ],
          [
           "7c3c9dbb94e915f68148afbf8c2a34ba78dd874796629b86d0c33f7e9a5149b5"
          ],
          [
           "7c811f92896a4225ef6c8ca61797ece66630748a7e065b69c8da98c5388cbfbe"
          ],
          [
           "7c9efa058ecbb557ff01e229f03f071be84584ee939d3cbd8881cc9c88ac92d4"
          ],
          [
           "7ca211d151fa694523f3e5ff92cd8cac307b13e4889e13b17576d2414d6063e5"
          ],
          [
           "7cb6c68dec1120ab865ac94349889c49f1aa82c4f9628d1d9ae969f10037b934"
          ],
          [
           "7cbf780a8747772568074407928ff622b87b800960986da6dc1576c49c2e1aed"
          ],
          [
           "7ceb6b00eecee2908d1802d4846625daeb52de565b3c76682ba21291021e1c67"
          ],
          [
           "7d160953d484fad7da627b3682affdc86096dd976a0fa41755b9937a234cc93b"
          ],
          [
           "7d653bf742653fa10c2b1006d3ddbbfb95d69794a67dad361079437eca581e51"
          ],
          [
           "7d682d3fc2b3e7aa032c85681e4576fca110bbf512d64ab6a4042c1c94d8b749"
          ],
          [
           "7e4e141077d64776ee76bb8efccd9060d7f05e3457d47664b9fa5a2ca87fa73b"
          ],
          [
           "7e7f78ff6729269ec196ecd2d9a0e692b42e8abbc85533272a98687dc3c4cbf0"
          ],
          [
           "7e81a8b4f846f0fc51a5b4fc580429a0c1781610be4dd2bb84c8a4083f6bcd5c"
          ],
          [
           "7efe1f6a7a04ee55557191a67b222755ded62ca0ddfd4fe6e94c459a1b18eb7b"
          ],
          [
           "7f07807c5ca9c60277082cad93092017553d29d8bb22c3162c59c209e3066622"
          ],
          [
           "7f5cf39a5284a617c4f1c2bedfe7ce78ecdcccec692a521b86ecad8dffc198ed"
          ],
          [
           "7f79372b35cc763dd0958a273d1b8a23d17aad05ed56db31d480c13cbac57fc6"
          ],
          [
           "7f91cd2c19c7a57761ca01a689ea23a3beb839ee745e147cf8e5d4ff00ae96a5"
          ],
          [
           "7fbb79febd92087b507c8e918202850513b8ac5040ca472856dfc4f5060e756a"
          ],
          [
           "7fd0276bf9551ea359e1a80947619d868251f0b00d9d4d523a03563ddfc9d79b"
          ],
          [
           "7fefaa19808d03a01eef6d4a2861038b316e5f4aaaeafa7bb1925e258367b8dd"
          ],
          [
           "7ff9961851286899e585217ce8bba7c6a3284d90979c627e56c6f8c04c14f8cd"
          ],
          [
           "802b9a90b95007503141957d63bb9400466d2aa146bcb9eaea62d25be8032ec0"
          ],
          [
           "8031a6dc5583d105f7f133a33ca9bc067ca86683c76a5f23d8e50768dcab42dd"
          ],
          [
           "80544363e262743cd24d36f61147c524f94fb220253900a2c95d23e5054d84a1"
          ],
          [
           "8071c33775a72a2ae110bf02508abf29c5df65b4c727f9140cac418b6e7367d7"
          ],
          [
           "807bb1193dad83b1274de0b5eb787cd10a1e1864c584a4170db1fb9b9b5520fe"
          ],
          [
           "80d0e3daeef4b30b9a45ee8f3f0ca013d99d161b3fde37844df785bed4aeeb5e"
          ],
          [
           "80d3da0c8878692e87fa25945885861fa0056d0d0d1791e277638870bd66a5f7"
          ],
          [
           "80d94bea60581321571cd9d01dc65a2e990c42d3d31cc783fff57f8ae289b25e"
          ],
          [
           "80e82f006a234a9e79802f760976f3e62cc81a5fee145ddf8a50405fe5c59d0f"
          ],
          [
           "80f4f41b17f7a7a5462b81eb4df23e07bd4f3930879609a7573f5259bd2c76e5"
          ],
          [
           "81339646eb7d912309a1c8a85d64f056dd2366a706e371d026f0033d702d15ac"
          ],
          [
           "81473e87b6d0a637fac3c4781bf54eaca517ac7ef78cc26a1a13b7dec0f84716"
          ],
          [
           "81b6904d9b768855dac3bd7f9046038ae989321ab9e54ad6d4f7ed24f5c09ea8"
          ],
          [
           "821ad66adf8f759095b90d935a45da7790a97cb4a5eeafddf26fe72946ea0acc"
          ],
          [
           "823bb3cdaddadcf923579910ee536e7b76950fbd18c9f7b1d108d65d8290f059"
          ],
          [
           "826f9dd6aa14875b31d86035e40740672c9027f585382940828085bb5d6c5092"
          ],
          [
           "827665ea9dc37b04e7fb9c73d3847c3f28d0f007ccba7e0af23fe31e34c80911"
          ],
          [
           "829513335bdac7d16877e44cc3aa2b5ad08de4614a4a158479966e647874060a"
          ],
          [
           "82d3eca85d4736fb00894ce627c85e3bfb69b2919e64429fd247aa792a0eda3b"
          ],
          [
           "82fcdb6751c97582d76bddaf209fda13a08bb795b08e4dd88a5ffe007532fa58"
          ],
          [
           "830697785354878a7968e62ad04c7668f8a25be8f973d4630fc9074c9098e2b5"
          ],
          [
           "8308b81679b91182e0d17314a312940ace90804fb63b1c7c367b26269b7a28d9"
          ],
          [
           "831d5d3bc6dd44104a8085a5845ec88d7efa05fab7391b4b6e7d6418a8f0056c"
          ],
          [
           "832d1d06dc50c30064f7df19945f1f374b9625422b64ca90151548ed1c1c362e"
          ],
          [
           "8338ae8c6f9daa14543728660ebe4f8ff17b073d7ca52e37d1903f3312e2b975"
          ],
          [
           "834a8038707a14ed3cc3c3beff72662365f1de5cfe4ed58b8b3285fd2864c439"
          ],
          [
           "83630ae0f7c8a24b6704d976f856f2aeabfa3a4555aceae9e128dfeb77a2ded9"
          ],
          [
           "83679ff6be4fa84c10391ece63aa772085e68491005aed45f5dff972fcf9e692"
          ],
          [
           "837c426a301859106128134189f06620cd71151c13820db4038ed25c13324942"
          ],
          [
           "83db17521d3df8c808c1b35cb93e178a72f117bed762739f62dfdcda62f80f9a"
          ],
          [
           "843e2a0c0afc4236fb28efe0c97c826e3f5715e07e4a562bfe30a900d668958c"
          ],
          [
           "844875ee0ba42b5d70357276bd9e8f686ba9088228655d8b8c8516f55e3900fd"
          ],
          [
           "8465d429e2c86ce5ccf4ff098f6c3d200ace068de82edddc48df6beb2e772727"
          ],
          [
           "849ca50803e65561ce831287b6118af59c1dec690f6fa3cc350eb80376609075"
          ],
          [
           "84b101f6280f185d61759d9fef84c1e3ae4cce82e90d2dc326c8c8da0a216b50"
          ],
          [
           "84d87ffb299ec03ccb3f6c8b8fc1a2055928f258baac8887c2e6546638283710"
          ],
          [
           "8511b91cba379c7897384da5822346a744e2f38c56c99b8297e06c4bbeb49086"
          ],
          [
           "85379e774301ea59ece0c3f6039bcb9dcf86e1d3d2ea8206e1e7489f183ee4d4"
          ],
          [
           "854dc2866f2afbbcd0bb41afcd60fdfd16fa42dbd68536892d6e14deedffafd0"
          ],
          [
           "855b00e257646a0e4e4617ac6fd6ec63dfc912f4901b1f3b901381a8343586cc"
          ],
          [
           "8568f71968ea70ccb180df4d5809c9ce195dfdb6c6d3ad9b97e044e417ca3357"
          ],
          [
           "85ddbf04c79186f1a78863b89f9599b9022d3415e5f224f9f28a2b1b36fe0705"
          ],
          [
           "85de7073c8baa4bb611519fdde18f704326d2310d5e3500ce78dd2ae71fa2198"
          ],
          [
           "85df96baf17e2d40415f35ef6ba165035a9985b161cd64218138f208b9b74d7a"
          ],
          [
           "8601751f6c246a395499555073ee5d5cdb8d03424ab569791fff7f154eda2216"
          ],
          [
           "860caef78c3f6761ca69ca6f91b6b44425aa1451d0bc6adf90c28c2a662fb1f6"
          ],
          [
           "8612afdb21306e9af28938db185eb49e10c31ba3c2d1f216a4aa624d85fb9c45"
          ],
          [
           "86169dab4c382c7baa5857d16b967aa6077f5427d092cb9a020c4369eb493cd5"
          ],
          [
           "861d922b2adf4a171a3682f44496642ab2d7c851498c9c1750f67edc8c73270b"
          ],
          [
           "861eede30f4702d17b2ee5a1c143affc9e7a63a042174aca4493b2f38f1f41c7"
          ],
          [
           "8689ded785e11ed01d5429702f60d0be1bdf7b0ae58dae49dddd1629f72959c0"
          ],
          [
           "86b4065b45e76a36a8c23f506f991d5f661647d2dd70f2a3ccea3b6fe8c5e7fe"
          ],
          [
           "86f3cf6747500753f06cc8f6a104e577837d8ec7058073c0a72cfee6713d53c3"
          ],
          [
           "8723c4aaa2095a6468e365f3476b6b0c84eb37386f9ec6ecd511df202e1fd8cd"
          ],
          [
           "872a85166a299c9a104653b7ef78b01e5080df28fdf478cdeb3970522cfa8d80"
          ],
          [
           "8736ca323b5a996a7d73d8f8247a19e2c61426288c70d7907bfddcb9635e14fa"
          ],
          [
           "87375dc48964e76b130e172bb6bcaf32dd254b34515dd774be4af0d3e7d9fc03"
          ],
          [
           "873f41add67c74b9fed97efc6ea2a73582fed931cf764499206936bb0e882e01"
          ],
          [
           "8754d7adef05808438bed9e71365b0ba6bb9e83ac36847d58c98a3cc55e25618"
          ],
          [
           "87b669e500413965ca2a60899e7c55c6c3f9a8498c820898c5665a495d101c35"
          ],
          [
           "87be095cf1a8a52933744e18e911fa728d780746f7f7a328480716211031f786"
          ],
          [
           "87db2a3a0b30fe58385f845d9e92dee91e128e0db9964fa3c91858a4b0ddd592"
          ],
          [
           "880251f5ae409dc658535736b41eadc8456f569f7f98289f47e7bc0cda925c1a"
          ],
          [
           "8813b48549a70e9587559517fc8f707a164760b2f9ca49b724b9986950d33c4b"
          ],
          [
           "88520f59febddd6241616e8c1ee892973065dce4f070a1f2b70f7ef0b6d98d83"
          ],
          [
           "887ad57d173a609942eee0c1ed7bd9a4914054ece9707bf28a6b0a2aca8e966d"
          ],
          [
           "89de8e1599f579f1287176e4dcc22daa7b4cc98f371502be448ea690e71c0763"
          ],
          [
           "8a33e91d65ec7a685bde500fd81bceb5e04fd6c34d31d9680e9343c0f27baf4c"
          ],
          [
           "8a4160494757d94bf2ffbab2a3edfaa75e588fb4df882a028819d6d2ea7306f6"
          ],
          [
           "8a51e3500ac43825778b41d5e00d82159e17f815848f2c2421841582f8aed0c6"
          ],
          [
           "8a96f1bd12bc6c7aa3b34c9e1e62fa1dfb7615e22466cd08c32f9f7de3ae11a0"
          ],
          [
           "8ae7142e3f314e5e194418fb5fe56da9919dbe33854011b9676da33453047e52"
          ],
          [
           "8ae96d67fd375cd21965c5f86a2e93c812295523b8c6853734e84b9f59aa7598"
          ],
          [
           "8b72e89ab59c45a9879c0e4f5cb966c76e917e5ce85974e30f54cec5386bd12d"
          ],
          [
           "8b8d941a9b51984adbc4a7bb89d392347309612c70fd869054759c92e9ac5162"
          ],
          [
           "8b9eed9876b1010a3ff3a22340402d8ca4767148e619de27280e0bc90808b32b"
          ],
          [
           "8ba820a50878acfaa7a9e0f0f6b2e80c97fce4b7b225d2d6127408bf1f3656e9"
          ],
          [
           "8c31fe7c9eb660262481eb3fb1eadbb12aeccfd3a318bdd32390d25c1d40ff3c"
          ],
          [
           "8c383a4d01d38a981721bc2c3cbd9d6600452b11ad6c53d345c5dc3ab16ba709"
          ],
          [
           "8c3a9f50c5f246a6976eb79c2fa86878c89ab59f884eb24665130e69257375ec"
          ],
          [
           "8c4369cc124dd011925c9550ab507eaf45add7e75d18c21d3a064bf1dd088aa1"
          ],
          [
           "8c65460ce7e2dffedf915a93287b53652f56e41607d83a2cbc7180bfcfccce70"
          ],
          [
           "8c963e23f7f8f12f929b116a07de135f1f0a0634cb1e4ed4f37cfb5278f15b53"
          ],
          [
           "8cb0b0aafae461597c84032254d51df267e2ba25f5b46fe101c3c2da2304c0e1"
          ],
          [
           "8cc7f930a535adc484b3e083253fa75ce40f8d03b56e01f39c200f8fd287dcc6"
          ],
          [
           "8cce9dbec5391752ffc7af37ccbb93b50f3e6813905f8579fd39e6ec2d1e6b16"
          ],
          [
           "8ce77808a7220ecb9c05f551662f1d02bf4f81161ffb1767369e4be5d964d04e"
          ],
          [
           "8d20da7baecc0bc6c570b309618b4d87c9c25514f1f490b6ee5bd4a35effa506"
          ],
          [
           "8d31f635e570cb55a39844e4c90f2ba91215b4b1fdb1ffa81a0f69ef6672d5e3"
          ],
          [
           "8d48e5fc410b5dccd9ab2874ff4cac80ce0941f292240b30a8dac3e8310ffa9e"
          ],
          [
           "8d565ef70245fd0faabe25411f3d44b234e2ca864faedce044fb4ffddc35dffe"
          ],
          [
           "8d669ceb752395cfb8dbf44a48dc49228f98f6043bf36967c70a4bad7b7ed8eb"
          ],
          [
           "8d956f4367bce0d0b64d29062a65f64b08469604761551de695c39ac76aab7ec"
          ],
          [
           "8dca2c87865fc5c42fb017ca3a95a131c7a5d603eb4b8fddaad973bc683ceb02"
          ],
          [
           "8ddac0c4443697b7744d10d44e7f00c6d547e8ae3ee77fea226e85e4fec029b7"
          ],
          [
           "8e11343a3155f179620897f999e7d1ed8af098e9080daf2ea189e07b5c25c85c"
          ],
          [
           "8e11b26bbbf396235cca4152c8c3f515ab9aef8ed2eccac02de1bc99ddb8b3ba"
          ],
          [
           "8e2f58be98ddc546ab5857b5bea9cd33d6873180531dbca32d69d6e77c46d6a4"
          ],
          [
           "8e5946d4934b47bee34770ba067ed2a2a95101ecbf9b285e073e26da8a12833d"
          ],
          [
           "8e5d9ba26cb412674ae8c0fe1d3229415df1a832d463924dacb7ae74f0904983"
          ],
          [
           "8e6c22e94ec841c5665ca0cb5a386b501bda1b58f40bab42e4d59d87a9160260"
          ],
          [
           "8e7843d122a0b02ef0f3de0dd0d95bf8ff501ac7819460202af38dea872b84da"
          ],
          [
           "8eb6700404037c28e3a82258e81f3471d90d78bd4f1878c19421feec7c550259"
          ],
          [
           "8eb94ecaafee20ac5c36e12c1113f45a10c3727011be151f5b5e3a3b526a2add"
          ],
          [
           "8eba2b3c00da4d0879518b82fb090affe9a2589253948e4a0216b1bc85718521"
          ],
          [
           "8ec207124f5a93a0a596c2d62418ae39ab5f895e33e219763c4123608a79d095"
          ],
          [
           "8ed9a8d700cddab249d92e93e6bc7b375ca6ed86030be9671231aebbdfb159ed"
          ],
          [
           "8eda89d9934831ae861cfc629206b1f3dea3ff394dc69c1fb38286855ee7a57a"
          ],
          [
           "8eeb86ddbcf7a147231c7cc8be90bbfe5c81340cc52c183104b65d35d5c3b6d2"
          ],
          [
           "8ef131e673616dd3fc90eeef86952c95c9400f17bb709ec142069453e51256d4"
          ],
          [
           "8f2552dc09b72dfccab4fbd40fe99abc10211a8b56a5bb803d683b6b0a987976"
          ],
          [
           "8f2572f3639b5ca839599baffc7b5d2499c4d0b072d52b53b20b674070026a44"
          ],
          [
           "8f2cdf89e238866404ec5ed54307a188121c22899226d71027dbbf41532c19db"
          ],
          [
           "8f2e54d8e68a343f3efaa7f16ea4a66deb15fd45ad17533e6672055ca432b7c2"
          ],
          [
           "8f312ca83241594b6d5ba0a612288ffaaaaae92209ed0c5d58722f6f42a3360e"
          ],
          [
           "8f3bdf25861a1e4b1378483f3490b6be5d445b7289774b687cf3c2bac418fa63"
          ],
          [
           "8f942b3211146a8876d9c10a25ff20ff3f7b14587eb95ebd4dcbaaaa3e0aea13"
          ],
          [
           "8fa61d9b6b39f0d46edbf21f674e6afb2c62b4f292139e10850a8857666ee2c2"
          ],
          [
           "8fb338fba1b06df62e0b5c9807b207aa4e485b820b005ff37c361ec3bef3212c"
          ],
          [
           "8fcdb112f3f44e1744bac96e8f4cf60513c41845a1c11cfebc750e2bcd15a300"
          ],
          [
           "8fcf1ad4c44762b23cc4df381883bf96e3fd5e10170ff94df72326f165940675"
          ],
          [
           "8fdbf616e2efa4565d6f7640484a8e4e6dde0b9e19dd834a5db6dce3914db3e8"
          ],
          [
           "8ff156fc9072216bd2f66c21b6275c6db9ada7387f42cde74d4574524bf4b58d"
          ],
          [
           "8ff5139b54acf56c7ce19649a81967ddb535b30bfb2a6d8f38ebe45e0dfe9377"
          ],
          [
           "9017bbc5514ca9653dd1618d7be3c401d865855c76b53a6b06f6fa7e52a70bd7"
          ],
          [
           "90369683963f406c357cab2b48f3a47ff8a3c18ca4914e5c5e0b9b60aa7ec004"
          ],
          [
           "9069cec7da41c9a0c8cb9ec0fa3c980889a3d2878788f95ff270d0d17329b6f5"
          ],
          [
           "906b5f8b81e8a9e75e7b9add4b88b6042bbbf699260537c707b6fa96ebdfeb75"
          ],
          [
           "90c9c735ef9886e4ec68339038414a8fecea121c804bbba590919a8f6ce7683b"
          ],
          [
           "90d129158b4df924ba3006202ff1e6d62d3f0bf251cefae1249e7a81b2d74ffb"
          ],
          [
           "9106231a39512ba862dc53042cfc282de083d203de4910549474ab6221fe0cf6"
          ],
          [
           "91244885e53e4b08acb4591611c69c7d64de2d104f46329806ec0c2feed0d033"
          ],
          [
           "916721861c20cc4f91f2340d776818b018b5958643fee52357fba955179f56e1"
          ],
          [
           "916884ae63f6b11b72c065105e9ce5adc8ba0c99e211bc13440dcb2776bcfe6d"
          ],
          [
           "917b06566c4cec19fb1ccda1165c22b4a00a3454e7a0be0405c1f36b01184814"
          ],
          [
           "91911de957052a73c21af848437ee51e3d41cb63f93d2ba27de959b54ab98179"
          ],
          [
           "9211416d26493ac19d9aaae2f1940976f1befd1fe98f3a1204f6c6ebd39246c1"
          ],
          [
           "9217cf703659fdf3b420de5d7d6b98de0709e768aa7d365d7eac6600a69eeb6e"
          ],
          [
           "9240e21321ef4f216f0b017609c8cd35b431f8dac7d272cfe24ae27e61d1184a"
          ],
          [
           "924f908412a2243aefaaf1a1abbe0651e668e6340c3993b55ab97806ba29f241"
          ],
          [
           "924fafc2a8e0c48a0d9e75221ce480e1127b2f68de07a5af9d84166573432db5"
          ],
          [
           "9257260e9d3516be98cda8cdd6a7acf4982b0c778462ecbc8b5c8f93e90657c1"
          ],
          [
           "926c7448ff063ed3825ec385840e4576272a15201e53b2cc99936a449ed187cb"
          ],
          [
           "9282ca2cdf8b3a2d375ea69638caf3f4b42eb3429770c70e8b1864120212b11f"
          ],
          [
           "92902db059203aa4b790693a43145a059c2ae8764db1ba1a42b314c8361806ca"
          ],
          [
           "930a762f47b5000c0a1d5dd3b6f1e66962ea2979321645688abc170a2d8ef882"
          ],
          [
           "936fc334bde0e539216c33b049c8a714026b0447006f92e2083e8e1eeef0dd28"
          ],
          [
           "9386a0d19f211d9764151abd9cc787cda99549dd74b3a405e707f378d47c772e"
          ],
          [
           "938b0d23adedbac721a0b660dd130fe7c4ccb18183298cad23ffb034258f9bba"
          ],
          [
           "93978454806e77a1249ef10c7aa3472631015a7864719e4152d4706cc71b9f86"
          ],
          [
           "93bd1589a9b53ade4be0159e1856c765b85465d904710ff718238b6cd9a10062"
          ],
          [
           "93bd599106a25d1e271f75905caaaeda918599b5f7df9346e6161ca597bf260d"
          ],
          [
           "93d9548cc03fc49d643d33d6ffe3a16dc43bfbc57b68ee2cd972d18dff9bb9e2"
          ],
          [
           "93e82a219e3106a94247abc0ded34c9286c35610146d854aee15bd12165829ac"
          ],
          [
           "93eb5c53c159106ac2c074b4c13f42e01627c765141d128ab9703de8d8b67c5a"
          ],
          [
           "93f3e1f779048d42b296d353d8ff6861a33b9354177335ebfbe2379454595ba2"
          ],
          [
           "93f5dbe07eb061fcc0dda08d7b60f8d419493e574d3132997b76f4c37d8a857a"
          ],
          [
           "947446726941d72352a4c6cc8b90f9d74bcffe24952ed2972688b42ae4c4cc7b"
          ],
          [
           "9503d146f83ab7ba8db09c42a419ad119930f5af7464170e9f333ee12b120b98"
          ],
          [
           "9542db0cf9bdb39c3e0fa3962f914a76ae51c9be7a064b120d9694192ae2d9d9"
          ],
          [
           "95519c5317b8e21aefd6025183dc4c1ed44b8abf604dc9cab2b21afaf50f23a1"
          ],
          [
           "95558115a97a04dea62cc868bc5a4f7868c59771eb83768fd74661ec991af64f"
          ],
          [
           "9558c197740f4b63fefb739ac808f1ed6259c2d9069709340a89c07969936f9c"
          ],
          [
           "957f378087d908e091b00b94486c6b3f1a4364253a4a7f403bf4702b4d5c486f"
          ],
          [
           "95909bbf5c5dec8df84f379354c0407c734fefbd1977b27aad56a48c6b61d9cd"
          ],
          [
           "9594877f8ffbd11ae1fca93766d732b609d98dd1a319b35747b7fc47e57b8fde"
          ],
          [
           "959b56f78beef4c09ca3d5fb2a73eb9dcf325cf7627cd105989a3bca434a7258"
          ],
          [
           "95b3728bc3d6c54431233c3cbf4f28da65e8c97d9d02eeaf286b4eff856e391b"
          ],
          [
           "95c446a23149b2feadbf87f884c25b5c3f10c99383dda2b45a27d5599e5832e1"
          ],
          [
           "95dc72a490376268c653ee8705cc84520d66f7ae30cc4a0bc67cea5888866404"
          ],
          [
           "9610b812555601d498dee8295d26c756261df46cda2eead6e65262eabc638167"
          ],
          [
           "9643edea351cd7df27dcc8e480f37a2be8372075a5c9d8eb01ed2ebba2cc5d9a"
          ],
          [
           "96576af7f2cb4e5bd18ee8266577a344450014c67f00156d8782834f0f33a999"
          ],
          [
           "96666d50a154b1ace0984b103f9ca5eeb05ae93c1d80b6ad32be7b1fbf0683fe"
          ],
          [
           "9672f915cc15b9780601ca181df628effc98249a59d1f1992e3804375c5a08c4"
          ],
          [
           "9696382354d605162eb93315c386d1750361509d00b48e2975af194c85c78b2f"
          ],
          [
           "96bb10ba631b08e04a1ab980b343d1b8bea7ca2b1fd6f94943c5cb996ccd2aec"
          ],
          [
           "96c7e09425c7157a57950b5295647e0eac32722565730067c84aaeeb52601699"
          ],
          [
           "96d33355bf2bb7ca88a95b6e4166264678f55097b075c67d4b76fea59119354a"
          ],
          [
           "96f57f1f4af23beede5e1d6f2bdcaa92ad1f21317ddbd942aac5b164bb9b0580"
          ],
          [
           "975e2870b6d2dc73302bb128cab23fc9abb8c34e128714980a6299ec58699943"
          ],
          [
           "978014ff83f027bc240a68ac78ccfa926e438652920efcf47aec6490adb83e77"
          ],
          [
           "9794270b4c18144253b1b9128b355ea354bc58c08a761b0ad40d157e161eeff3"
          ],
          [
           "980271086bd02ce0b89e447b7baec34b63996ac72c9b9e9f0acef0571d45fc58"
          ],
          [
           "986b0c81472cff47bcc67198f8e9d282b81ed1288613d2ba9916427dcf5118e7"
          ],
          [
           "98c23667dc9984057165832ee6c3093c6d0af00ec705afbd783d9c46da41bf54"
          ],
          [
           "98ca567d088303c2fb5c33308150862e49b4c6421f7acc8825dcd7d190642c07"
          ],
          [
           "98cc484fcbb63e78b6b615c0a77b22be2fd6251e28fdcdeffe466b7fb7f7a0f5"
          ],
          [
           "9931f50f23f45537b94331c090b044a516f21887a8ba6eb113c6fdcb9d555a5a"
          ],
          [
           "993db5f6beaf1e4b51ddebcd09f6dfcad71cafbb004c508888c5d2526ac14ad8"
          ],
          [
           "994dafab52b64b10e84b6b65394546e5d89f58ed45874ee24a622c6a6f45746c"
          ],
          [
           "9984854edd6f814783e584da7a1276014e4b1f1abd4202648379d012fd873e97"
          ],
          [
           "99904cb18f22e087b551c3db2ea7411d35cc92ff1ecd7b28caff8c7e74650650"
          ],
          [
           "99942268636e4ccc9c2f1eb390cbff1f6b1bd27d7a31a5f3fcf907552bfd96b8"
          ],
          [
           "99bf961fed92ea31b7627376f081b855b941208360adf4bd4ef11eedc640d504"
          ],
          [
           "9a1623de7fde2e4c7a375f029b3bd9c13ceb767675803cc70d76e41faaba9955"
          ],
          [
           "9a1eaec9f11f5bfd27f932179203388a77d2d54e875402a669ca4f4eda398cc6"
          ],
          [
           "9a805e60f2b9563a16c7211a1c6f798ab2503ece66e387f135987235823baf83"
          ],
          [
           "9a8c11478445facadc8dc838d5d059d369fc8dbbbcfb88c76c3a89c76b118de5"
          ],
          [
           "9a96f55a48834babe711879d83f19da8f33a52feab1d1721480ede0470f59875"
          ],
          [
           "9a9c02ebb4a73dd03027f7dab2c03d5bb98bcee94326f4604beb1d634bff1151"
          ],
          [
           "9b190881d75050d95cd72742f97363c21aaf312ed7bbf31c75526d25cd09a177"
          ],
          [
           "9b20fb8e2dde8b196c3d356057d690a7914e22dda93564a425773fee1cbdfdb9"
          ],
          [
           "9b9b6881f834e354251c2ef912a47c8dd3a0cd7d3ebf774e37f41f297d04890c"
          ],
          [
           "9bab06b0f3c7c93f9368b023611e393929ab1f477596203227b0a1f4ff8d1aa9"
          ],
          [
           "9bb4d79506015c13da875a3eafdec30ee1889a075c43732c5e20323a909fc9ad"
          ],
          [
           "9bc12ba649ca495ead7f7940963542c6c6567a5ebf7c86f010f979fc72e36e19"
          ],
          [
           "9bfc6f7be94cd49a2f0c39136f766dd26e26427097e89fd58cda4dda6c4e8c54"
          ],
          [
           "9c16baf5529423290b1a7ced2c8d82d0dbdd085016b5f726f42b47798a01722d"
          ],
          [
           "9c29bcaabde7614fbc2a94544fa9b1be7219b42d9dbbde4d2821bb6934bc6e7f"
          ],
          [
           "9c7010455929f31d582ea9e3e5b7a6911066aaac6b8bfd7883259bcdcc0e141e"
          ],
          [
           "9cb24a3a0bf0eccada61ea039f6aa4f3cf85f84feb1663197fce7f144ce0ee09"
          ],
          [
           "9cb2fc5df5b2c2d74845847db5a852cd1f59672fe08c945f0a4d1d10b10f10a2"
          ],
          [
           "9cb5599c3144dd0fe0f1f8b540d60bc7530d78001a45ebbd8981f087e7d7c6a5"
          ],
          [
           "9cd6797565bb88de60b3d57a1f16b53cb1cb7834dc90a5b6ba739e6d0e01169f"
          ],
          [
           "9cd764ce2b03d7aae71a6648f66730915e0a26508d61f7d195db317f796e6e35"
          ],
          [
           "9cd8a8ba85404c8f3f1278772676c2dd267b4397aaa64ee6a8616d50c645e832"
          ],
          [
           "9ce045c6362f0e313bbbfb782f172a53da69d6250e993be14eb147d1152b43f7"
          ],
          [
           "9cf610a5753e2a83406dde588af4e41ce729f5be44e8947f2e29f5a4deae3d1f"
          ],
          [
           "9d2e618d576f02acdb8651de9f6f859096a3e69b4e34e631f96eb5fad16cc54d"
          ],
          [
           "9d3a8128de89850f624859ee9153375473ecf137dd63f2e8f85fcc3ebc76a484"
          ],
          [
           "9d3ec99a736df3f322182cfd03ef7029356d696a1999cbb5d0119b8bacb9b642"
          ],
          [
           "9d86d4ae1c6e77feae6f9fab5e290eca8377b369e426af4544fe5b4ec67ccf93"
          ],
          [
           "9d8c21dfc25d37c22e6fbb4ea31e63b9ae5d1139f96c856fa80f16ffafde501d"
          ],
          [
           "9de9d46a7b57ce0ad6c4d6e26780c8b4a49252c0957409d139732f7c45b8daec"
          ],
          [
           "9eba9da0ad467a4c78ea68865652178996b300f0739e3e5c5fde139486cadd97"
          ],
          [
           "9ebca295217025c31ff1c60f07d8b5bee5f3b5d7574e086fcd9badaabdb38dc1"
          ],
          [
           "9ecc5129385433a788419612506bfb9ac23cd04f57be4f54f58095165846eebe"
          ],
          [
           "9ed924829f1d76042a7f4424fbb0a4c5cbe422d6089fa3c060a504a7c6c5de08"
          ],
          [
           "9eedb7503980b3bbd1734b6f2dd1630d0cbf0617252d18f9f2cf18c4dddd6b4f"
          ],
          [
           "9f15c65740f47dbc7691c2d31befc73bc483dc05c5745c5c07c2a7e8677d7889"
          ],
          [
           "9f1f88e360903e881a234c0406a106b863d509bbaa14f78e7ed11eb5ee77b955"
          ],
          [
           "9f3b42453e70771440bd0a8e64d2a452e00ff7cf4bb6b317ac3e8dac9403e58a"
          ],
          [
           "9f3bdf6b1cf66dcf721376fce40976cab085d90788594454bbca695187b9df0d"
          ],
          [
           "9f677a055d80b7c664bc9bd27148b9de37c9f8e0e4790938ea7dbdda3449bed5"
          ],
          [
           "9f791578749b4be634b47bac1a00572158fc952691dbd31fa9fdf2f7b756348d"
          ],
          [
           "9f794a6a4d2a7dda0a740acc4e92dc3766aeaadd22ec8e1b655c3765c14b4879"
          ],
          [
           "9fe82af98303c01d7ac7d5856275102647f6dfe253e71980a9e9ac3a45655996"
          ],
          [
           "9ff145718335f6536374a443bb5968e49970f825b07fc29d883de256fe9c256a"
          ],
          [
           "a01058bc35967755f9e3ba9691221e5e35fc74d92c91f8952645096092a7c16e"
          ],
          [
           "a011c4626118db2daa5510186aa89f8afe21e73aeb01bc4bfa76a54f54fe47f0"
          ],
          [
           "a021554b773afecb27c4ddac0f67ecd997459bf0aec32233066db563e9d81c8f"
          ],
          [
           "a02abe45ba8318b90b199040d21e19ed38632bd177fc508c37edf8b83c6b1358"
          ],
          [
           "a03a5f5605f9660f765d71116d058e85cbe0060005779c37aa24e4e5ef6a5682"
          ],
          [
           "a04a550a567c7c70f1026a4d5056e4139a1068db487840ac2aec73cc60359f49"
          ],
          [
           "a061736be1e6735b9a39397c6100d152b87b756267cf22f447a01fc97f774361"
          ],
          [
           "a065cab46b9f5297a29c42db4e64a2ec8522f6cfa13b2d80ca8429c96c4d3cad"
          ],
          [
           "a069c99f3f8ad0fadb3a3720578b0460fe89ce659a00935dfb85344455cb501f"
          ],
          [
           "a077a2553f994f3a97a8d4638781201184f0d81bf970730ff253071671cfc1c5"
          ],
          [
           "a07debc1b276721125c618dffc87a1a88da9abffde866b6d900ac25cee68a7f0"
          ],
          [
           "a086e0a95afb16931504286f598462f36bb6c99d142d05d075c62e2e503dd68d"
          ],
          [
           "a0aeeb1d89ecb2f3fb78cc4c660bbda39100410abf4c0d4f437f994c2121586f"
          ],
          [
           "a0b563529cc66d1595622d96de39322306e557c7b3d294a77bab2df95315ce8e"
          ],
          [
           "a0bd10a92dce847064ece91e983cb3e7c882a0c2e174c6c889abb194b2a5ad6d"
          ],
          [
           "a0c127a152a6be16d30a7f0b582539dd8369b7d65119d5edbd17fbd9ed84962a"
          ],
          [
           "a0c91fe3035d235adb21a2d0146d1f46a67b8da93a12ac28c7bb53f61c4b5cad"
          ],
          [
           "a0eb4faa24bb2eafaba3f2e39e5bd909276216747b10ff5bdcdce7a689f698e1"
          ],
          [
           "a0ecff345efd43c0ee7cfef50e4613484ffe4e90f96fbd121c40c929e31628fe"
          ],
          [
           "a0f9e0b3fbcc91c7a87657e0f39fec3d3d90858aec2067a30dec5ee97dc070c2"
          ],
          [
           "a11485b55593618aafbe510ff06731083e5697f63f832ad57b8d36fe245d7223"
          ],
          [
           "a128a2f9167f67ff00a03df12db48f4410e5e06cb622d0b1cd03301994073d34"
          ],
          [
           "a173cf16720671987ec9be8e165e5dae563b47cbbacf63a6802a78b3122b9f0b"
          ],
          [
           "a19e24156f909d4a3760451086b02a84b54d651f579a3537106ee451e206e644"
          ],
          [
           "a1b9946d5306bda726b54cb2fdd01e3f494b8dfa457cf0958fdffc7ab8b8ba31"
          ],
          [
           "a1dcca8c5a66afd3a7a4924625472ef43731fea9c40f54cc400069ad9b691f9f"
          ],
          [
           "a1df36e2575181e4ade3aeb9a25274b425e3b26767e6b9a6cd2f10b3794246b0"
          ],
          [
           "a1f2ed822880463739e7b7470fd2df8254c03a6747ddcd97cbc3ff8ef8f27951"
          ],
          [
           "a1f8d621c0bd4935a012a42987b47abf152146d0a29c1843aec2e57ec94a5933"
          ],
          [
           "a1ffa04b2b2315f6d85fe6dd1d45ce967771cdea46f02632c1ba23d64251d6aa"
          ],
          [
           "a22207c7d00d5870686c431fc7711f4628326da5ed0b830df37983f134395913"
          ],
          [
           "a24b7fedfb400725a89fe088480d4cd55c7968d460db57f443d3c86896fe6bb2"
          ],
          [
           "a27e55662c7046460305be43227d26ca6db3ec3620e9d65686c4d02a8eaae677"
          ],
          [
           "a2bc8c88e9492a3ef2ecf4666bb3b8f7b5569d93db2ce53ca8e06300fa239a20"
          ],
          [
           "a2d37d33e7f42cb2296774b1a88b6a7301eb4448545419f5385b99189c65b9f2"
          ],
          [
           "a2db4726f776d82224db91bc85bbf6033cb5436dbd816bcfd2b7046e11766ceb"
          ],
          [
           "a2f8af1ccb94b7ad54fa1492a4b5edd94cf5d2f874374d6d3fde0977892bcb1b"
          ],
          [
           "a2fcf47e71c55caec3824e8a51e671ae41ab313f82cddc8579522065c6afbcbc"
          ],
          [
           "a30e2c54d77be34446c390f1170363755af1392250c9de2cd5b1102a7bf3e4c8"
          ],
          [
           "a319d9e75b50075cdf6f21b16f3579f787cb1566a60cb4c8e4fd9b985e968f64"
          ],
          [
           "a3426cfd6a968982e5ccd8cdc44344f5a3f1778ac3938e7c8512331ffe3ac49c"
          ],
          [
           "a34a8d1d4c558a0ec40218c9b6171d0f7141e1f8d20db569ea50d8d40ad95c9b"
          ],
          [
           "a3687626cdb99d8a6ff36b484b64891b580a5316296174fcca0bd7bb6dd1515a"
          ],
          [
           "a37e9f43acf8bee7af8e97dd274535ad2d63db67666f3aaa20604e7a6ca0820f"
          ],
          [
           "a3bf964d7f3ad2f901867b885ec6b03bd4f9ceb0bb8c9add2a564a306c0a1655"
          ],
          [
           "a3f1dfd90b7d82383be631c6a064d5f6c18d6b9a54c4cd5da836eb7b58b8dc68"
          ],
          [
           "a3f35912ad57dfebedc29e3ee191aa95974625d2513010ae03abde09fd4b41f7"
          ],
          [
           "a3f8c5fa40ed23f55f1aaba41230b9527ff04abb93384d7b6195ed8cae51dae2"
          ],
          [
           "a41e1bb1dd8ab680f07d910263da875126fde022dd0fe049fe869696050c290e"
          ],
          [
           "a427b73fb160b1682d99ecc65ed51c8022ec4048d7ac7a274995ac15d34fa2af"
          ],
          [
           "a467504bc1c775cc3ec0f58bed7d7ff1d943254d21d9a836d39fb7de2734ec13"
          ],
          [
           "a4998599fcde9b278a72164f453b28d5cc55e37f3388f996674d8bdf2845659c"
          ],
          [
           "a4a77e8ea1ef99e12165f4d7b1c9059db6710c05dcfdc789e592b6bf086dea27"
          ],
          [
           "a4be02e90eb643d7a83d8b2bcef4d4cd89d00eaaf1cbdb1e761c0e9f3f373650"
          ],
          [
           "a4e80dc9c3f93bc70dae2af90688e31c338f2881ea8d5af61bb103fb316f31b8"
          ],
          [
           "a5169a4fcbcb68960522a9e731380d19207480ac557120a254e79f6eb0a7e82a"
          ],
          [
           "a52038a592505b7a851b8c67c83b96f832c064af63e73a8bd2854658caa491d5"
          ],
          [
           "a54b6ee5fd827d77b2c8a0a8464521b7b88ea725668f81086e14a992f7d2bd91"
          ],
          [
           "a5576748ffe55336f6e3854d00276b1db7f4a4aada6443a91f4a7ac299744403"
          ],
          [
           "a5653649ab54e7c705e8336592181ea1850c76800ce75024089d59482c26d1af"
          ],
          [
           "a5661f514ddeca5df0db2469a1727054330a001a3ac2fd11e8a765cf28671f91"
          ],
          [
           "a56d0189605f1f1c7fa8be9cd191b12296dab469bec172e3448f24ac4fca1c04"
          ],
          [
           "a5a1d006eb5b37fa8a9fe80725b8cfad7e8904459a85f599c4076c2a269cc819"
          ],
          [
           "a5a23abc5da5c5475eb16a679d057d3afe54bfaaab9fa8a6f1cefb9b8273f3ac"
          ],
          [
           "a5aef1d79335a987cbd0e5e99f13992f2f6957c1f7448c8eb2f25beab3b57132"
          ],
          [
           "a65190a7bd58ebca4ca705177421b4071ba156a937ac9d43b087ec364b2713e2"
          ],
          [
           "a68d4d08bd662a41ee541ef785ba5721d792a133b6c41539947de762504d79f0"
          ],
          [
           "a69f85d77fccd5d77fb185d898cf366ff1336611949ceef52656cfa8ecb4a17d"
          ],
          [
           "a6b171386028cc7feb4a64af7d8898659f16c0f0018c4542e544a4239a4c3a59"
          ],
          [
           "a6f7d81df13470375198e99135d318ba51375b666681d2ee9bdbf9b118071c46"
          ],
          [
           "a7654efd252738ad7117d93448cafc1d0518c62855429f46cb097cd5e5a2c46d"
          ],
          [
           "a7709186690b48784287fdda6d4433dddfaa567ab75ed1f6b1ee0aac2374685c"
          ],
          [
           "a788266edbc3b9f46fec087152227fcb8c4624844f4db4794d6da342862304a4"
          ],
          [
           "a78c0df211e872c5a8b51791968fb844be01b674752610caf4ef0114caef25a7"
          ],
          [
           "a7b04a8624bb6adaffcf24bd7a4942cc9dc011fd5a07b6c1bc1286e4f6540948"
          ],
          [
           "a7d4bf0879b1071c7aac889d22719d14ad2a5e5faff49feb1404b488986ae27c"
          ],
          [
           "a816d58313a09b543c16b75d9627765c2e59f60af0c85575e8347d14c91ac96f"
          ],
          [
           "a87b69425c4e47c691f7b031bebf662f888f0dcd26db0aa250b05ccd4ce69b61"
          ],
          [
           "a8939d5fe0e8392adf91bf805f01a9d1fefc93cf2c0cd5cf6c33ad427a33a5aa"
          ],
          [
           "a8fa649d40a0081cc60e87daa96f7108ff9c1df1f25789388ca82ac8b9375441"
          ],
          [
           "a90074e98d213a98e4db531c3fefcf15fe63f653ea3cc5984f3033039839a443"
          ],
          [
           "a9015a81a4128c69901251af60330f419c92fd51f216642db6e57106a5cbcd31"
          ],
          [
           "a9153b36492d48a5105b545d6c21a65e0d218122a0a0575986381c620e19aa16"
          ],
          [
           "a9178d8db6d22e9ae1895f05822b8770c3f5dfeb6f0745fb8b5b46a4d669cc10"
          ],
          [
           "a95235d572b01ca2ca1baad0de8e4427cd4b5cd1a82b39a619c8ced7c3e55751"
          ],
          [
           "a956081e8da793ed3163cefd48c3f3a332cd45cb99e468d509ef90b74c04b618"
          ],
          [
           "a9c55f2c0ba9a6301638afb3d814dd3db2db469c979f490a72d5b8ae48a667e2"
          ],
          [
           "a9d17496a3a3ae3ceaca8d17daeca332821d4e219aa5cc7955777733e4b356cf"
          ],
          [
           "a9d78c53ace196a4802d2ddcbd6f3a2be8ae2e77de58d2cbecd0ce8b5835e5a1"
          ],
          [
           "a9e0e9f62d40a6cc69c62394a226fab96fe7a1d32dc35f4093d9a835278aa601"
          ],
          [
           "a9eecbfa96bc43265e65cc3e466ab33fc5a3d878a21ad53139b03c7c75c9bcdb"
          ],
          [
           "a9f8f140d33d84da26cd13ce4cfa399bc5c2f160c4e2e7005f28e8a0e262a067"
          ],
          [
           "aa0b0ae249174c66c1fdbfadf5408c7032b633b81502dd94feabe944a0e77d39"
          ],
          [
           "aa23dc8bc03f4d033a5929b1e1d908de92f054b308a031df23cdfc74f6b1569f"
          ],
          [
           "aa4a4189df6832b53013975d9342bc6c627b548442cd3512f3192b1c78abba1f"
          ],
          [
           "aa56eea3d3aac133cc65c24700b07f88b644c0ffe9c2ed29a317fa649c5ba4d6"
          ],
          [
           "aa62c08f41d63b57b059289371e1d0163bf39b30a06450d019b6d83490bc98ce"
          ],
          [
           "aa83fe99c61257bac97a2bbaf0971efde8ab96f0247cf2064d48f4a19eec4e69"
          ],
          [
           "aaa1fe03bfbc5b2c73c33d29c667396ab90b2ddc1770e097a9d48086cd6f151a"
          ],
          [
           "aaae820b82d295beb4badbb7f01d16ad718a1317ea79ba3ec8c44ddc0b9b03db"
          ],
          [
           "aada9ac8bd38d922ff71e05c7fb1c1bfd0dd8883dab6963d9e03b64619a266b6"
          ],
          [
           "ab212bf281cec48259ffcf26d8761f04ea2e2217f60b58cea24b68148cdd7b9e"
          ],
          [
           "ab237f3efd20e8bb2c0b4b03202b4a5462dbb66978893fe56bfc5562f73a9c00"
          ],
          [
           "ab25bb43968d0bd7c5af1b39cf207e3aaf97a3dc6dc1499f9bd55e0d8971fde4"
          ],
          [
           "abf8bf8dc9d2ee13a92dba1e8e9ddcb2bc04b541abd3c5b547fc3fa22251409f"
          ],
          [
           "ac0d24b7ffef5ef8f515db351967b40b6eb03558e2e860d63862778b5bb7c0fb"
          ],
          [
           "ac10cc9a6bb0b83a7e8c9c1e5c56b03babe52f906fe67b4d8a2aeca22e76b000"
          ],
          [
           "ac14dd3da46484f7ee68ee97093c28d098b31b418ff365decb62a9b6bc2d0438"
          ],
          [
           "ac1ec2204435787317a9e69b2be71042718b0967d65d7b8dcc116ddd8414b671"
          ],
          [
           "ac36976137389526f8f53d8f9c7fe8a1f20310cc972e958fbeb9aec94cf534d1"
          ],
          [
           "ac36eafba885309c25f7284a51a5b8a18a88f30c7438eed9e03d9807cfffc62b"
          ],
          [
           "ac482681c7179f2ffb49ebf9273e3c5f7ef410968792be735e34b012c66090ed"
          ],
          [
           "ac4da050378d234a4df92c97beca6a47ce974bf8a21d37c45db8270e5149d8d9"
          ],
          [
           "aca3f684d65d4581ac7c0a52f580fc20d833a7b47b857b4a64ea1bfa7d475a05"
          ],
          [
           "ad1ea879a17fea67be6755aeefdb91b302ead2b3641cf6ce0db39e58e5a5ffa7"
          ],
          [
           "ad54522c1c90ec6b7dd36921a40a2dad54162fd6b13ee587f1923d8ef45de42c"
          ],
          [
           "ad569e30cfc5cc6c7d01d966ff7f69f95f5f4669ad2e029e31c3d053c713fd80"
          ],
          [
           "ad5e14c484f80bf40b821c314d5a75bb4cdb04bd8c07217e9c7450a8f9c41bff"
          ],
          [
           "ad73bd526c4ef2e58dee5512280fa3f4fc8f4c2399a645976d56e6b81386d27d"
          ],
          [
           "ad7e138658047b0b54feb4daab1421a91fc427b417d920bd40718060c145e126"
          ],
          [
           "ad968e0d8b4b1a3cc8a4f53b0c899db4971ecc5ac4483a77f83d0cea89b4f311"
          ],
          [
           "ade8e164552bf75d6bb4533e6a8b7d3d59a2f135f8f1dd59c4898c6503a2d49f"
          ],
          [
           "ae1d015a278494615d451d685e4629006d7905ff577b6cbee1bf49254814cbe9"
          ],
          [
           "ae2a07516380da24c5cd0bc5fc8d8ca6e811ce56865299cd999b7b56cc2487ec"
          ],
          [
           "ae73deba717efe6493701adb76a20c0d8122d5b0b451cdc4f0d3894089f21c4d"
          ],
          [
           "ae9a76d6ca83c0c0ce5cd718e7d08bcc406dc26ea0b8adf6e644bc70bff72c6e"
          ],
          [
           "aeb220b0d0c5050b77da437214a2d4481b45fffaf29697d223aa2d4ce3cfac3f"
          ],
          [
           "aef0a97b46c08f1bdbd1bb4bd98a2333981c5b6013fa5cd30fe9129c424c207f"
          ],
          [
           "aeff49be21ea48fb5ade966e2446c3018b5266e6c9283e9497f2725d481d97fd"
          ],
          [
           "af0ba4d1a24ef58da216c07cac79985af6d199a17e5e12d09199b9eb2b900c6a"
          ],
          [
           "af4578ea664c2212e2035d3de735b60ff77fd5f2b5b4ab15a047d7ce956ac6e7"
          ],
          [
           "af4d773cdcf76d2179f82c7eb95fefca27402db30e8a85a12bee7025b995f574"
          ],
          [
           "af6696fce482844f035af3b870a27f0354dc32e40024cdaf535a85c17da24c84"
          ],
          [
           "af6d9f38397144bba3b385bb7283ac70bc2e41836764d41eddc0e36bb43f2261"
          ],
          [
           "af8a1b33fca941bd9d38d9dd5457214cf0ea5c5d0145275f7d7ac676e16848a5"
          ],
          [
           "af8d9d3e4963da7ad0600853e6200f3018fd20673572adff3289e99bf01b9f5e"
          ],
          [
           "af96fb8fac30a8e4dfe3df7f8c0c2b06b1b97ab4f56da6d6566c5310947ea186"
          ],
          [
           "af977f55731772de29532de449008061a108ee8890ccde0e050ba2bab4ab6160"
          ],
          [
           "afefa351194237fee60e8e70a4b48438c98828213b4994031678744e35751388"
          ],
          [
           "b020fb56b0b7c40d4dced70ba1437bfba9a8f3fd5c6c5146d4d950bfb4fd3df1"
          ],
          [
           "b0640d324d0f9cfa495e64cdcf6c9eba832a2a5b054b767d3a21293a14ef350b"
          ],
          [
           "b06dd6faa5906a0a30f7c7d5ecc837a193daa007dacd173cd086c6bc8f55211a"
          ],
          [
           "b078978a6aa52c8fdc455dc30d495bf9c57fc46587779965d4af21ab5573cc98"
          ],
          [
           "b07a406b1dbdbc90c0dd6fd87b1dbd7fd8efa3fdc01c30020fb3cf9c342b60a0"
          ],
          [
           "b0a4f287556344655a277679b5e59874a3a6c282ada5cb3beffe917d028c8091"
          ],
          [
           "b0a784ba8fafde7fffa007ff8f580e2086d9b4b9f267f3116948b6a476aa4ce7"
          ],
          [
           "b100fc225b28bec9ffe9801113ba46707a518d67aea556a78fac699938cc26c3"
          ],
          [
           "b10f655694b0e925e60172d2add190d4bc0c50b83cd24648221a4f0007b3f53e"
          ],
          [
           "b175ea7abf07eefdcfcbe88e2b5ab4f4d0535828b0873516bfea11c0e2cd42ab"
          ],
          [
           "b22f3ae19b9d99350488e9382d200decadd3503d2bf9d259287fe08b17ee1f46"
          ],
          [
           "b257bb2addd834b37cd460b803a65748121402231a4df7350ccedcd2305401c0"
          ],
          [
           "b269f5cd868adf7132873e5b68f94ca5e9c9546d2939c2a3b02d738da7fc73f3"
          ],
          [
           "b288ac2348e1d8f0afba4955d101be44d075427ee40307b30a6e8314701b0d11"
          ],
          [
           "b2929c868a859f8cfc47c777a8452e69e4cad8a7d98e21fb7e85267691a94f49"
          ],
          [
           "b2981336d1d42246a1f1a476569990eddba5b2da883e38598fd4eb1496cf8723"
          ],
          [
           "b2c1cc22de18d95958b328eb6dc369c5899653bebe4d43deb51b5c8276ec4390"
          ],
          [
           "b2cbcd6ddd942a945ab78ef8e9152918b9f79246f24f42178a727b9dcb0ea0ee"
          ],
          [
           "b2f0118c080caeb2269cfec991967b485f10e3af9155a35b3262abf4d4435daa"
          ],
          [
           "b30de633745c77bd412b3bee693624641c75e8ce16e261a797423259a8a10e41"
          ],
          [
           "b31ef9f00c61a97ec94af62adc06b51fbcb56d7e834ce9cedb36a97626f19c98"
          ],
          [
           "b326014873daec93e671d9cc725bddd17a804e43e53d4db11ea0eb85aa4a3b19"
          ],
          [
           "b32bdf182930634a375c745f7ceedb685bbed2db65963aed5432267d6f555e5b"
          ],
          [
           "b33ed877c22896bdc52f174b2fe24c200ba3f14c17e8ecc28d259732346f8aeb"
          ],
          [
           "b346464091dfcaff68ceeadc3992d91a46cdadb3f34f6b8e8f27365c5e70e784"
          ],
          [
           "b36aefb1b7bd0b355dbd230a51f8f304e5415018da77c4a3062e36ddfd4a4a8b"
          ],
          [
           "b3776b145100b24694d0a2c4e253fb8bdc9edb984c8715be9659eddb53d6564c"
          ],
          [
           "b383af16a100b3828e6ca26615faab555cdecc53fef487b677fa851364a895ef"
          ],
          [
           "b3b3e3ac8f9c6020a5d20391f21499ed0fcbe816a6cfa0251b3df187459b4c16"
          ],
          [
           "b3ce9efe0bbbc663ec1e76e98420e814f6215ad05d84052f448ac649ee5a09f2"
          ],
          [
           "b3d1b08ea57ecc703b2467840eb9195b99d522a021601846557f27df64b5fd04"
          ],
          [
           "b3ed515bf5c467bb39f951ef2086d9af8845cec6c08a0bbe0d626ac0ca78112f"
          ],
          [
           "b3efbc47059a49580e0041fbc306edf4f4fe6e2628225a493399970a13214f9d"
          ],
          [
           "b402fed992f8264b21766e5e0ef47b68c8f413c66535e9f3c152d7ec2d9bdf93"
          ],
          [
           "b40b253e868cf5bc6c3a2d4b3fd22b788b4121d1a1c50c2ca781891e6d82ec9e"
          ],
          [
           "b4340ddebe030afb25dcc1dc27bfab99e714c8d305162a49a694db7a5e854bc0"
          ],
          [
           "b4429b30effd8d46a357c877a868f8a267036f67c24802bc3c2914a7963e41bd"
          ],
          [
           "b446fbdb784743c4c528127341998133f687ec317ce062288e98115dd0b7088c"
          ],
          [
           "b456164136462c9a31897b14d302c77881eec662732a582c537f95a2d4d5a094"
          ],
          [
           "b4680eca0600bb3f59caecbf0660b56897a58355c9af90dc4ef0b5d26874daa5"
          ],
          [
           "b4e6dadf9c4a034d95cdee473a4b2f54ddf8cc05fca258cff610ed53c70ca210"
          ],
          [
           "b554a5932ba23d77f6c619252b5e83cfb38314f804137d278f19ec310fbc243a"
          ],
          [
           "b558165090bb54ef4effcb5bea993d0d07c0f2fa4ace3715a7771b37b82f2794"
          ],
          [
           "b594812a3627d9a25287df0fb824307ccb6b00dd9c2ecc95112001f7a97ff322"
          ],
          [
           "b5ac398f9fc0cc9a425adb829fdb0603f2476ef5078c86efa5f9660e49c65da8"
          ],
          [
           "b5b04f690d98c09986616cea548e3aed7e7d26b87a0daf052127f9e453fd8fc6"
          ],
          [
           "b5c1284dce4980c051fdcb96213dcbe0af6e64657a9ba6d66829c88d50b05827"
          ],
          [
           "b5d4956759d38b9315a468f535149aef09a5cd24474f0021ea1dcc74a9e51719"
          ],
          [
           "b689f39b0af9669bdce7bc8b6ae6b91b9656fd0363ec17a7cfedc77a3f15d7c4"
          ],
          [
           "b6d69c9754f02eec81c20aa6acacededab3292ba9ba781bd4fd02608c76fc61f"
          ],
          [
           "b6d83b9dc858d38c736ec92272e34b9ccca1b2e06796038059e9747d3cecc1e3"
          ],
          [
           "b6f1aacaaafc4a7f06f1a61c44eb0ca2a1bc2c52d054c5780b2f346086e2003f"
          ],
          [
           "b6f5b19638512f8311691aa8e1258b6ca865e6543e344263d89401dcb5cf2674"
          ],
          [
           "b71a93dc7430147b7d21f61a473721cb8865edbdf890dc063c5959bb5177fea6"
          ],
          [
           "b7240c6c31cff10e5e83014d52300182c1f48edfcedcd1864c8ed0e475ccd571"
          ],
          [
           "b72a71897612421697cd96b001162a93487f22607bb44f7bec06da07ab2c15db"
          ],
          [
           "b740fd53c8ab4d6eae9b7cbc097769499799f5fe3112485c4cbbd021ff33b162"
          ],
          [
           "b7582d05026d0149fddda6eef7e25839abd3aca7f3881ec0c25200d30fd32430"
          ],
          [
           "b760c793f69b9ce3276d0b2e77ddf08531cfad6c01b75477b0c16c56f73f3735"
          ],
          [
           "b7845adad2afce377c23c8745f1282b35693e116c773d3efdd041cac40d729ee"
          ],
          [
           "b7a7893513aea245741bc2407364b107dc3f1e90f227ffc260bfe38be668242f"
          ],
          [
           "b7a8a0bf8e26c4e2183a9074c792e1338970e400a7673304a9873029b6a96a3f"
          ],
          [
           "b7ae390c0f52c09573acc955ddcba44bde252fc1d52062a5bbfa5a317ad13ba7"
          ],
          [
           "b7d23107073a5a7ad96e4b21097ea57e7121b9c5c628d3b6dbcba3b24eb6cb4d"
          ],
          [
           "b7eb29167b90fe6b6400fbc50d09a41a5a7163f6e0026bc0d6b5d82b3270e5a9"
          ],
          [
           "b80902d568bdeb285e0de652c483e2dc4f4789203ef2dd9df19739718f3d320c"
          ],
          [
           "b822314b40e313c541a7c6c034d7291a2749f697faa284ba448330e57b806912"
          ],
          [
           "b82950253d49bfa968c9973942bb42791b7446fc0b5846bf45cbfa550f81dfbd"
          ],
          [
           "b867013adbcf8576f3ce6a009e80093731d8c0e89bbdf435f9a79aaf2f596bb4"
          ],
          [
           "b8aeef811ffab2cc8975fe608c73aac74ee82266a6f618cd3ddf7796a18abf15"
          ],
          [
           "b8c8e14db44219a6a6621de195f2994df0a78f5adfe2f3e810918f70c03e2ce5"
          ],
          [
           "b8e2c89d147e0bf1d5593bcf2e9bbcf5ee8644de3d8952c9ac8c46d6eb4ec127"
          ],
          [
           "b92a97d289818cc812788d6faa15a317de5563586ac6770db7438dfdf18365ad"
          ],
          [
           "b92b45a24e12d6b9427a345f2834b563417a6bd3dbeaca5acaea556948501cd7"
          ],
          [
           "b932abd90b36096334c894410f0b029ea63c25d6379daf0e2478c8cce3c324fc"
          ],
          [
           "b968c3e3d22f7d066c4d3f4d88752256469e28bbdc15c627f23e306ddb55db01"
          ],
          [
           "b9832ccafba4419c03a26a3a13be4f720d340848909babd997522e98b0302332"
          ],
          [
           "b9be6030e3695b81161d8762bfc9f1bf8d4c1c28e417abc2509085b9ee3a2901"
          ],
          [
           "ba3c66c5f317bdf658490109f357e6234d19fc42886ce9276db1eac2137d7ae0"
          ],
          [
           "ba5612f61231ca34ada9db6f6a5ed1aad578f2d469434eee191890a71eefd9e2"
          ],
          [
           "ba7776e0c53c9cf2edd0aa4a2c16522ef97fe64ce340879e1c206c8f4e65b55a"
          ],
          [
           "ba81218c97f06d03c7d653c3eaf45357801e2ce4cd2f8ab3c95ee3ebeea245b4"
          ],
          [
           "ba8d429896158e83984fd4a57af1e8bc8dc422628eccb2daac62b2b2d1c41882"
          ],
          [
           "baa27236ed093299d53934dd777a3ff0ad186fac4557fb4215030a72f66d3af2"
          ],
          [
           "bab58891ace86790569bb54f39fca9936d47eb2e0df6729e7209a04b5849f615"
          ],
          [
           "bad922dfb5281a9c9a1fb8b3b061842e397aff8a11b47b8a68690a010fd29298"
          ],
          [
           "bad9aba589f0a2c13dc2066fe4414cee572729367190e224915a15773676be99"
          ],
          [
           "baeff9f0afd51bf3b0e34830e2ee9a1364d2fb8cf2c8cd3c6b32686b321b8c65"
          ],
          [
           "bb06193ef46e95687af84d582c2744f6c03274089e1977713e610b4073c605de"
          ],
          [
           "bb1c2cf40d199108296ed1444e502c7114c5cba5cc956be85b85146293e00464"
          ],
          [
           "bb48ca5b48834c5a21d77a254eb6bf8f9ba015cd5fead5107f512e51634142f9"
          ],
          [
           "bb6b062c91f1e81fe2d0d174665dbac0ecceeaf515666268300fee13103bf7d2"
          ],
          [
           "bb8c6962e73d8a2ed196a34fa9b05e21307070816607ca1d52fadec80a0e01e9"
          ],
          [
           "bbadac9c23c0ccb592766ea40768a1305a7a732ddf3b5c16b39aefa13bb503bd"
          ],
          [
           "bbb391f667b73580af113f8123ca87bd025253c7fbe4dde6c682eb54fbd1a886"
          ],
          [
           "bbcb9de68a6e2ff33acd34abad714c7ec5149b688a22ca47917595abdf98d9d6"
          ],
          [
           "bbcd7bf916b7e45840fe1af96bd1704eab9fc85a2e4c0fb6a04c9d7e32d7ad9a"
          ],
          [
           "bbd93dd903390706a4777ebfe21522453ad1d599f811169397c17cda74f401b2"
          ],
          [
           "bbf6cb8ce6ba33c1aff7738c3bd159079aac50963dd0a53a54da2303146d0595"
          ],
          [
           "bc107894298c1521630b97b06cd6e827e3370f3ca985776b69e6b5da4fdbd9dd"
          ],
          [
           "bc91208ea717a4a07e15a3293ac1932c3b0ea5b5889a4f6145989d3562aa43d4"
          ],
          [
           "bc9a9c973efbf16a41ddf71e076b449fcedf97a3e580cf53c7490cc8d655ac28"
          ],
          [
           "bca2a2f3758ee0a370b83906afcaa3b3719a8317f072ddd2ed823519e0414f29"
          ],
          [
           "bced897e1886e2d8b10d22cb74f0b314f33ecebe6b2ea14b657320261329678b"
          ],
          [
           "bd665700832b9ce7ff867d7120228f3e23c597d84145abed9fb4193835e5bfbb"
          ],
          [
           "bd7141f7d32d5ce6777a34c8e5fcd861bc5b330934e94592925d978d95fb6705"
          ],
          [
           "bd86de81778bfa68d6c5b50fd31f00ceff437a280d83d81159db68fb5e54a5fc"
          ],
          [
           "bdb1f664b4408ea6193ab15b67092ed091bac28b3c8202f284818b305b2114bc"
          ],
          [
           "bdb6c5eda0dce7949f737f0b95be61c2b5e813d22ce24c6343740af431811ded"
          ],
          [
           "bdb9afe8c136baa054b055026bb96429092a92ca3caadc82b6280be4e5ea0303"
          ],
          [
           "bdd679fe0bef041f3771b99ffac6dfea8b5ebc4668700ec7a1e0a8d506f637bb"
          ],
          [
           "bdef8c2694bb321ac0b2c5231fc8a095d5149b48448ae0210c0705647cc44359"
          ],
          [
           "be5e07990fc1f0bda515ff7f77ec099970f90ecf6d45c2a425e336a5665b3979"
          ],
          [
           "be62a00d829734119e6e473cd977e6847392740d1bb9f7dde990da026452d7a9"
          ],
          [
           "be8d2e2ae39bba6bcec948c54d9383cd9a3039240937cdc3c72513258afe0268"
          ],
          [
           "be9917db3be422dca78a31f07a0ada2c9300ed52d81bde1a7f6ac4d26ad1d9f6"
          ],
          [
           "bed93626f97f95071ff5c88a924c3bb989da37c74cb8927450b544ff4963e55a"
          ],
          [
           "bee7fc407708bcb61c67e2299730a189b47d326cab5641e895ea3d0694b289cd"
          ],
          [
           "bf054b50fb6021e6e3601a9ed0135f37e560f23a5e6d3df232d36dd2f9eb9ca1"
          ],
          [
           "bf1c3602f2c53cd954a92f2d4e56983bc4b0f738e60e30e706128e7997d34228"
          ],
          [
           "bf1ecbf55cf8da004f4bd0ddce0d70e4e99a5e1546b446bceae66d587b71b057"
          ],
          [
           "bf3fb7088c8cbdba642f4dc93e8f56634bdb921aeb526ef9c4db55db51849624"
          ],
          [
           "bf494c0811c1b21c59dae2c28c2be16540dbe56735df3f9f13f43d3db5cfcf7e"
          ],
          [
           "bf4e88023fd39e53e6e7a8e22cc8c725db0ff3256f1985c1b83ddd8b007385af"
          ],
          [
           "bf640df41536a99d9b7d0aa28555d474db7f9008b0b22de6888f5f27cbb90ab7"
          ],
          [
           "c013b3b3f7dabcbaa6fccd508f44a423d5523d9d8fa85ee89253e963d55fc3bb"
          ],
          [
           "c024e7a8c2853e49c480c7f8a30e7ed0208794f5d05625694f0e77ee2ff75b50"
          ],
          [
           "c02e29a4baab82002d113ff6f4d5f777c8930614aa72d02888065c51362402a2"
          ],
          [
           "c0496d5ed881ba12eee3b395bd1de6f904fe5af058af5353fd7bf19339301e14"
          ],
          [
           "c0506803335b75f1559fdec2b73411d8034dae55e078966a2f1cb8de70fdd1dd"
          ],
          [
           "c05823bf39752995421d5667ec9244f51fd775414a139ad39f4df77000dacbf7"
          ],
          [
           "c06ad5fa65bbe453006e9d5188d6c1304185e318c0e2ec194589e75144d93e14"
          ],
          [
           "c080e3a20baf16c49e8441d268ef312e7b19851b95a8c5d19e7b40ac7766909e"
          ],
          [
           "c0b41189be39fafae523a5841a8e6887a6b0f813f00ddd220a3da54608849c47"
          ],
          [
           "c0d2b392155029f686bfa76233498f4416135db09d27627cca621551aa402dc8"
          ],
          [
           "c0d6a08f24a65c5106802678d0be691d48287bf02d49bf80502fc9df3a6b764e"
          ],
          [
           "c109ba601ba4ef1ce63f73d6b6fc8327b4a184d01cf8090ad6f5145b96194fd4"
          ],
          [
           "c1111557797e24d1697e7e00e6d8e9e600551c21ed6caf23c62f2f21d8d8a2b5"
          ],
          [
           "c1503caccbfaaf791e7e2a7cc1582f72732a82966adee74580ffe31d39bab3f9"
          ],
          [
           "c1861d670afafed6b25c08856c3a9bfc2e6db6454dd095aa7cdd8e9d834a2336"
          ],
          [
           "c18762d5a775ed0a97a35b0f7994d5af40e85633067e5ee2ae835a2183069c39"
          ],
          [
           "c19f71700ffcc5fb0dfaf7eccae4db87a7f25daa2a19252f0f80ad3f33a9efa9"
          ],
          [
           "c1b7207d3a960a12383b07e373c1c317707140d65a4cb500ebf0b4ae909059bc"
          ],
          [
           "c1d73917edf2e5c2d2b788222f67a2539eb29d6e11f139ddcd905bbc2243d5c5"
          ],
          [
           "c1df19b1a05ca21c04335436dd125fba1a81e57ddd726cf251e22f5049411ccd"
          ],
          [
           "c1e9aa0f1962b7afdf61b93422ecb93c4d139ac9b3fda4003d344a66103a3eda"
          ],
          [
           "c1ecdc1a53b70c3cab6afa05d1748ad95516d4d4707919fd196a495bbdb8a9b8"
          ],
          [
           "c211cfe5926e0b44283401ff673ca83a84361513befc3dc305090e329f43bd83"
          ],
          [
           "c2824474b532286d93725905f54ffe8182dee40d554340dac433d2ad58c32710"
          ],
          [
           "c28cb57e08a8fc03c0d95dd4a094f5acbf23301fd0503ae21666d5c90da1bd31"
          ],
          [
           "c294e9dc754ce9de7d0d2f74b6d1ffb0ae234d1b6f656ef1f1eec779eaa57f54"
          ],
          [
           "c2a4d402b51cdaabd3bfbfc6a3dc01e288e8095cbc593b999d5bbc8390500318"
          ],
          [
           "c2c144065cfcf3713e43d2d3374e6a9e569933daed65baa3d3c3a3da29213e38"
          ],
          [
           "c3062fcedc41bf9bc82f1ce95146613974ebfa274e2fd43da20b906ae4b12888"
          ],
          [
           "c341080c931c69a441a3bcaf877367534fc259d774639650e95956f4c55bbb8d"
          ],
          [
           "c342489cf363d0a0edd1698135152661541f19c2922e783c6b1607979c9a58d0"
          ],
          [
           "c342ca4cb2ca228147126fe464e24a764cf6f52eedd45fc1d6d2f78f8795c2a2"
          ],
          [
           "c346ff8db83cae004a4af53c96dc506c8d34471cb91affee1f1ac2e5f202ee10"
          ],
          [
           "c34762cc2001865af041c13db6f692d231dfc0615fdd2e779c0a28f82d0b1251"
          ],
          [
           "c39c83abf0f91510bb853db27293f702ddc7d8d24a0be912e8ea3067544cc519"
          ],
          [
           "c3b48ef60e220e937948f426b2f012eaaa0a99cb58803944660fd227ee84eb4b"
          ],
          [
           "c45288d0a46eb0777fd423a594394e9fed61a0d087eff3a9554cbbb4058f6ea0"
          ],
          [
           "c486b7f4d43d788c0d5a33102532d5a412294910e8c94ac24e3a0afe4864978f"
          ],
          [
           "c486f180f360b1cba19506a5588ddfb0ddf5b093dcf64c6f89e7b0e01ae8507e"
          ],
          [
           "c499d3c0a1b2724f437256e225eab4de44b1dfdb8613ad69e1e292f71e422c56"
          ],
          [
           "c4cd0884ba9b6cf106649d4bd9bade39fde49a2b9c37684b9bc95fb0e8dafa21"
          ],
          [
           "c4de768321e59b4f4624ea32750f4bbb17e1be0405e5ed1837c69b533779bb2f"
          ],
          [
           "c4fc84ad170328b26304577f48d69ec8bdbdd43b37570cd76b251ff850ee5fe3"
          ],
          [
           "c52277c5aa53374002611c3bdea787eec0113363734de9bf6d3734c81fabf77b"
          ],
          [
           "c542e26220ac18d332abe5d4acb87b87075de40feab2d5c07e4aa5c3a3bee8d4"
          ],
          [
           "c5afeb80f5b34b506bb5bc6a5ab2e5530e11b331a75b3efd0c1adc2b55df1650"
          ],
          [
           "c6045c05f3a19216c4c1816739075559750f59c9125810d0c05ebfb2fd5dac34"
          ],
          [
           "c6168b83b292b0d5b8c7702cd8298d26882afa548de708c394d6908ff8762fa3"
          ],
          [
           "c67609b6367e78c8d414128faecd1e7ff3cbbc7c85e1f156b0d6b86548a1e4de"
          ],
          [
           "c67da86f6ae5e42177e4184e8ccd5b1a7cf1f1d7a5777ed074bffbf95c8490ea"
          ],
          [
           "c684c7e8ca8869ef61163d64ccc382146c1290283c440ca6e66f910b993e0b91"
          ],
          [
           "c6b8697a41a2c143455493c866dfce2b82e13fabf3c8d5fc92e96ff20eb14b5f"
          ],
          [
           "c6c025b6930be9b335c2c17ab91feedf3c169dcea0449763ecce9b2e22f5e3fe"
          ],
          [
           "c6cf5445b9661b0417f74bdd7a7a68bcf10a80d463a730e6989b398817c50684"
          ],
          [
           "c6ecd33233bbd2af75a12b572d865262eba5fce5b0d074a4365c7bf1416337f2"
          ],
          [
           "c712bc6692de5cf19de9db8f9b070eb0c8da491e6027c9dee828b3195b81303f"
          ],
          [
           "c7368859d3f9e5db1b5650b3eabb9ba9794652407d452e0598c8dfc8770adedd"
          ],
          [
           "c750f5c5cf2d3de9bf8b2b5fda68c54441ddef5f6aefa0c8a289e80e11a8e5b7"
          ],
          [
           "c7859a443702da7bf7afbabb59408641528a52cc2eacec08e638442af0526355"
          ],
          [
           "c7b0c3a308142f6b930e6ff15d907d9a3af897f3d8a3f2a711aecc2facb182e2"
          ],
          [
           "c7c58edc6631a86ade6a022101e9d7a140a7a19c62a7f2be78e98285cddac699"
          ],
          [
           "c804da3e5b1b2b56dbfe4b985b75d069ace4527eb0864962d04c4444e98593b5"
          ],
          [
           "c81146d46b0d4a6604845da81a6cb0bb21b5a6b471932922d58ff9ce5116af14"
          ],
          [
           "c849989bd8aed6c4cefd7a7d1b0f893f8ab13802ef846efe78e0f42379c11013"
          ],
          [
           "c874bdd24c270c3aaa1214cb854d8494eba47c09dad0c7e10cd9ccdcdbde532b"
          ],
          [
           "c8d42eae04e0adfc467cf7db2ad4c103fd7789baa7ca0167b1a1fec92360fd37"
          ],
          [
           "c904830029898b06e6b6574c5f61d4ed080d5b0f04b98636e06314a1e37133ac"
          ],
          [
           "c92f0b50f957fc8f27e5f2a1e9c734bdbb9b0416654203f2f6eceffda03bc02b"
          ],
          [
           "c930a032ad3125d5ab71f839f252f99eddfa11f54750ae7c5dc655304e9433d3"
          ],
          [
           "c964c58453fbfcfc1942228732e9bf2cddee557e0822101f9e5d6fc911f493a4"
          ],
          [
           "c98a99d80635c424e2ff5edc34020e6c223dcc9adda2b42b3e93bbba6d37e6f2"
          ],
          [
           "c9a327647ae658dca86f1c784fd5115b75200d1dd71508ede30fabe3a0821d79"
          ],
          [
           "c9c4864a7de054759ea1d491f662834b779a0f900b7042af6664b9b30681eda6"
          ],
          [
           "c9f872d13f4d10ba01d62bde7a4264e3954a1285945eb5d16e65d268468809a6"
          ],
          [
           "ca1fa307f2558e3ebe63339ffc96166de1a2f8f315d55689a92435bf4fc3ba32"
          ],
          [
           "ca466be92fab506bfb68758dc0954be40c9d57d374c52b4ed52b8c37e5a74185"
          ],
          [
           "ca8150d0879f912bbb0a0ef9dfd66da4130c2aa6e8b0fec980661aa48513f747"
          ],
          [
           "ca95faf184975846225365c25efcc359cadef1257694f6021e8ab3e39fd6093e"
          ],
          [
           "caac71f819efe1ef7b755c743157358a44b53bd17e5765ec794f62775f232328"
          ],
          [
           "cabda6ed15c6b6c8b01140bae98023377f9755ca5d2c157150e177ac21412bab"
          ],
          [
           "cac9ac0f18df2358942e315bbe650ec011b7236fb710498973b90b4923204c6e"
          ],
          [
           "cae640f09a665b6005374e7f7574a45094fb48f5d23dedabdf6c5598f48d7067"
          ],
          [
           "cafdaab62b35c46d804863fd4aca3e6ed7b502ad732d4c609df72391ace5b646"
          ],
          [
           "cb1586ba97b548afa39f3c1c8ae5d0fb9df732bc8ebddd6cc0b6b890aaf7b496"
          ],
          [
           "cb18d67e5ad363245324684bb992ac1ed02d5c327c404c88b73fc326b22ce152"
          ],
          [
           "cb9521508e4c658f701e2cf6a40b816743e5b5247365b3d82568c4feedad3e85"
          ],
          [
           "cb9e7f77f41f8ff5b8332096d2315ed7038a3596315d4d438d80e72334f4e949"
          ],
          [
           "cbc0f50d219ce571fa341b4c702426f2671c051d8d02e5f86c7fddfe84998288"
          ],
          [
           "cbd779b16eca3eee0382d918e9731f6f13597de8b656280e9281a358980f8310"
          ],
          [
           "cbdcb728835bc3db64a877217fe675885215a87560d3c8c43f4e4c8177a333a9"
          ],
          [
           "cc22839fb823a40388c248fd556a9daccf56ef6bd79cf53ec0bad5433ba9659d"
          ],
          [
           "cc7a18abcd1b6e8768267579e020292c30cd8c528495005186691cb48e4bdb46"
          ],
          [
           "cc941e83832a8793b20ee166dcca87c30bd10e64d26af03242dd344cae399b55"
          ],
          [
           "cca9a9004d085bd993612a7cd3157c674f3c7f47ddc1b847ca5b2874bb85aefe"
          ],
          [
           "ccd4ac2d9565c86c7a7dbc4410126400d75afff140d53b6f0c00fc7841c92c47"
          ],
          [
           "cd01c8a879aaac47c6dcfd92ed814f9067c5119f418adabd988daef62f36a0ed"
          ],
          [
           "cd04d53718d256b2461dacd68b9fb5d279a6a67ec62fe0c9dacf3f3bff12c253"
          ],
          [
           "cd088c3da9436e41ac0700875baa1a900d525aac1b1d5a58643a0e888ab84f90"
          ],
          [
           "cd1650a8cdd50ea85ec2e8584f8379759042cdcf153e4f06e7e1433d2f23ce60"
          ],
          [
           "cd32ceab33800792ee9d0e3ae7b7306cd34e90557b5f92070d338bb1e989f4da"
          ],
          [
           "cd4d66410f032312b55de86fc06d14e9225b25be07be45fe233f8e6d7fa31620"
          ],
          [
           "cd5d3e17b49d426c75459d3db51f351de25e28049e3a03342326c64d09f484a5"
          ],
          [
           "cd8103355b9c502911a306b8cb22265b266ebd08f023a0c174b402e02092167e"
          ],
          [
           "cda32cbebc5a98ea1dae4345b104187e5f9e359790523c4aadcc085ba3717717"
          ],
          [
           "cda93c9eb24f759013066a81073e2eb368f39f4ac06ca2114053ca25a6cb1d10"
          ],
          [
           "cdade9adbe70ce0a50599cd9bd32d12ce3e26d24c64e914275752f2ecab044ca"
          ],
          [
           "cdbb17719f34af6747e374f1ef7cd42a83d0ce04bcdc1fea47a96ed19ad7f7a7"
          ],
          [
           "cdc3e1149fa478de86b679e8df582787673fa366ea497dd96b91b85c2b35217a"
          ],
          [
           "cdcd3734605acad47603fe93058524429af3492cbd5c8ee19d99d00a0cfcd028"
          ],
          [
           "cdf5a39adfabd243b4ec3f17adde9918f67ec0df4ced3598cef9d5174449dac9"
          ],
          [
           "cdfc8b6e8462fba46825f34af50f5eea1cfe0799f3f2224ddadd20705b971a50"
          ],
          [
           "ce01f8d68d24826ed90354a1715edf193ac78e32aeb336c48070b46ec1bbe31a"
          ],
          [
           "ce1fc84c4fdbcd7ddf3de42361054a393414abc0a6e67569919fb52981d183ec"
          ],
          [
           "ce5738dc075d8187373627b7304f8eb67d3fb274d9c5114b78cc7a6c2dde24a8"
          ],
          [
           "ce654765a737b52bcac1f63474397ecbf9fcb6eef965a02bcc253a2450e63815"
          ],
          [
           "ce738e9d6d512ea78bfb748c415bdc4d04eb92dd8b96506a99fab4f618a7861c"
          ],
          [
           "ce7eb42da727c412f74eab21200fcb0229790a077b7b14d6f06834ab7101f69e"
          ],
          [
           "ce8603b656afd59159299a485b3df7f75d83eed62fb53d68a0214c8a4beaf945"
          ],
          [
           "ce8cfa7d0e05165fda083c001ba8a27b4b51076e5ed066bd616a015d9e8bcfb9"
          ],
          [
           "cea8197181f6f70434ba85413a5915037637ff87f3f7b6341ae23245ac89a930"
          ],
          [
           "ceaefc7d1b7f4d6a77f8ade67b99fcc3e64798dff2aecabbd080898d7d92fc11"
          ],
          [
           "ceb2202dda6f41e1ab0758e93412befa0f86df7112e4707f75b9c538cb462c54"
          ],
          [
           "cecb1aa8779f1727f14d8686d0b488182c90e36a1ef67aa4fc6afe609779ad36"
          ],
          [
           "ced744b8dd71330253ec07ac4d79ef53ac47561e37c9671b6d5a5859a55159f9"
          ],
          [
           "cefa6ae31ea6de947b10bfe8e1f4befbc9c948fed5aeaa88d69ec374367982a7"
          ],
          [
           "cf11f49e5879c65faaed3348f17d25337fe16848a59d0f6fa558ed6afac0ccf9"
          ],
          [
           "cf395fe624cffc35f80f069219530cc0ffa67f1a61f233b44137ed456cd3229e"
          ],
          [
           "cf4e75e1a423a6309b4c48ae86e364fd80124ee960e3c358f838bc1757e79ace"
          ],
          [
           "cf6e2731180fbe53f25f046aacb1065c3effcb3ea503e912a562b39cec9c8c93"
          ],
          [
           "cfa908e95c3a616c1bd44e2144d9ed1a24719afb3ad6055dd43e6499c08ba57d"
          ],
          [
           "cfc099dab331136ec563361db035c1e7bf36bc078ed70530a8cb69d84329f927"
          ],
          [
           "cffa4e7ea80324dc29f7332114e859339812a483273b399eef3e24fa115b4b0c"
          ],
          [
           "d00195a47870b0741fecf50e1cfbf8fe7a976f1070cfc33fd038d50fe3794c40"
          ],
          [
           "d009c364de41cb99eb64cc51ab109ae17360e3f9ed7ad93b311f28145cfdc22c"
          ],
          [
           "d0302952184e894de108d722d3b046ed24e60f647ebd2c1969722d80483f64d4"
          ],
          [
           "d050d8069638f6227fd544228b3075ec69a275f983ea9648db8ffcc656f4cb78"
          ],
          [
           "d061b813ea7e542fb0386f835fa13ef0b1f80441aa2e049433d0c997cb3d7ebb"
          ],
          [
           "d09b0ac80655abc082826538694874840a61fd781bcd261930c9f1543528107a"
          ],
          [
           "d0a61823391cd561d9ae821141d8bb3da23e2905cf60d6a54c3434a0180fdf5f"
          ],
          [
           "d0b1ae9f86754022f84eef211d3f38774e756db71ab8a1104cee85cf43201087"
          ],
          [
           "d0c9703cf599d4b28e11d3a3ce2ed59b2f3e128d0b1b048e2221b7cd83009c5e"
          ],
          [
           "d0d6984bb971ebbcf1a7149cfd96acf73befa7e3163ef756d9e86b9b71de0dbd"
          ],
          [
           "d107583aab95f95110a7b44b37a32075d9baaccb01c2ec9f912c5cfaeaa91b9d"
          ],
          [
           "d135c004c6f310a583bf586a3938da6d8e04c135f3d519094b69bdaecf0533c1"
          ],
          [
           "d135d1b6b95c3b4005f2498c48e8f665b4a25868755995f1566c9681292b59b1"
          ],
          [
           "d14945a05b0e7247f2ebbe4153dc2fd4c227c62e2cb554932aebe1e66647ce04"
          ],
          [
           "d14b1df78ced301c2fbcc2ce0e04eb1134330aa8ece68672780ee2ec6fc008e1"
          ],
          [
           "d1a039aa4366f9a39897aaa46b6ac8e17ccd3cf9a6b5185c2486121803958f75"
          ],
          [
           "d1d1f5057d9ef796883fff02207cf5b29ca512aa02dd74c1a5b82c72783cdeaf"
          ],
          [
           "d1e44b997457b2bc89b4d27b6bffaf2e563db6d142c40fbb93db0fe88a0db888"
          ],
          [
           "d20261ddb614fc59204113c77ae6fa391e2ac3a9a0399d905c007765f79da7c3"
          ],
          [
           "d2306842a10ad4f3c04eb028b47dbb8665551db7c8256564fa5a858eb0b0131b"
          ],
          [
           "d237e60f8dd95323b9621c873fd619eab46d60c6cbf44b1bc53b44d0c405d3a6"
          ],
          [
           "d2cced647d81e9beba9a70f56ac707bc6df0e2171be2dcd97f31178eac48b13f"
          ],
          [
           "d341b3f07d577433f956d21d58c6cd4b80d36a8b95a15a7d3b7ddbb01d5161cd"
          ],
          [
           "d39b73782351d177ffbe3b85d551ee2fac2afa05c6e60f5c287a979a8afaa0d4"
          ],
          [
           "d3a67c7ecbb88f9ecd3b5a0479d26b46ef7a147c90f31efaf8dff0138a20ce16"
          ],
          [
           "d3b360c024608447f1988690d947e8738f4e08645a10a449239cb4790fbe389e"
          ],
          [
           "d3daf1ae97fa376ff9af690d07747ae294a97bd4c60f5a244d0647e39d19aa94"
          ],
          [
           "d40814a78b937dcfe5588e895af4c362847b764a60f49282cfa4d6d9765fb266"
          ],
          [
           "d418f3300221604725bd95c2a44191cec6856df0ac7b35de12bf030daaf5a69e"
          ],
          [
           "d43d72cde24669c1b6e9b638bb5be896233a20d907ac7f7eb0bd339dc52ee2ee"
          ],
          [
           "d45c5c76eeab580fd11f3842412d901d154ba5267b54c635e69aa1f029c41d86"
          ],
          [
           "d496e9fa876ee8bd7a9643076b22b538291501d8d20797d5cb04585c7047063e"
          ],
          [
           "d4c56a4336ff3f239de01f19a28f8fd5a5dc98d0129f6ea7f3d2dabe1526e236"
          ],
          [
           "d4e80852cbeacc1141995c641702cb55eabec2f343f8d86fe404a8272e9c8f38"
          ],
          [
           "d4eb8bd3d3f404cf1221209070b9fe81b943fb4e6225f67c07f909920404d84f"
          ],
          [
           "d52694ae18f23180c557bba80042a30645be4216b61fc898028cae94addf9ac2"
          ],
          [
           "d5371845f58bea66e268c6ebabc9a0e85f42a5bd5b9eac5c7ec61e0217e0c1cc"
          ],
          [
           "d597b9b085e97ca282bbc17cccef93dd5746d6a932763bbbd527cd2bf54015a6"
          ],
          [
           "d61cee448fb953f3c88adf65a4891e3bed177b9125a4d16836ad6181d6fce17d"
          ],
          [
           "d6855803a1e6b967aba65a498722e67d2d0f3b5fa811fb3d7ce20e9fc8a2b816"
          ],
          [
           "d6ec98def2ba430f861050eb3f6783df3a5226b956796e06cbc1416e2ce35513"
          ],
          [
           "d70887ddf2a70eced1eb3662faa9d883fe5dec6cebe511dc89c47d6e9135af3a"
          ],
          [
           "d7119d54648332cf2e7234a53119dcd4ba6229727b68894afded9e2bccb76b9b"
          ],
          [
           "d74c98784b60da835bc2391492abe9aeff0d0dbefeecfab25b96a4d30f18caf2"
          ],
          [
           "d7640b50d3d2ba2885e03302713e571b9d888585a6fe46d8662bad3e73cddd68"
          ],
          [
           "d7690619e731f6f133c8cd64b0c0839eea035b91e404dbd45055eb59f7341b82"
          ],
          [
           "d78eba7ff19a87e39d5c4b4a94e9fe672ee94eef379ed32385f8678114b0c4eb"
          ],
          [
           "d7a9da19a5c4dd0b352ab3455062fc592085df95b1163da4cca4975d205599b1"
          ],
          [
           "d7ddc5bf3990ab96cd02adf8c46d38c6af6bbd58d194aa216e81c84c4bb26894"
          ],
          [
           "d81d89dd5d832a3d7688be9ea6cb2d15d372760829b540f7671f98dd0a778c26"
          ],
          [
           "d85e9aaafe710381f13698c37c2ce3bfcf2816ddbcc667b7ea21b25f292c9694"
          ],
          [
           "d862fe4831da07a0dd897cf1e598756e82c0f3b457c81b5746f7cc36d9d968c8"
          ],
          [
           "d8b22c3b0b6656ed5056eff6b56416de7e001f67c22e90a20c9ffe9f8cbec1c9"
          ],
          [
           "d8b4214bcd56289357a973953b43294b198f1a16b1c6f3360ec33341f7f57ec2"
          ],
          [
           "d8e9679d1eeb27275904933f287ebd236382838a102c34be4c3145f9b3e4c27f"
          ],
          [
           "d8f2cfe6bf8929541dc48aaf3ecbb2f99c0b4495ae22676eacb1cff3c6545306"
          ],
          [
           "d8f80720638b85b0ba9f17e6f2f4370385803b625b1dfc31b7bc0faf8d406eb9"
          ],
          [
           "d8fda2320ce0796fac93907cca913e524d568bf2f2d65a0b8dd6471f2baacf93"
          ],
          [
           "d94dd63a5d74927076c3eed026ce4db94bf878a35017767e50e6447bc55523a3"
          ],
          [
           "d965869e4eef9626e1e0b0c555d1927b56e45c3a375dc9f220bf48207f547c0b"
          ],
          [
           "d97e7f322af882181af94b1af8905fc9eee3caca3026587d3cd35e1630034bf9"
          ],
          [
           "d980ee294ee34ee7c93d44f9621b4e7f9be64ee1cb4b9e3f4a8c922e5a2f6365"
          ],
          [
           "d9a1da19d67a995ef0dc5895f40ac67d664f973cd9bd071a2c06810e8683e0da"
          ],
          [
           "d9e1954c598cba8c322423d83a45e10ea20d1ed6282bd38de2ca77852d7e1e3f"
          ],
          [
           "da276fe7ece044344888aa588033122d0fa25e6e865c86b45bb54a09f2c02df8"
          ],
          [
           "da41d44a7d4187837d7bc1a1ee3d6ee9dfa9d0501956c56f1365f6a4c4593d77"
          ],
          [
           "da521122b3c8b048c6ff7f9f366b7c388f437106e43ecd1044662503edbb653e"
          ],
          [
           "daf7ee997b7874da6eeb341c0ffb794560b703521b37251f6984205b55ed242e"
          ],
          [
           "db410458ad0e9e4efbbdb879d3244299d04c35d619d30c6ed37ef2d40639224c"
          ],
          [
           "db5b1716fd785174974a374e0d09a4d97991ff6f5e9f8268b2b2987df3961068"
          ],
          [
           "db8650cc45177dfb0ca6b8deb7d866f87536b2e73498cf38bfc056840d7a2f7a"
          ],
          [
           "dbb88657d96f000e4ee1a0479c2dbc074c740757c76f5d6a8a69ec8c681cbd58"
          ],
          [
           "dc2db9f163500131ef292e7c26aa2411bfa6a721e927aaa82f371d83f1752c6a"
          ],
          [
           "dc36ee934ede37db6b4e433ea00269589bbae1dc12095dc63d9420f78c4e9a46"
          ],
          [
           "dc8183005974d5ae1aab722988e5e4d5556b7884e811ba656cf723f32290ccb3"
          ],
          [
           "dcd300adb0d697f5d42c1ee761b8b953964ae1d46ce8aa0cd9ba2e50853841e4"
          ],
          [
           "dd02103d896a4a4daace8e0a4a967690ad89c303cc6514d6c064d2e85cf66d2a"
          ],
          [
           "dd34676258ce435c899ac86b2867db98a51944efeef0f1c04b8ec573597ae3dc"
          ],
          [
           "dd392db38ceb0f0e0645db1165a288e487562acca7722e1722e6d1c0a5cc2025"
          ],
          [
           "dd4a14cbf9bc2473d2721d15d6c6958ed8d031c7c05cba7556b7b215306d7193"
          ],
          [
           "dd5fe5dfea68d07a621b29f505ae0ff2b49827d7b04c026f4727871939329ec8"
          ],
          [
           "dda85ee754c9acd582bc71a86c2fa7d6b5c6351761f31c9764e6b21ce7ba3e42"
          ],
          [
           "ddae46404a58694bf8e57807071771e16f4c25e31b0f1625bd8986563f3619a0"
          ],
          [
           "ddb3ae3bd83e8506a21dc71d72bf2d8fb915df0785b957468b2bfe016390f85b"
          ],
          [
           "ddbc1c9f9eb405bfd1356b380dddadd0169310484e14d4abb74bdb2f569a4512"
          ],
          [
           "dddcdd8c766fb5e8731c637d84924a17145c4bc278e112dc210a91fe5b5c91f2"
          ],
          [
           "ddeca3a095ed343e906c18f0ef3d16a296ee6da3c316b270e547f76018f2582a"
          ],
          [
           "de09c93954119960c7e5c08f5fe0b81312eafb22dfaf1feb2720cc05b072075b"
          ],
          [
           "de47169a67b5f50d31c17032c31075d5cbd44c92758396c4048fb05490c92f19"
          ],
          [
           "de6ac20491d6a7e9c77f883b477161b304d1bac3acfdca87dacb160c16711f2e"
          ],
          [
           "de8b6cd717b5925c3fe07c8ff80439b59c01eec45c401b944756f3927b3fd083"
          ],
          [
           "de9f43e0db717c83112c8890787ba35a4321c91b4696739ca01515ad4286e317"
          ],
          [
           "df9316a1a10f4a3e52e15e367a2699684e99c529af70a08a6739851db6395e78"
          ],
          [
           "dfd93208da5a37aef1cc67b15bf077bd96022df6579d022830fd85fc9c62cc9f"
          ],
          [
           "dffb10fb86fc59cd3b2cbda671e0ddbea9646e0073dec29ecfe65e168aa5c479"
          ],
          [
           "e00fe96f3e2b4f583511fa7dfb97be786855082ea8245dfa373e740908899c97"
          ],
          [
           "e01995c00a5915106b7cfa430e86b0d7c77b4e99f25a5dbe28e0ebcdd5b569e7"
          ],
          [
           "e075188387ee3df3d34ab8b918c131cff509be631f780566638f7632c6b2d814"
          ],
          [
           "e1177ec54a6e77effb38e7660649091fdfd9b3f15707350372f939ca58f95b12"
          ],
          [
           "e1402d1fff40dce73a9f9a348ce07709c131e13da3cd1e9e3a693c62bf187997"
          ],
          [
           "e1606225402fe8472779c68d4490fa7dd443dd5e802ec1d47ed3fe2a894e7b42"
          ],
          [
           "e177b60665c3db937d9f3f5bd2f13935c979dcef9eda3801c8d949161abdec77"
          ],
          [
           "e1913e897651695fde5351d6091345cb93ff788763e0f2fca7114d63e7b4dc5d"
          ],
          [
           "e19f00c0eded909266db519ac99951095d07b8e7a6e6037ff5faa263ac718dc2"
          ],
          [
           "e1b0fceca2bf60e394ac4ce448f512f4136087a6f08b25818ec9c1608b48404e"
          ],
          [
           "e1b8caf5370625f6bd26b7bd325e7f71bb2c953f150a0310d377a3c86402f378"
          ],
          [
           "e1d32b5df6b00bd34be9d5fd21e314a302de97884d13602cddb5c19171d711d6"
          ],
          [
           "e1d834b744dc50864e8fe17db267f724928e40c7e613ee3c846e0ff3fc0f32ef"
          ],
          [
           "e1d926f63cc55fef479b0aecd393a9e39609f3505862e7e522617bae8564870b"
          ],
          [
           "e2026f057fb23e9bc8ead4926c6c32a9c6ffd0040965f0a0e8db75a3875a2e57"
          ],
          [
           "e231427c7285932d8d90eb3b3f48c3d820b73f70adf4a25e3c3522ddcb1c72a2"
          ],
          [
           "e2ab27ff8ca7b012f31db1a154f8b5da3f9b3adacf276c36d01da75586ee1c28"
          ],
          [
           "e2b093afafaf023416795b7917d656cd20812a4f2e05e089836c88d5784c7b89"
          ],
          [
           "e2c7b41b8dbb2dfb1f163617db513699d0054260d3fe556a474479985128e4fc"
          ],
          [
           "e2d3cb1a90f7bfe1c990ebb6d03cb587534a7316ebe4b04927f75ba14ccf42dd"
          ],
          [
           "e2e550cefff717d052bcfca0ad56d10ea0d83f8d3a337993d80ddd9e53e7a2da"
          ],
          [
           "e2eaefb898678f2a7479160310be9669d2a8aae20e037a46ede5398b91440aff"
          ],
          [
           "e2ec47f5a7c9e2a702ee82f480b8b8867d9b2893112b8f38f9b095aecbfd03f6"
          ],
          [
           "e2fbfb102b0c1b2c17c5fb3561afd5f3b1925a06116086e2be027dcac15b1244"
          ],
          [
           "e30aef33c02f97968412ad6766e466e4bd2fa627e7aac4cc8d46922834b5a1f7"
          ],
          [
           "e3391b5a0518eed5aa2fca2d8b711c41131a0f06ee7798c12ff7b015b89ada04"
          ],
          [
           "e34601c8b32ca7616bf8e8ed33f1df0d6416c10862b6d7d3ead513a40fe312ae"
          ],
          [
           "e364415f4fe06567a8c4cb45be78cf67fc4d0c6b36955491612a3b0b1f2a0edb"
          ],
          [
           "e368435cbf908fc92be7490d6415f4cfdba84f5071423d5e1b238fa485c4e0e6"
          ],
          [
           "e3a12bb32defb0eff4a9e39e62cbc7ecf9cf0d922ec2bc43f5226680767e3e09"
          ],
          [
           "e3aee41dfcd55363fde8295f480ab19519e0b7f1d2575f4d54e9663e544ef077"
          ],
          [
           "e3bd3b8da27cae9d3162f688fd82d8a290f1125417a9195759ac4f6ea10d38a0"
          ],
          [
           "e3e2ffbed4f5cd7a0b953f9e88ae51f84751c82807268130b40c9cf4c8ba6055"
          ],
          [
           "e3e987853f1583bb0e9b20b9838bd122e490012990c17949045dc0740c923c7a"
          ],
          [
           "e3f1d1570849d1ed2a8969be72d47b98e93d717c98bddc8c69220d339a441188"
          ],
          [
           "e42b19d6226631f270bfd830feb6d68c5f3dc9051b672a160686c12b540d2175"
          ],
          [
           "e44e0c4ea3f7714d11bd7bb4ec86255b69067fe6649e9c31bc9a1b946af0b0b0"
          ],
          [
           "e4508c04a7838e81ff3d53ed92277ee8d5f69b41964952ed88deebc1480d5291"
          ],
          [
           "e49c765a69acf4309cadbf3c6c08d8783d2a96a622ed0af9dc6d8a1704f508eb"
          ],
          [
           "e4ae0952d0b3cce606f37a79b4a9e0fbb78b74d20f815cc64f80fffa795d088a"
          ],
          [
           "e4cf263291ff455328c035e90e2dd99a08a3d7fd734a9fc732e32463c2adf6a9"
          ],
          [
           "e5145df8993a4584448b3eaab465cdfeb677814927d0b4b782ce1fba736de77e"
          ],
          [
           "e55ade651cb45be680820e36f49cb432d2cef2271a3e58a4caaec6b1ede9c38e"
          ],
          [
           "e567900fe57ea5c881ade609502fb7c492eefad4d547814102565488a3ef975e"
          ],
          [
           "e57d90f408bb44d93fdd6e294e89cbdac875a1c29b3956d132bf4df302b76bd4"
          ],
          [
           "e59fb201078dc4fad606fd86da7adfedcb5ef07dcf2358346b81deb40e730904"
          ],
          [
           "e5b401bbf43b3731dd99a75ab2a6547e5a7baabe7d67bc5ab0873109b678c845"
          ],
          [
           "e5ca945470ea5aabd0544ba4c535082b293c6a850e0c261c069ee56cb4a2d64a"
          ],
          [
           "e5ec042c1751d0603a250e952a7456816632b0f5513bbbc945ad1fda05956768"
          ],
          [
           "e61a6d747d53a570a14e45a5805dd00d959674d1133e93e94769f3362e95630e"
          ],
          [
           "e61e923bff66ab322186a043042921f3c576ba65a20ebe84786ae02fe8dca4c3"
          ],
          [
           "e6282321a4475fa73f92cff75841b406a16638148692aa0da382f9250a631cf5"
          ],
          [
           "e639c5bf9421883d63f4c7036278c2eba6464b60e4b4e5d051e48fd22f76d351"
          ],
          [
           "e63c9979086c10fabf02728bd03c8ea2399e7b37968fb45f84cda758c53195a6"
          ],
          [
           "e6b7e2461f7e28a257b04e5353af3e51b45720e455cee160f4f153f40481e67e"
          ],
          [
           "e6d9442246e68d0b263b99f773cf79ff85d189d083113bb718623182a59f35a1"
          ],
          [
           "e6efe9a13e15155257d2b43906b1c3dd5a7da56ca15ff7f6dd4402653c9ab29c"
          ],
          [
           "e7312b2967de3dc2f9fe4b7fd3219be36b723e6a27929f6ed076f85c690c3bb3"
          ],
          [
           "e7419f5049294062742bc6b3a849388b745baef196a1e0a466e1f1452618d283"
          ],
          [
           "e74f79c36034d08202e70ae2db70bed95e1f8253e3dab7fa5a8e67d1036cddb9"
          ],
          [
           "e7d920d89e1d0b42599d438f0c54e497c1893270c694d5943e37228750b16007"
          ],
          [
           "e7de8254bb2dccc60f1f217efb975d89e279d6f0198b8fd201df7baf2f7282e7"
          ],
          [
           "e7e278de1fd56e6ebd15fb8668f41d8235797ad111b0178be602eaaa095eebb1"
          ],
          [
           "e81c7ea5e1edd947f8787dc6ad6dff07d808d03019d5975a78706e94d625c6c2"
          ],
          [
           "e83c8592d669994707b6eabd51e190326a942c69a946ad49ef4ffc6533b090eb"
          ],
          [
           "e88757b3afb650f5c3856463791113608ab67f8b3557922206e714b88af63732"
          ],
          [
           "e89a8b093eb425b61db30e75baccb6e6b9c24d08b6c56aa811540c8a6068ef52"
          ],
          [
           "e8b0f5ef4d61beca898e6e856e1f7a969d967b77f5cbe14ecf558afad6ba325c"
          ],
          [
           "e8b347ac7542e6b47a9a0bf90e6c4502f317a0fc760337dc77633609298c736c"
          ],
          [
           "e8d2585f4ae334c9214045dace78eb9f1b1c850948f1c04cbf99ce85aa2b9294"
          ],
          [
           "e8f59c061e60d83bd3847d61cca415f8cd7ae73292c7acd2a07880bd7fb0c7c9"
          ],
          [
           "e903aeeee2fb16ad73f590b6fd95c8b33a8012a2b99401e37274a362baaf4870"
          ],
          [
           "e9159bfbe9f68e8016a46e6b4d63ab235d76d72057ba7ed3cfe2307b420e5aee"
          ],
          [
           "e9434c2a82ec02ee208adfd5e6f918005d79237eed7b3fa3a79417c4d4d61680"
          ],
          [
           "e96f73646f355ee9546f9284a1593a0bc178cfa7e9b539048a97fc9d3e0f1db8"
          ],
          [
           "e980ae61975bde5b0e19e8cf32fd58ee35b5735840ce8f1d671618e2b80e9109"
          ],
          [
           "e9a91ab118e85bc1d611ebe54cdf86c750e0c37af60847bc659c7b4576e07532"
          ],
          [
           "e9b2308264ebf7eb1a671fb6fa717a5e14666d8167e157a8217b1f265f094c0d"
          ],
          [
           "e9b51ce704d103c703833d0cac5ea841b758c7d4287233eb25b7d337fd85102a"
          ],
          [
           "e9facdb1806aa8c6f6ead9edcfcbc4bb74058ec0fc4fc5611f68918f59b6b996"
          ],
          [
           "ea129324f08c34a5b7f2076414d2d02c2c14a0ecf274b5331688e84c3b315551"
          ],
          [
           "ea167a887ab1fc8a563099153f6d6d135ddc9f5c50532cad8db7479a038fab05"
          ],
          [
           "ea4ff283f3063487fac69704ff4f0d5d9e1aec09728d5c19d042a399c58e3dc6"
          ],
          [
           "eab2e3c9d65e3a934b766d408fdabb0b991e5ad4e4bec4a851396078c7f02385"
          ],
          [
           "eabc1e55484d26f83b6f377be6e20ed3b6f7bc00aff4bd3c5c9f92787b0e90aa"
          ],
          [
           "eaeb1a6da69085b8456fedf73ea3d7ad0dfde5681d52ed118d37a871f1905058"
          ],
          [
           "eb345a9b17439943bb744a55d876418d8c3c5be31c1cca43d6b13d4686ad462a"
          ],
          [
           "eb734164336e01472d5be94a18e8624aa9a7336353d5d4fc0b8d700a964d066a"
          ],
          [
           "ebc1d09a0949ec3cc2846c36a4cf2d2d26bee98cbef94ab72c106d65dc33556c"
          ],
          [
           "ebedf41d0c107da65878faf3fecd9ae57489624e45af4c0593aecf1fdd6a7274"
          ],
          [
           "ebf3021acf2d2a20e80cd6f3847da2e32e10fc9ea6054392dee0655271136da6"
          ],
          [
           "ec11c2a50e9b544c8aa522a502281e7e5f774268308b17a980d89606027fd036"
          ],
          [
           "ec21e2d58c9cb8337e648bf02b44b342bcf3b64ef19347e1e8cf8901162ed020"
          ],
          [
           "ec2f1e466ab03aaedca7a78c149e1d81716257682dd29b0a2c2799f23e742798"
          ],
          [
           "ec707332e41c310b1e8cafb7ebc97dca8b32cf35eb8dc74b4af86eb1fab527c3"
          ],
          [
           "ecb10871334541ca6ff6f94c96bdb6e0639e61b9977b399ad671cb7d3b75d17c"
          ],
          [
           "ece0d72d1b7bf75c1a521747ce9081f9d3209fe01fc2958ac1660296c462f5a7"
          ],
          [
           "ed03778809521fdb4b28672591a0cbdc9f1096406f18511846d728a9f4a5a3b7"
          ],
          [
           "ed7c4e74212d78fa32a7c19ea853c188fbbef6f497fd3c5a452cad89b4234e37"
          ],
          [
           "ed7cd145e71a315ca21063c1972e309961bde01deff698ba4c425ac7cb339d83"
          ],
          [
           "ed8b1fc3ed47a749f6f1775947cd36a3af5365baf983a7653631e73afc0faf9c"
          ],
          [
           "ed94d7659721c517d4cc91024af29bfb81ff537f6db3c87cb1863163ae06554e"
          ],
          [
           "ed9bbc7be22c2067e457b143e321c67565543209c6f6617498f723f3af6f0740"
          ],
          [
           "edb97bc8c2622ae40983aa6f9c76cf89c8cd3d465df4572cdb7720b69b9a32de"
          ],
          [
           "edc6da6c92143f2476afe4e9ab82654b6e7013341c56b6ca383d63900124678b"
          ],
          [
           "ee417c15b8e2f4e918876d7f8d1b79d05f5e3acfda117b3a4f327b85c175bbe8"
          ],
          [
           "ee494ffa2ff0d3f9394fb4411665755bc585178a1e740eca2523c3db279c949b"
          ],
          [
           "ee9e42c1223b66b3015d59fb583f6d1f17f34df5eb0b65d277efdb2896d66d40"
          ],
          [
           "eea7da8894f5ead0f77a8d684f5409246aa1d5124bfb657b8c1a0dbb81a01c5c"
          ],
          [
           "eee6c0612bc338d1023f0e92b7830430ea609a1af63888ad44f5dbb862f3033a"
          ],
          [
           "eeff31a97cbb10b7a53dc0e142f1274162325a91a9a98c5bc5f4421e5d742d48"
          ],
          [
           "ef02fa82dccef15c7ea9963bf23ff0383a428ee53c665b735f38797518d49895"
          ],
          [
           "ef273467cd7578594f036f354d533335fa578a27b100687f09cc44f8e9c82a4f"
          ],
          [
           "ef2daa780c9e79ff818f30ebc3067267abf2c56a97de0b143dcb8f6d32d5d392"
          ],
          [
           "ef4f7a520903310fe60ccadeebb752ae2876e2c4cd8379388b758c8e34854bf3"
          ],
          [
           "ef626db79a179d15e5df765adf397be4d0072fafb8888c7ca662696031a63a18"
          ],
          [
           "efa33ded1e553d8d41edbcf751fad8bb9041ed20555106f668d74bdb0bf1bb44"
          ],
          [
           "efb46d09787a8e823e2ede0ae814aed2cb15383dd7815b62ba52584354d29c84"
          ],
          [
           "efb5279c00bc795742e2411603c20d67f11b8e57f0e2dcb50415c7bce0787274"
          ],
          [
           "efc40f267593ee509d5e3e2d9419d197f92f2f283de0a9697fae0bf18f745f8e"
          ],
          [
           "efda12b83f895276447c033750458ccf148c57497d6c15dc330fe6b44b46cfc2"
          ],
          [
           "f00af716dc7a4c39d3c8f3bd5c331c6c67876b44e740ed91585d29d758fd1d6c"
          ],
          [
           "f02c2371659188ad5ba5863a09af0e57b5a31181031f36165f85094100856458"
          ],
          [
           "f084834fd58f617036cae3909950947f88f39f9b9f1be3f8a7c32399bb433f16"
          ],
          [
           "f0bd329f675db6bf62ddae346ac3c6ebd751e03fe1716be61a463e981b9bbf39"
          ],
          [
           "f0bd463f9003a81795deaeb02d6c48c57725e995c3ce4c7280976438411b3ba7"
          ],
          [
           "f0e6fe55eab7fdd7486c8156b72032747a447525caff84452024d010abc11e3f"
          ],
          [
           "f0ef4926098825a9dfa15cfe9bf08e80a77c0d6888053b3766a44ecbdae7eaa3"
          ],
          [
           "f12325b34f0e8ca0b788ec5d5dee2fe4e09f39a2481df76cf532c2b95a4be05c"
          ],
          [
           "f132db511a99ef8c18ebd05ac38458511273a7f16a5a4b05442ed013db962fcb"
          ],
          [
           "f15cedb82da6c8346dc7dd05779d7004a0fb3dc1949fcf676e9ba7438ffa593a"
          ],
          [
           "f1696242092bbf1cd811108cd5c403ea4b780b18402f6ea110d7108e7624b7a3"
          ],
          [
           "f17332c508b36648407f69d311360db9de4fb27f5f6c22239f92723710510745"
          ],
          [
           "f18dbb15cb93d9816b632c7499a8d107ef6bb8ec3d431dda7c8f898c5869719f"
          ],
          [
           "f1a57a7f26456d5f6d07ebfd2bde1d5f843b13568d0378ad013b01701c1c52cc"
          ],
          [
           "f1a61f3d1f5ca81f54692997f7fcf754843a5e3068bcbc248ecca707f3df246c"
          ],
          [
           "f1d466c137de64eb66bd82f95631a48002f217e2dc0b969a7cd795b3a2e704c0"
          ],
          [
           "f2463e005f6b50c9b89677fe3d3957ca43f68f23362cbf11211c4bdd5d854f89"
          ],
          [
           "f26301b6a925536f9971811ba27ba043d50b3606f1c25c6956e8ceba2141bafd"
          ],
          [
           "f271e1b57562790bfa954a3497c3a8fed032bd1637dc258885f119100b6735d6"
          ],
          [
           "f2743167f7255981975cad893fcd48cf22e9631d233f172cc1769a590524c0cc"
          ],
          [
           "f2c0218c43f91a6f9d3e5208a4abfff69dca9642e03d9c28cd8e4f9d1be4ce43"
          ],
          [
           "f2e5027354b3845c023c9a79c73638d0ef344d18682a65801cecf069added732"
          ],
          [
           "f2e5106ae6a06b059d22244d4a67cda50aea42f55232e47f4117d852fa390bb4"
          ],
          [
           "f311686b761d1f89f479a6d6440da448baad9d6eee724fe61c771d21241e8291"
          ],
          [
           "f391a89673c8bd5be3a076c42c338afaea014441b56f22cf9b76c030c63b3233"
          ],
          [
           "f3a7006868b3fdc7749f78910d97cd8e48adac9a32306ecdb4d91baf752d40c7"
          ],
          [
           "f3b52d069ba8ea43d8e8a7516a69479051d5dd0608984606b03501f5dddd7346"
          ],
          [
           "f3c431ecaf93c590b469f07550c8cf0231eee83f23fc181a744389a3f7c34512"
          ],
          [
           "f3f21c355304b6bb9d492671a5df2dbcd5706dd6869aa11ba56022fa031fbce5"
          ],
          [
           "f45ae56bbfcd810e56cbc25b28dde978ab6f6bc122625ab2ad789d097eb79a6e"
          ],
          [
           "f46e597783ffb59762fb74516ab33cf0a92c81fde6c215a8d9a51074a0d49acc"
          ],
          [
           "f4826dd260682a7558271aa6c6dfd6c89e7a43642bea9c05c07f4e937914277d"
          ],
          [
           "f4a9dc880c6583ab2c7d38a99c10c951459023725092346127dbe0fc35239b0f"
          ],
          [
           "f4e892dfa403c96699892441ca3ce84b1f369df6e165dabd16e894c7459e21a8"
          ],
          [
           "f4ee876371580181ea3028cedf94d51c3b207451fd4e0eed6851cc74c0e991d6"
          ],
          [
           "f4fe9d68e9a06488e63ab414c44bbb6f7c37ecb6a3320c23898ae9692a1aff21"
          ],
          [
           "f55382217b40ed11d2141f35d26e3471b18f5d82de93f4e4f1bcb55d99efcf68"
          ],
          [
           "f5b940af38e769c68f14e689e160f234abfb9c3e04339abf9df0818fdfbb954a"
          ],
          [
           "f5df11dbb47780ec883125ab1e45d22073d601fe355be5c4c7f226133dbdf5e5"
          ],
          [
           "f634e44641abb201b09c8d61f5c838451dff6242b9eccc71d6a05124243b310e"
          ],
          [
           "f64219222ee53e2209ded051a4561034256fed85db10efe77a2b67d3d8b1ab5d"
          ],
          [
           "f64a417dae18b42e677648cf4a83e401660f60c9ca49c5abda763c8869e77e14"
          ],
          [
           "f655e4eebab5eb1ce57d09a312528e992cc92f5d87f1a9cc3c9c46700b279fae"
          ],
          [
           "f6565ad924969507a7c33a03bbda8ec9978396bc338668d29c3072445e83a82f"
          ],
          [
           "f658ee72ef98e0d82df1f619e3768fa8a7ad9430d5baacf150874554d76bff72"
          ],
          [
           "f6cc5ed9bb99eb73e12a3d0f5fddecafaa69658da0bc5c15a6d1bf171da02b4e"
          ],
          [
           "f6d5e003695559691349977a0ac4a45d997846815d8e02f64cce8b2b6fc2a428"
          ],
          [
           "f6d92ee28964ab42af194e0d8b28b66ceb558ddb08c35db505c887956edcefbb"
          ],
          [
           "f6ea538e6fc7a74a5a5ac8a7cb4dd990532780c43f6c6c4f1420184579db677c"
          ],
          [
           "f6ec598dc67016f8da04fa18d8e042b3d051a274273fefc690cf3338fec16f3b"
          ],
          [
           "f722a96fb88efc86f2fb3024fb68221ea3f6fbea32e42564bfe3569d243eef32"
          ],
          [
           "f725934637b001a8c4a5a93436eee917fef1e6595eda66561291c9586a4843e4"
          ],
          [
           "f774aadb74410aa4db905fff5562dce78c53b907cb59a960cf69e5459de2538d"
          ],
          [
           "f7798f21d8605af4140f8747826cdcc86714840478f05358721d96ce7019158f"
          ],
          [
           "f7834c542fa469ca1d63db3a80b2388138cbb3ba920cd77f2f1c14385d9c52fc"
          ],
          [
           "f7bacad872da98f4cbce001ed7c7febe0d1e128a21238366d89f72749e9e2e96"
          ],
          [
           "f7bc3916466024fa10cb63940fe059c8716194dacd1b37bdf17880297f3ea9d4"
          ],
          [
           "f7e8f905c15d850512bd915195c275c917b263ab5384ce62bf6e34b5af3ecb6c"
          ],
          [
           "f7f61394e1a31687509ffbbf01a35737a4a9d707c822e031949f486b12e27385"
          ],
          [
           "f845761997d2d484bc9b5cbe7d59c6b4c238bfa086fff2ec25522abaa4aebfa3"
          ],
          [
           "f859e24106cb5b28e14c8ceb5d4277b377eb8cbba333b6d9d038a96768c453b4"
          ],
          [
           "f8942932298abd2797f3bbde535a926bddf322ad722f7daeedab97de6d978167"
          ],
          [
           "f8c0a2c13c7fef7aa78daa999077ea4872707fdb6be6546d8a651ae18a9c5803"
          ],
          [
           "f8c3c9a9669f5d59fc34263dbe9af4472580a1305e34d752a12422055bd3d168"
          ],
          [
           "f8c824d4d80e1f406c2a5c24e61a836ca67970c2139ac66fed2f9317cdc60d96"
          ],
          [
           "f8d44b2e95f62b4e32d6e43b1a951f8fd22b9f4cf58e4f52c4e85c783b8ac1ca"
          ],
          [
           "f918980afd6a93d0cef7953b60bbdbbb4d3fc9cff7cd3b22907ff73a9637aa50"
          ],
          [
           "f929557f632ceeebf1b6b0584ed63c945e6b906c884f2ce4127e16e9fe3482fb"
          ],
          [
           "f92f014a4ebc08bd5e4cc8a574b95dff8897207994b259969092b300ddaf5148"
          ],
          [
           "f94ad5b69f6c0d70181d58844a57135c5b5631bcbd3f84af1aeeda3b3da9d5c2"
          ],
          [
           "f965adb7388f5d86b80cfbfadfb3ef7169d9c0cf5b3673b8d90f5a25d6048f20"
          ],
          [
           "f9708a770664503b81d7b6fe430100b2d65ec251cc9f7695e258f3d419a485d5"
          ],
          [
           "f9957f016a806112c8a2357d9404145bb54800beb3b2395b4973bbb7818b38cd"
          ],
          [
           "f99cddaa4fb16159fb2c433be99230b5c0ee7ef1fc8543cefd985f4b470912df"
          ],
          [
           "f9b4f60b0057d0a233fd0618f1dea9ae2aee56dd03abbaf8a9576452af1669f3"
          ],
          [
           "f9cf40273934750731fa123ef09a25dd52489fdf60de4362a53246f75b7141f9"
          ],
          [
           "f9e3cde88679e9bf1ca16ea534edb5dd500e3ae5536c460bbab00348e6f918ef"
          ],
          [
           "fa108cf2fb9da5977e0516cdc7c32c240087b1529ae7c4eb5c525ed000887fd1"
          ],
          [
           "fa1405529a47d6e9a53a892da89b54aad91df53b37b236243db010f2d73554dd"
          ],
          [
           "fa5b826b03d4f91a3cc1f4af1fdbd583e19b0a11b21b73d78f77ce8529b58e86"
          ],
          [
           "fa65100cb529fa087f0d8fa3cde03fa2afafed9d1bf646b883149994ae5ccb85"
          ],
          [
           "faa76614039ca078722d28ed46afb6eab91679f58139e290cd063593e8a27ee2"
          ],
          [
           "fac7ef682eaaa8974198e2c80297dded373e4dd9cde39006629f87b9a2d71eba"
          ],
          [
           "fad5bf40c2757b45dcd008b1f154ad0dd86dd60814e167686b8e2c9da5185580"
          ],
          [
           "fb05ce1f61f4c49affbc35e9bfd649afc0deedbd1571bd61cf6eab74df338ddc"
          ],
          [
           "fb0d2c2c9d252868ab6c4db56c3337aa5d6658925f2b2830891b246116d7970b"
          ],
          [
           "fb0ff88579ab0baeb554d1a702f881af17ac9d8b7cbc6cb2a6a97b38f09a1ac7"
          ],
          [
           "fb22bc089c5af8ad48ae19cbd95f8a5d4cd014409cd5a7790b2ca1b6cc4d443f"
          ],
          [
           "fb53a3978c9ca2396d295d0aea69857ba20ccbd7d8e2f623acf3986f710b2b8a"
          ],
          [
           "fb6ee435f691447cd0ffcb0eccd853e7a0a4ba3938c7c8667008cc1ad7ff76d1"
          ],
          [
           "fb819732a7f9e3cbb8e24b9f248bf8c6108ddf2be1621039a60b9f3ff32eff1b"
          ],
          [
           "fb9f473aa6b2ac4e4cd12edbd17e7d3dda55f7237cc60851a98488f641a4698d"
          ],
          [
           "fbd9db1db95fd89a3d712d9f0a2b00af20c86c9bb618995614b4f854c8094bd2"
          ],
          [
           "fbe86b4c2e0e67f9a1c7f203d3426bad9aaeb1c19b0e6a9e0a85168d53d54a58"
          ],
          [
           "fc38d291fea5178dab7bca56b2c56eb93eb8bb11ed206ea52f3a8c05ebeb3a9d"
          ],
          [
           "fc45beaf33b8e486abc864c7fb3801a03b46ec97823591261eb41269158b22ac"
          ],
          [
           "fc4ba382457d48785b33a8fd83ebab8697916a58db355b3d6e7bec9643cad012"
          ],
          [
           "fc6c0632c1fdbef0d740f20cc24920872761f32d4d5dabfadd02899520f324c8"
          ],
          [
           "fc99b5e8bc2c169fc7baaf71ed21f43a02c215485569f0c9ec3f901a599c78a0"
          ],
          [
           "fca35fedf4508e0976f212f35b6535b82c1c60ed1d6d915016286d199445aff2"
          ],
          [
           "fcdad33c98eb1c35a8cf69b05fb288b10255f359ccf8cc2d320a263d6f87ca24"
          ],
          [
           "fcecbd7f55ed5c37bcfcd62b26f20479ed2f38259610f3d4d387ecbe6c67a1b4"
          ],
          [
           "fd15aecff14b05d83ebc02b4c63bc2a869fa1ff7267e957fd439ca676829c52e"
          ],
          [
           "fd1aff800277d0c35874d1f34e2abf2a8860d867f1da3d720e1887eb1b15b5f0"
          ],
          [
           "fd683d492f7468477c1333335976050aca2d0c60fb19cd4155fb86af0722f2e1"
          ],
          [
           "fd6cd4b00c91aec8b3d168e241d4c1493d9951adb87399e2539e324686ab4c67"
          ],
          [
           "fd7a7b49a2b6c824a9c790e6c6effcc08f8de328e6e08a8f3d4f7a7831398444"
          ],
          [
           "fd82171b855be2d11d6fd13a53afd2a101a5d4368fcc79b2f280b14c1617e048"
          ],
          [
           "fd846feca162182c48056c3c251bb47591a99f11cd29d4baf56ac1bb6213412d"
          ],
          [
           "fd87570ca4117e1915fed372cbb050191b3c60c1664fe70bca7318f02da2d0c7"
          ],
          [
           "fd92d07f9ee1341ba1e5d7a9899ed2050c445e306adada4ba1934e250696d08a"
          ],
          [
           "fdb492153c62a2048edea626f9a8dcb890eb79c04d5e2215ab414fddf2f0452c"
          ],
          [
           "fdb607ae161d321e8ef4aa67e651a538984e3b191e1a7f24174382c73596bdf6"
          ],
          [
           "fdcbad76251190e6080f95f043482ee6adc1c3deb14577a35a542ee3dcd3b859"
          ],
          [
           "fdfd978f50b2f866104e47d7e0341dbd7e6aef24b9b983bf258257fe964e0841"
          ],
          [
           "fe2c7db7e47b6553671ada6281601dd7c742f2409d90f6422c96bbde439fbade"
          ],
          [
           "fe4815e390f0aaa0980d9bde7f7abb5504b2fb81649c0bafe7e49c004e9044cc"
          ],
          [
           "fe51cf7434415ce8cf69ab11587409454bd04af50bda151cb6a3359213658266"
          ],
          [
           "fe72412295b13dce63790ab33a408686d04e3126cb85a2684ffa1c7ce03d8bc4"
          ],
          [
           "fe736e8d506e5fba5956d038c8a3440125fa8926918a18ff73810ef299c836fe"
          ],
          [
           "fea12e63b3cd1f8b158b65301834a8eff0954f5fdda4210a645e21bfb2ac90a3"
          ],
          [
           "fea33e00602fb5470626ead40eef6af4f160e8c5a944652f3add4c9500b034f8"
          ],
          [
           "fed826b68a18b292061647510e3af421f6363fa9775c0b0fabff49302f9d9e63"
          ],
          [
           "ff40d814b56fdfb00155cb8056067d677e321f33910f1eaf1a7f6c0cfb079abe"
          ],
          [
           "ff85ef17981328049edd106722c2571400595112b1713561cb41f20b1a7c06a7"
          ],
          [
           "ff8ff08c1185ddc015bbf2b9af96f89443680b62053f647cfdad04c0f7c4f090"
          ],
          [
           "ffcdd2bd8ca9abb5437e925ce9f266fe3a85be7bc3d2866b078d314b41515cbf"
          ]
         ],
         "hovertemplate": "rate=%{x}<br>number_of_patients=%{y}<br>doctor_id=%{customdata[0]}<extra></extra>",
         "legendgroup": "",
         "marker": {
          "color": "#636efa",
          "symbol": "circle"
         },
         "mode": "markers",
         "name": "",
         "showlegend": false,
         "type": "scattergl",
         "x": [
          0,
          0,
          0.3333333333333333,
          0,
          0,
          0,
          0.3333333333333333,
          0,
          0,
          1,
          0,
          0.5,
          0.2,
          0,
          0,
          0,
          1,
          0.2,
          0,
          0,
          0.1111111111111111,
          0.5,
          0.25,
          0.4,
          0,
          0.25,
          0,
          0,
          0,
          0,
          1,
          0,
          0.5,
          0,
          0,
          0.5,
          1,
          0,
          0.25,
          0,
          1,
          0.3333333333333333,
          0,
          0,
          1,
          0,
          0,
          0,
          0,
          0.25,
          0.14285714285714285,
          0,
          0,
          0.21428571428571427,
          0.14285714285714285,
          0.3076923076923077,
          0.16666666666666666,
          0,
          0,
          0,
          0.7142857142857143,
          0,
          0,
          0.21621621621621623,
          0.15789473684210525,
          0,
          0,
          0,
          0.5,
          0.2,
          0,
          0,
          0,
          0,
          1,
          0,
          0,
          0,
          0.1111111111111111,
          0,
          0,
          1,
          0,
          0,
          0,
          0.2,
          0.15,
          0.07692307692307693,
          0,
          0,
          1,
          0,
          1,
          0,
          0.3333333333333333,
          0,
          0.23076923076923078,
          0,
          0.1388888888888889,
          0,
          0,
          0.42857142857142855,
          0.1,
          0,
          0,
          0,
          0,
          0.23529411764705882,
          0,
          0,
          0,
          0,
          0.3333333333333333,
          0.07692307692307693,
          0,
          0,
          0,
          1,
          0,
          0.2857142857142857,
          0,
          1,
          0.0967741935483871,
          0,
          1,
          0,
          0,
          0.3333333333333333,
          0,
          0,
          0,
          0.25,
          1,
          0,
          0.5,
          0,
          0,
          0.26666666666666666,
          0,
          0,
          1,
          0,
          0,
          1,
          0,
          0,
          0.23529411764705882,
          0.2857142857142857,
          0,
          0,
          0,
          0,
          0.1875,
          0.3333333333333333,
          0,
          0,
          0,
          0.21428571428571427,
          0.125,
          0,
          0,
          0.3333333333333333,
          0,
          0,
          0,
          0,
          1,
          0.2,
          0.25,
          0,
          0,
          0,
          0.36363636363636365,
          0,
          0,
          0,
          1,
          0.3333333333333333,
          0,
          0.6666666666666666,
          0,
          0,
          1,
          0,
          0,
          0,
          0,
          0.15384615384615385,
          0,
          0,
          0,
          0,
          0,
          0.21052631578947367,
          0,
          0,
          0,
          0.5,
          0,
          0,
          0,
          0,
          1,
          0,
          0.5,
          1,
          0,
          0.5,
          0,
          0,
          0,
          0.6666666666666666,
          0.2,
          0,
          0.25,
          0,
          0,
          0,
          0.3,
          0,
          0,
          0,
          0.5,
          0.19230769230769232,
          0,
          0.5,
          0,
          0,
          0.2,
          0,
          0,
          0,
          0,
          0.6666666666666666,
          0,
          0.2,
          1,
          0,
          0,
          0,
          0.25,
          0,
          0,
          0.2,
          0.15492957746478872,
          0.42857142857142855,
          0,
          0,
          0,
          0,
          0,
          0.1,
          1,
          0,
          0,
          0,
          0,
          0.3333333333333333,
          0,
          0,
          0.2857142857142857,
          1,
          0,
          1,
          0,
          0.2727272727272727,
          1,
          0.09090909090909091,
          1,
          0.2,
          0,
          0,
          0.125,
          1,
          0,
          0,
          1,
          0,
          0,
          0.24,
          0,
          0.3333333333333333,
          0,
          0,
          0,
          0.2631578947368421,
          0,
          0,
          0,
          1,
          0,
          0.5,
          1,
          0.5,
          0,
          0,
          0,
          0.17647058823529413,
          0,
          0,
          0,
          0,
          0,
          0.025,
          0,
          0,
          1,
          0,
          0,
          0,
          0.3076923076923077,
          0,
          0,
          0,
          0,
          0.15384615384615385,
          0,
          0,
          0,
          0,
          0.25,
          0,
          0.6666666666666666,
          0,
          0.25,
          0.1,
          0.2,
          0,
          0,
          0,
          0,
          0,
          0,
          0,
          0,
          1,
          0.16666666666666666,
          0,
          0.07142857142857142,
          0,
          0.3333333333333333,
          0.2,
          0,
          0,
          0,
          0,
          0.5,
          0,
          0,
          0.2,
          0,
          0.5,
          1,
          0.3333333333333333,
          0,
          0.15384615384615385,
          1,
          0,
          0,
          0.4,
          0,
          1,
          0,
          0.16666666666666666,
          0,
          0.3333333333333333,
          0,
          0,
          0,
          0.2,
          0,
          0,
          0,
          0.08333333333333333,
          0,
          0,
          0,
          0,
          0,
          0,
          0,
          0,
          0.25,
          0.5,
          0,
          0,
          0.2222222222222222,
          0,
          0,
          0.2727272727272727,
          0.5,
          0,
          0,
          0,
          0.5,
          0.8,
          0,
          0,
          0,
          0.5,
          0,
          0.3333333333333333,
          0.125,
          0,
          0,
          0.3333333333333333,
          0,
          0,
          1,
          0,
          0.25,
          0,
          0.5,
          0.23076923076923078,
          0.375,
          0,
          0.11764705882352941,
          0.2,
          0,
          1,
          0.2222222222222222,
          0,
          0.5714285714285714,
          0,
          0,
          0,
          0,
          0,
          0,
          0.125,
          0,
          0,
          0.3333333333333333,
          0.16666666666666666,
          1,
          0,
          0,
          0.4,
          0.17647058823529413,
          0.14285714285714285,
          0,
          0,
          0.17647058823529413,
          0,
          0,
          0.3333333333333333,
          0.3148148148148148,
          0,
          0,
          0.25,
          1,
          0.16666666666666666,
          1,
          0.125,
          0.5,
          1,
          0.375,
          0.3333333333333333,
          0,
          0.16666666666666666,
          0,
          0,
          0,
          0.5,
          1,
          0,
          0.125,
          0,
          0.5,
          0.25,
          0.5,
          0,
          0,
          0,
          0.6666666666666666,
          0,
          0.5,
          0.16666666666666666,
          0.35294117647058826,
          0,
          0.6666666666666666,
          0,
          0,
          0,
          0,
          0,
          0,
          0,
          0,
          0,
          0,
          0,
          0,
          0.3,
          0,
          0,
          0,
          0,
          0.4,
          0,
          0,
          0.25,
          0,
          0,
          0.6666666666666666,
          0,
          0,
          0,
          0,
          0,
          0,
          0,
          0.16666666666666666,
          0,
          0,
          0,
          1,
          0,
          1,
          0,
          0,
          0.2,
          0,
          1,
          0,
          0.25,
          0.14285714285714285,
          0,
          0,
          0,
          0,
          0,
          0,
          0.16666666666666666,
          1,
          0,
          0.6666666666666666,
          0.25,
          0,
          0,
          0,
          0,
          0,
          0.1282051282051282,
          0,
          0,
          0.5,
          0,
          0,
          1,
          0.75,
          0.10714285714285714,
          0,
          0.2222222222222222,
          0,
          0,
          0.5,
          0,
          0,
          0,
          0.4444444444444444,
          0.14285714285714285,
          0,
          1,
          0.125,
          0,
          1,
          0,
          0.1111111111111111,
          0,
          0,
          0,
          1,
          0.14285714285714285,
          0,
          0.2857142857142857,
          0,
          0,
          0.3333333333333333,
          0,
          0,
          0,
          0,
          0.2,
          0.24242424242424243,
          0,
          0,
          1,
          0.3333333333333333,
          0,
          0.125,
          1,
          0.4,
          0,
          0,
          0,
          0.2,
          0.5,
          0.42857142857142855,
          0.5,
          0,
          0,
          1,
          1,
          0,
          0,
          0,
          0,
          0,
          0,
          0,
          0.23809523809523808,
          0,
          0.21052631578947367,
          0.42105263157894735,
          1,
          0,
          0,
          1,
          0.375,
          0,
          1,
          0,
          0.1111111111111111,
          0,
          1,
          0,
          0.30434782608695654,
          0,
          0,
          0,
          0,
          0,
          0,
          0,
          0,
          0.3333333333333333,
          0.2,
          0.15384615384615385,
          0,
          0.07692307692307693,
          0,
          0,
          1,
          0,
          0.3333333333333333,
          0,
          0.5,
          0.36363636363636365,
          0.3333333333333333,
          0,
          1,
          0.125,
          1,
          0,
          0.3333333333333333,
          0,
          0,
          0,
          0,
          0,
          1,
          0.2,
          0.25,
          0,
          1,
          1,
          0,
          1,
          0.3333333333333333,
          0,
          0.3,
          0,
          0,
          0,
          1,
          1,
          0,
          0.3333333333333333,
          0.0625,
          0,
          0,
          0,
          0,
          0,
          0,
          0.16666666666666666,
          0.16666666666666666,
          0,
          0.15789473684210525,
          0,
          0,
          0,
          0,
          0,
          0,
          0,
          0,
          0,
          0,
          0,
          0,
          0.17647058823529413,
          0,
          0,
          0.16666666666666666,
          0,
          0.3888888888888889,
          0,
          0,
          0.07142857142857142,
          0.16666666666666666,
          0,
          0.6,
          0.3333333333333333,
          0,
          0.08571428571428572,
          0,
          0.16666666666666666,
          0,
          0,
          0.16666666666666666,
          0,
          0,
          0,
          0,
          0.2222222222222222,
          0,
          0.42857142857142855,
          0,
          0.375,
          0,
          0.30434782608695654,
          1,
          0.14285714285714285,
          0,
          0,
          0,
          0,
          0,
          0,
          1,
          0,
          0,
          1,
          0.125,
          0,
          1,
          0,
          0.2857142857142857,
          0,
          0,
          0,
          0.5,
          0,
          0.5,
          0,
          0.18181818181818182,
          0,
          0,
          0,
          0.3333333333333333,
          0.3076923076923077,
          0.125,
          0.25,
          1,
          0,
          0,
          0.5,
          0,
          0.2,
          0.5,
          1,
          0.15384615384615385,
          0,
          0,
          0,
          0.2,
          0.2222222222222222,
          0,
          0.42857142857142855,
          0,
          0.25,
          0.125,
          0,
          0.125,
          1,
          0,
          0,
          0.14285714285714285,
          0,
          0.05,
          0.3333333333333333,
          0,
          0,
          0,
          0.125,
          0,
          0.16666666666666666,
          0,
          0,
          0.25,
          0,
          0,
          1,
          0,
          0,
          0,
          0,
          0,
          0,
          0.25,
          0,
          0.5,
          1,
          0,
          0,
          1,
          0,
          0,
          0,
          0,
          0,
          0,
          0,
          0.16666666666666666,
          0,
          0,
          0,
          1,
          0,
          1,
          0,
          0,
          0,
          0.42857142857142855,
          0,
          0,
          0,
          0,
          0.5,
          0,
          0,
          1,
          1,
          0,
          0.15384615384615385,
          0.25,
          1,
          0,
          0,
          1,
          0,
          0.25,
          0,
          0,
          0,
          0.5,
          0,
          0,
          0.16666666666666666,
          0.125,
          1,
          0,
          0,
          0,
          0,
          0.2,
          0,
          0,
          0.4,
          0.6666666666666666,
          0,
          0,
          0,
          1,
          0,
          0,
          0,
          0,
          0.5,
          0,
          0.125,
          0.25,
          0,
          0.3333333333333333,
          0.3333333333333333,
          0,
          0,
          0.5,
          0.3333333333333333,
          0,
          0.2,
          0,
          0,
          0,
          0,
          0.375,
          0,
          0,
          0,
          1,
          0.125,
          0,
          0.1111111111111111,
          0,
          0,
          1,
          0.3,
          0,
          0,
          1,
          0,
          0,
          0,
          0,
          0.3888888888888889,
          0,
          0.6666666666666666,
          0,
          0.1111111111111111,
          0,
          0,
          0,
          0,
          0,
          0,
          0,
          0,
          0.25,
          0,
          0,
          0,
          0,
          0,
          0,
          0,
          0,
          0,
          0.6,
          0,
          0.25,
          0.125,
          0,
          0.20588235294117646,
          0,
          0,
          0.25,
          0,
          0,
          0,
          0,
          0,
          0.3333333333333333,
          0,
          0,
          0.23529411764705882,
          0,
          0,
          1,
          0.15,
          0,
          0.18181818181818182,
          1,
          0,
          0,
          1,
          0,
          1,
          1,
          0.4,
          0,
          0,
          0.2727272727272727,
          0.5,
          0.05555555555555555,
          0.5,
          0,
          0.5,
          0.25,
          0,
          0,
          0,
          0.4,
          0.2727272727272727,
          0,
          0.3333333333333333,
          0.5,
          0,
          0,
          0,
          0,
          0,
          0.16666666666666666,
          0,
          0.11764705882352941,
          0,
          1,
          0,
          1,
          0,
          0,
          0,
          1,
          0.2571428571428571,
          0,
          0.25,
          0,
          0,
          1,
          0,
          0,
          0.09090909090909091,
          0.06060606060606061,
          0,
          0,
          0,
          0.16666666666666666,
          1,
          0,
          1,
          1,
          0,
          0,
          0,
          1,
          0.3333333333333333,
          0,
          0.08571428571428572,
          0,
          0.16666666666666666,
          0,
          0.4,
          0,
          0.5,
          0.25,
          0.5,
          1,
          0,
          0.26666666666666666,
          0.14285714285714285,
          1,
          0,
          0.17647058823529413,
          0,
          0,
          1,
          0.4,
          0.2222222222222222,
          0,
          0,
          0,
          0.06666666666666667,
          0,
          1,
          0.75,
          1,
          0,
          0,
          0.25,
          0,
          1,
          0.125,
          0,
          0,
          0,
          0,
          0,
          0,
          0,
          0.2,
          0,
          0,
          0,
          0,
          0,
          0,
          0,
          0,
          1,
          0.23076923076923078,
          0.0625,
          0,
          0.6666666666666666,
          0.3333333333333333,
          0,
          0,
          0,
          0,
          0,
          0,
          0.5,
          0,
          0,
          0,
          0,
          0,
          0,
          0.5,
          0,
          0,
          0.2857142857142857,
          0.5,
          1,
          0.5,
          0,
          0,
          1,
          0,
          0.3333333333333333,
          0,
          0,
          0,
          0.2,
          1,
          0,
          0,
          0.2857142857142857,
          1,
          0,
          0,
          0,
          0,
          0.05,
          0,
          0,
          0,
          1,
          0.25,
          0,
          0,
          1,
          0,
          0,
          0,
          0,
          0.16666666666666666,
          0,
          0.5,
          0,
          0.18518518518518517,
          0.2222222222222222,
          0,
          0,
          0.5,
          0,
          0,
          0.38095238095238093,
          0,
          0,
          0,
          0.5,
          0,
          0.15789473684210525,
          0,
          0,
          0.5,
          1,
          0.11538461538461539,
          0,
          0,
          1,
          0,
          0.5,
          0.09090909090909091,
          0.6666666666666666,
          0,
          1,
          0,
          0.42857142857142855,
          0.5,
          0,
          0.3333333333333333,
          0.5714285714285714,
          0.05263157894736842,
          0,
          0.29411764705882354,
          0,
          0,
          0,
          0,
          0,
          0,
          0,
          1,
          0,
          0,
          0.2,
          0,
          0,
          0.2,
          0.25,
          0,
          0.1875,
          0.5,
          0,
          0,
          0,
          1,
          0,
          0,
          0.125,
          0,
          0.5,
          0,
          0,
          0,
          0,
          0.16666666666666666,
          1,
          0.2857142857142857,
          0,
          1,
          0,
          0,
          0.3333333333333333,
          0,
          0,
          0,
          0,
          0.5,
          0.2222222222222222,
          0.18181818181818182,
          0.3333333333333333,
          1,
          0,
          0,
          0,
          0,
          0,
          0.16666666666666666,
          0,
          0,
          0,
          0,
          1,
          0.25,
          0,
          0.2857142857142857,
          0,
          0,
          0,
          0,
          0.2857142857142857,
          0,
          0,
          0,
          0.125,
          0,
          0,
          0.3333333333333333,
          0.5,
          0,
          0,
          0,
          0.15555555555555556,
          0.375,
          0.25,
          0,
          0,
          0.047619047619047616,
          0.2,
          0.2857142857142857,
          0,
          0,
          0,
          1,
          0,
          0,
          0.125,
          0.75,
          0,
          0.5,
          0.5,
          0,
          0.25,
          1,
          0.13333333333333333,
          1,
          0,
          0,
          0,
          0.22727272727272727,
          0,
          0.25,
          0,
          0,
          1,
          0.26666666666666666,
          0,
          0.3,
          0.14285714285714285,
          0,
          0.3333333333333333,
          0,
          0,
          0,
          0,
          0,
          1,
          0,
          0.07692307692307693,
          0,
          0,
          1,
          0,
          0.21428571428571427,
          0.2727272727272727,
          1,
          0.25,
          0,
          0.3333333333333333,
          1,
          0,
          0,
          0,
          0.21739130434782608,
          0,
          0,
          0,
          0.5,
          1,
          0.6666666666666666,
          0.3333333333333333,
          0,
          0.36363636363636365,
          0,
          0,
          0.42857142857142855,
          1,
          0,
          0,
          0,
          0.058823529411764705,
          0,
          0,
          0.5,
          0.1111111111111111,
          0,
          1,
          0.2222222222222222,
          0,
          0.25,
          0.08333333333333333,
          0.6666666666666666,
          0.2857142857142857,
          1,
          0,
          0,
          0,
          0,
          0.16666666666666666,
          1,
          0.38461538461538464,
          1,
          0,
          0.5,
          0.23529411764705882,
          0.125,
          1,
          0,
          0,
          0.15,
          0,
          0,
          0,
          0,
          1,
          0,
          0,
          0.3333333333333333,
          0,
          0.25,
          0,
          0,
          0,
          0,
          0,
          0.3333333333333333,
          0.3333333333333333,
          0,
          0,
          0.07692307692307693,
          0,
          0,
          0,
          0,
          1,
          0,
          0,
          0,
          0.6666666666666666,
          1,
          0.07142857142857142,
          0,
          0,
          0,
          0,
          0,
          0,
          0.3333333333333333,
          0,
          0.25,
          0.5,
          0,
          0.2,
          0.041666666666666664,
          1,
          0,
          0,
          0,
          0,
          0,
          0.2,
          0.2,
          0,
          0,
          1,
          0,
          0.3,
          0,
          0,
          0,
          0,
          0.15384615384615385,
          0,
          0,
          0,
          0,
          0.05555555555555555,
          0.13043478260869565,
          0,
          1,
          0,
          1,
          0.16666666666666666,
          0,
          0,
          0.5,
          0,
          0,
          0.2,
          0.21428571428571427,
          0,
          0.11363636363636363,
          0,
          0,
          1,
          0.3333333333333333,
          0.5,
          1,
          0.25,
          0,
          0,
          0,
          0,
          0.5,
          0,
          0.05,
          0,
          0,
          0,
          0,
          0,
          0.2,
          0,
          0,
          0.42857142857142855,
          0.3333333333333333,
          1,
          0,
          0,
          0,
          0.42105263157894735,
          0,
          0,
          0,
          0.2857142857142857,
          0,
          0.5,
          0.5,
          0,
          0,
          0,
          0.3333333333333333,
          1,
          0,
          0,
          0,
          0,
          0.2,
          0,
          0.125,
          1,
          1,
          0,
          0.1111111111111111,
          0,
          0,
          0,
          0.2,
          1,
          0.6666666666666666,
          0,
          0,
          0,
          0,
          0,
          0.5,
          0,
          0.14285714285714285,
          1,
          0,
          0.36363636363636365,
          0.08695652173913043,
          0.2,
          1,
          0,
          0.13636363636363635,
          0,
          0,
          0,
          0,
          0.5,
          0.07142857142857142,
          0,
          1,
          0.2222222222222222,
          0,
          0.6666666666666666,
          0,
          0.14285714285714285,
          0,
          0.1276595744680851,
          0,
          0,
          0,
          0,
          0,
          0,
          0.07142857142857142,
          0,
          0.5,
          1,
          0.2222222222222222,
          0,
          0,
          0,
          0.6666666666666666,
          1,
          0,
          0.5,
          0,
          0,
          0.3333333333333333,
          0,
          1,
          0.07142857142857142,
          0,
          1,
          0,
          0,
          1,
          0.16666666666666666,
          1,
          0,
          0.25,
          0,
          0,
          0,
          0,
          0.25,
          0.75,
          0,
          0,
          0.18181818181818182,
          0,
          0.2,
          0.75,
          0.1,
          0.14285714285714285,
          0.6,
          0,
          0.6666666666666666,
          0.5,
          0,
          0,
          1,
          0.14285714285714285,
          0.375,
          0,
          0,
          0,
          0.2,
          0,
          0,
          0,
          0,
          0,
          0,
          1,
          0.2631578947368421,
          0.06666666666666667,
          0,
          0,
          0.75,
          0.3,
          0,
          0,
          0,
          1,
          0.12121212121212122,
          1,
          0,
          0,
          0,
          0,
          0,
          0.125,
          1,
          0,
          0,
          0,
          0,
          0,
          1,
          0.09090909090909091,
          0,
          0,
          0,
          1,
          0,
          0,
          0,
          0,
          0.3333333333333333,
          0.2,
          0,
          0,
          0,
          1,
          0,
          0,
          0,
          0,
          0.5,
          0,
          0,
          0,
          0.2,
          1,
          0,
          1,
          0.3333333333333333,
          0.3333333333333333,
          0,
          0.05263157894736842,
          0.14285714285714285,
          0.16666666666666666,
          0,
          0,
          0.15,
          0.2,
          0.058823529411764705,
          0.3333333333333333,
          0,
          0,
          0,
          0,
          0,
          0,
          0,
          0,
          0,
          0,
          0,
          0,
          0,
          0,
          0,
          0.3333333333333333,
          0.125,
          0,
          0,
          0,
          0,
          0,
          0,
          0.3,
          1,
          0,
          0,
          0,
          0,
          0,
          0,
          0.21739130434782608,
          0.42857142857142855,
          0,
          0,
          0.4,
          1,
          0.5,
          0.2,
          0,
          0,
          0,
          0.5714285714285714,
          0,
          0,
          0.10526315789473684,
          0,
          0.5,
          0.15384615384615385,
          0.5,
          0,
          0,
          0,
          0,
          0,
          0,
          0.6666666666666666,
          0,
          0,
          0,
          0.5,
          0.6,
          0,
          0,
          1,
          0,
          0,
          0,
          0,
          0,
          0,
          0.08333333333333333,
          0,
          1,
          0.14285714285714285,
          0.2,
          0,
          1,
          0,
          0,
          0.125,
          0,
          1,
          0,
          0,
          0,
          1,
          0.125,
          0.2857142857142857,
          1,
          0.5,
          0.5,
          0,
          0,
          0,
          0,
          0,
          0.38461538461538464,
          0.4,
          1,
          0.5714285714285714,
          0,
          0,
          0.2,
          0.09090909090909091,
          0,
          1,
          0.3333333333333333,
          0,
          0.3333333333333333,
          0,
          1,
          0,
          0,
          0,
          0,
          0,
          0.23076923076923078,
          0,
          1,
          0,
          0,
          0,
          0,
          0,
          0,
          1,
          0,
          0.25,
          0.5,
          0.75,
          0.6666666666666666,
          0,
          0,
          0,
          1,
          0.4,
          0,
          0,
          0,
          0,
          0,
          0.2857142857142857,
          0.25,
          0,
          0.07142857142857142,
          0.3333333333333333,
          0,
          0,
          0.6666666666666666,
          0.1,
          0,
          0,
          0,
          1,
          0.125,
          0.5,
          0,
          0,
          1,
          1,
          0,
          0.14285714285714285,
          0,
          0.26666666666666666,
          0,
          0,
          0,
          0,
          0,
          0,
          0,
          0,
          0,
          0,
          0,
          0,
          0,
          0.09090909090909091,
          0.125,
          0,
          0,
          0.5,
          0,
          0.28125,
          0.25,
          0,
          0,
          0,
          0,
          0,
          0,
          1,
          0.16666666666666666,
          0,
          0.8,
          0,
          0,
          0.1111111111111111,
          0,
          0.2222222222222222,
          0,
          0,
          0.4,
          0,
          0,
          0,
          0,
          0,
          0,
          0.14285714285714285,
          0,
          0.5,
          0,
          0,
          0,
          0,
          0,
          0.42857142857142855,
          0,
          0,
          0,
          0,
          0,
          0,
          0,
          0.25,
          0.2,
          0.5,
          1,
          0,
          0.3684210526315789,
          0
         ],
         "xaxis": "x",
         "y": [
          1,
          1,
          6,
          1,
          1,
          1,
          9,
          1,
          1,
          3,
          1,
          2,
          15,
          2,
          1,
          1,
          1,
          15,
          4,
          1,
          9,
          2,
          8,
          5,
          1,
          4,
          1,
          1,
          1,
          3,
          1,
          2,
          2,
          6,
          3,
          2,
          1,
          1,
          4,
          1,
          1,
          3,
          1,
          1,
          1,
          2,
          1,
          1,
          1,
          24,
          7,
          1,
          1,
          14,
          7,
          13,
          6,
          7,
          1,
          1,
          7,
          5,
          1,
          37,
          19,
          1,
          1,
          6,
          2,
          5,
          5,
          1,
          2,
          1,
          1,
          6,
          1,
          12,
          9,
          1,
          1,
          1,
          1,
          2,
          3,
          5,
          20,
          13,
          4,
          1,
          1,
          1,
          1,
          2,
          3,
          1,
          13,
          1,
          36,
          1,
          2,
          7,
          30,
          3,
          1,
          1,
          2,
          17,
          1,
          1,
          1,
          1,
          3,
          13,
          4,
          1,
          6,
          1,
          1,
          7,
          1,
          1,
          31,
          1,
          1,
          1,
          1,
          3,
          1,
          1,
          1,
          20,
          1,
          1,
          2,
          1,
          2,
          15,
          5,
          4,
          1,
          18,
          1,
          1,
          1,
          4,
          17,
          21,
          3,
          1,
          2,
          1,
          16,
          3,
          4,
          1,
          1,
          14,
          8,
          1,
          3,
          3,
          1,
          1,
          1,
          1,
          1,
          5,
          8,
          2,
          3,
          1,
          11,
          2,
          2,
          1,
          2,
          3,
          2,
          6,
          2,
          1,
          1,
          3,
          3,
          2,
          1,
          13,
          1,
          3,
          8,
          1,
          1,
          19,
          1,
          2,
          1,
          4,
          1,
          1,
          2,
          2,
          1,
          1,
          4,
          1,
          2,
          2,
          2,
          1,
          1,
          3,
          5,
          1,
          8,
          1,
          1,
          1,
          10,
          1,
          1,
          1,
          2,
          26,
          13,
          2,
          2,
          5,
          5,
          1,
          1,
          2,
          1,
          3,
          5,
          5,
          1,
          4,
          4,
          1,
          4,
          2,
          1,
          5,
          71,
          7,
          2,
          1,
          1,
          1,
          1,
          10,
          1,
          1,
          1,
          1,
          1,
          12,
          1,
          1,
          14,
          1,
          1,
          1,
          3,
          11,
          1,
          11,
          1,
          5,
          1,
          5,
          8,
          1,
          1,
          1,
          1,
          1,
          1,
          25,
          3,
          6,
          1,
          1,
          1,
          19,
          3,
          1,
          6,
          1,
          1,
          2,
          1,
          2,
          5,
          2,
          3,
          17,
          1,
          1,
          1,
          1,
          3,
          40,
          2,
          2,
          1,
          10,
          3,
          1,
          13,
          2,
          1,
          1,
          1,
          39,
          1,
          1,
          1,
          1,
          4,
          6,
          3,
          1,
          4,
          10,
          5,
          6,
          1,
          1,
          1,
          1,
          1,
          1,
          1,
          1,
          18,
          1,
          28,
          2,
          6,
          10,
          3,
          1,
          4,
          1,
          2,
          3,
          3,
          5,
          1,
          2,
          1,
          3,
          2,
          26,
          1,
          1,
          2,
          5,
          1,
          1,
          1,
          12,
          6,
          3,
          3,
          2,
          1,
          30,
          1,
          4,
          3,
          12,
          2,
          1,
          1,
          1,
          6,
          1,
          1,
          1,
          4,
          2,
          1,
          4,
          9,
          1,
          4,
          11,
          4,
          1,
          1,
          1,
          2,
          5,
          1,
          1,
          4,
          4,
          4,
          3,
          16,
          4,
          4,
          6,
          8,
          1,
          2,
          5,
          8,
          1,
          2,
          39,
          8,
          1,
          17,
          10,
          4,
          1,
          9,
          1,
          7,
          4,
          1,
          3,
          1,
          1,
          1,
          8,
          14,
          1,
          9,
          12,
          1,
          2,
          4,
          5,
          17,
          7,
          1,
          1,
          17,
          4,
          1,
          6,
          54,
          1,
          1,
          4,
          1,
          6,
          1,
          8,
          2,
          1,
          8,
          12,
          1,
          6,
          1,
          3,
          1,
          2,
          3,
          1,
          8,
          2,
          2,
          8,
          2,
          16,
          1,
          7,
          3,
          1,
          8,
          12,
          17,
          1,
          3,
          1,
          2,
          1,
          2,
          1,
          8,
          1,
          1,
          1,
          1,
          1,
          1,
          10,
          4,
          1,
          1,
          1,
          5,
          4,
          1,
          4,
          2,
          1,
          3,
          1,
          1,
          3,
          1,
          3,
          1,
          3,
          6,
          2,
          1,
          4,
          1,
          4,
          2,
          1,
          1,
          5,
          2,
          1,
          1,
          4,
          7,
          1,
          2,
          1,
          9,
          1,
          1,
          6,
          1,
          1,
          3,
          32,
          2,
          1,
          1,
          1,
          1,
          39,
          1,
          1,
          2,
          2,
          1,
          1,
          4,
          28,
          1,
          18,
          1,
          1,
          2,
          1,
          5,
          1,
          9,
          7,
          3,
          1,
          8,
          5,
          1,
          1,
          9,
          1,
          1,
          6,
          2,
          7,
          1,
          14,
          1,
          1,
          3,
          1,
          2,
          6,
          1,
          5,
          33,
          3,
          1,
          1,
          3,
          1,
          16,
          1,
          5,
          1,
          1,
          14,
          15,
          4,
          7,
          4,
          4,
          2,
          1,
          1,
          1,
          1,
          1,
          1,
          1,
          1,
          1,
          21,
          7,
          19,
          19,
          1,
          1,
          1,
          2,
          8,
          1,
          1,
          1,
          9,
          1,
          1,
          1,
          23,
          1,
          1,
          7,
          2,
          1,
          1,
          4,
          1,
          3,
          15,
          13,
          1,
          13,
          10,
          7,
          1,
          2,
          3,
          2,
          2,
          11,
          3,
          1,
          3,
          16,
          1,
          1,
          3,
          12,
          2,
          7,
          5,
          2,
          1,
          5,
          4,
          3,
          3,
          1,
          3,
          1,
          3,
          1,
          10,
          11,
          4,
          1,
          1,
          1,
          1,
          3,
          16,
          1,
          7,
          1,
          3,
          3,
          1,
          6,
          12,
          1,
          19,
          1,
          1,
          5,
          1,
          1,
          1,
          11,
          1,
          1,
          1,
          1,
          1,
          34,
          1,
          1,
          6,
          8,
          18,
          1,
          3,
          14,
          6,
          3,
          5,
          6,
          2,
          35,
          6,
          18,
          1,
          1,
          18,
          1,
          5,
          1,
          2,
          9,
          1,
          7,
          1,
          8,
          3,
          23,
          3,
          7,
          3,
          2,
          1,
          1,
          1,
          2,
          1,
          1,
          1,
          1,
          8,
          1,
          1,
          1,
          7,
          10,
          4,
          1,
          2,
          3,
          6,
          1,
          11,
          4,
          2,
          2,
          6,
          26,
          8,
          4,
          1,
          1,
          1,
          2,
          2,
          5,
          2,
          1,
          26,
          1,
          1,
          1,
          5,
          18,
          4,
          7,
          2,
          4,
          8,
          2,
          8,
          1,
          1,
          1,
          14,
          1,
          20,
          3,
          1,
          1,
          1,
          8,
          5,
          6,
          3,
          1,
          8,
          1,
          2,
          1,
          1,
          1,
          2,
          2,
          2,
          2,
          4,
          1,
          2,
          1,
          6,
          1,
          1,
          1,
          1,
          1,
          5,
          1,
          1,
          1,
          24,
          3,
          1,
          2,
          3,
          1,
          2,
          1,
          1,
          2,
          14,
          1,
          1,
          3,
          6,
          2,
          1,
          1,
          1,
          1,
          2,
          13,
          4,
          1,
          4,
          3,
          2,
          3,
          4,
          2,
          2,
          4,
          4,
          1,
          1,
          18,
          8,
          1,
          1,
          3,
          1,
          1,
          5,
          11,
          3,
          5,
          3,
          2,
          1,
          1,
          2,
          1,
          7,
          6,
          8,
          4,
          3,
          8,
          4,
          3,
          3,
          3,
          1,
          4,
          2,
          6,
          2,
          5,
          1,
          1,
          1,
          3,
          24,
          2,
          3,
          1,
          2,
          8,
          1,
          9,
          4,
          3,
          1,
          10,
          1,
          1,
          1,
          13,
          6,
          1,
          1,
          18,
          3,
          3,
          1,
          9,
          4,
          2,
          1,
          1,
          1,
          5,
          1,
          1,
          4,
          2,
          1,
          11,
          1,
          1,
          1,
          1,
          5,
          3,
          5,
          13,
          4,
          8,
          1,
          34,
          1,
          1,
          4,
          1,
          6,
          1,
          1,
          1,
          6,
          3,
          1,
          17,
          1,
          1,
          1,
          20,
          1,
          22,
          2,
          1,
          1,
          1,
          1,
          2,
          1,
          10,
          1,
          5,
          11,
          2,
          18,
          4,
          1,
          4,
          4,
          1,
          6,
          1,
          5,
          11,
          1,
          3,
          2,
          1,
          1,
          4,
          1,
          1,
          6,
          1,
          17,
          1,
          1,
          2,
          1,
          1,
          2,
          10,
          1,
          35,
          7,
          4,
          2,
          2,
          1,
          1,
          1,
          11,
          33,
          5,
          3,
          1,
          12,
          2,
          1,
          1,
          1,
          1,
          1,
          1,
          2,
          3,
          1,
          35,
          1,
          6,
          1,
          5,
          11,
          4,
          8,
          2,
          1,
          1,
          15,
          14,
          1,
          1,
          34,
          2,
          3,
          1,
          5,
          9,
          6,
          1,
          1,
          15,
          1,
          1,
          4,
          1,
          2,
          4,
          8,
          1,
          1,
          32,
          4,
          2,
          10,
          10,
          4,
          1,
          1,
          5,
          2,
          1,
          3,
          1,
          1,
          1,
          1,
          4,
          1,
          13,
          16,
          1,
          3,
          3,
          1,
          1,
          6,
          2,
          1,
          1,
          4,
          2,
          3,
          9,
          1,
          4,
          1,
          2,
          1,
          1,
          14,
          2,
          1,
          4,
          1,
          1,
          1,
          1,
          6,
          1,
          1,
          5,
          10,
          1,
          1,
          1,
          7,
          1,
          1,
          1,
          1,
          1,
          20,
          1,
          1,
          5,
          2,
          8,
          1,
          4,
          1,
          1,
          1,
          5,
          1,
          6,
          2,
          2,
          1,
          27,
          9,
          1,
          3,
          2,
          15,
          3,
          21,
          2,
          5,
          2,
          2,
          1,
          19,
          2,
          1,
          2,
          1,
          26,
          3,
          2,
          1,
          1,
          2,
          11,
          3,
          2,
          1,
          2,
          7,
          2,
          2,
          3,
          7,
          19,
          1,
          17,
          1,
          1,
          2,
          6,
          2,
          1,
          1,
          2,
          1,
          1,
          15,
          1,
          3,
          10,
          8,
          1,
          16,
          2,
          1,
          1,
          1,
          1,
          1,
          1,
          8,
          3,
          2,
          4,
          3,
          1,
          1,
          6,
          1,
          7,
          1,
          1,
          1,
          1,
          3,
          1,
          1,
          1,
          2,
          2,
          9,
          11,
          3,
          1,
          1,
          1,
          2,
          1,
          4,
          6,
          1,
          4,
          1,
          1,
          3,
          12,
          1,
          7,
          2,
          2,
          1,
          1,
          7,
          1,
          2,
          2,
          8,
          4,
          2,
          3,
          10,
          9,
          9,
          1,
          45,
          8,
          4,
          1,
          2,
          21,
          5,
          7,
          1,
          1,
          1,
          1,
          3,
          1,
          16,
          4,
          2,
          4,
          2,
          1,
          16,
          1,
          15,
          1,
          1,
          4,
          1,
          22,
          10,
          8,
          1,
          1,
          1,
          15,
          2,
          10,
          7,
          1,
          6,
          1,
          1,
          1,
          1,
          1,
          2,
          4,
          13,
          1,
          1,
          2,
          1,
          14,
          11,
          2,
          4,
          2,
          3,
          1,
          1,
          2,
          3,
          23,
          1,
          1,
          4,
          2,
          1,
          3,
          9,
          1,
          11,
          1,
          1,
          7,
          1,
          2,
          1,
          1,
          17,
          1,
          5,
          2,
          9,
          1,
          1,
          9,
          5,
          8,
          12,
          3,
          7,
          3,
          2,
          7,
          1,
          1,
          6,
          1,
          13,
          1,
          1,
          2,
          17,
          16,
          1,
          2,
          1,
          20,
          1,
          1,
          1,
          1,
          1,
          2,
          1,
          3,
          2,
          4,
          3,
          1,
          2,
          1,
          1,
          9,
          3,
          1,
          1,
          13,
          3,
          1,
          1,
          1,
          1,
          1,
          3,
          3,
          3,
          1,
          14,
          3,
          1,
          4,
          1,
          2,
          1,
          3,
          1,
          4,
          2,
          2,
          20,
          24,
          1,
          1,
          1,
          3,
          1,
          10,
          5,
          5,
          1,
          1,
          1,
          3,
          10,
          1,
          1,
          1,
          3,
          13,
          1,
          1,
          3,
          6,
          18,
          23,
          2,
          1,
          1,
          1,
          6,
          1,
          2,
          2,
          1,
          1,
          5,
          14,
          1,
          44,
          2,
          1,
          1,
          3,
          2,
          1,
          8,
          2,
          2,
          2,
          11,
          2,
          4,
          20,
          2,
          1,
          3,
          1,
          3,
          5,
          2,
          1,
          7,
          9,
          2,
          1,
          1,
          1,
          19,
          3,
          1,
          1,
          7,
          8,
          2,
          2,
          2,
          1,
          1,
          3,
          1,
          1,
          1,
          12,
          1,
          5,
          1,
          40,
          1,
          1,
          3,
          9,
          1,
          2,
          1,
          5,
          1,
          9,
          1,
          2,
          1,
          9,
          2,
          2,
          6,
          7,
          1,
          1,
          11,
          23,
          5,
          1,
          7,
          22,
          2,
          5,
          1,
          1,
          2,
          14,
          1,
          1,
          9,
          1,
          3,
          1,
          14,
          1,
          47,
          1,
          3,
          1,
          1,
          1,
          1,
          14,
          1,
          2,
          1,
          9,
          1,
          4,
          1,
          6,
          1,
          1,
          2,
          1,
          4,
          3,
          1,
          1,
          14,
          2,
          1,
          3,
          1,
          1,
          12,
          1,
          1,
          4,
          1,
          1,
          7,
          8,
          4,
          4,
          3,
          1,
          11,
          1,
          5,
          4,
          10,
          7,
          5,
          1,
          6,
          2,
          6,
          1,
          2,
          7,
          8,
          1,
          1,
          1,
          25,
          1,
          1,
          2,
          1,
          1,
          2,
          2,
          19,
          15,
          1,
          2,
          4,
          10,
          1,
          5,
          1,
          1,
          66,
          1,
          1,
          1,
          1,
          1,
          1,
          8,
          4,
          1,
          6,
          1,
          1,
          6,
          1,
          11,
          1,
          3,
          1,
          1,
          3,
          1,
          2,
          2,
          9,
          5,
          1,
          1,
          2,
          2,
          1,
          1,
          1,
          1,
          2,
          1,
          1,
          1,
          5,
          1,
          2,
          1,
          3,
          3,
          5,
          19,
          7,
          6,
          1,
          1,
          20,
          5,
          17,
          3,
          2,
          7,
          1,
          1,
          2,
          1,
          1,
          1,
          2,
          1,
          9,
          2,
          1,
          1,
          4,
          3,
          8,
          2,
          1,
          1,
          1,
          1,
          1,
          10,
          1,
          1,
          1,
          2,
          7,
          1,
          4,
          23,
          7,
          1,
          1,
          5,
          1,
          4,
          5,
          2,
          1,
          2,
          14,
          1,
          3,
          19,
          6,
          2,
          13,
          4,
          1,
          1,
          1,
          1,
          3,
          8,
          3,
          1,
          1,
          1,
          2,
          5,
          4,
          1,
          1,
          1,
          1,
          2,
          1,
          1,
          1,
          12,
          1,
          2,
          7,
          15,
          2,
          1,
          1,
          1,
          24,
          1,
          1,
          2,
          4,
          1,
          1,
          8,
          7,
          1,
          2,
          4,
          9,
          3,
          1,
          1,
          2,
          26,
          10,
          1,
          7,
          1,
          1,
          5,
          11,
          1,
          1,
          3,
          2,
          3,
          1,
          1,
          9,
          2,
          1,
          4,
          1,
          13,
          1,
          1,
          1,
          2,
          2,
          1,
          1,
          2,
          1,
          1,
          4,
          4,
          4,
          3,
          1,
          1,
          1,
          1,
          5,
          1,
          1,
          1,
          1,
          1,
          14,
          4,
          4,
          14,
          3,
          1,
          2,
          3,
          20,
          1,
          1,
          2,
          1,
          8,
          2,
          1,
          4,
          1,
          1,
          2,
          7,
          4,
          15,
          1,
          1,
          5,
          1,
          1,
          1,
          1,
          1,
          1,
          2,
          1,
          1,
          2,
          11,
          8,
          15,
          1,
          2,
          1,
          32,
          4,
          5,
          1,
          1,
          3,
          6,
          1,
          1,
          6,
          2,
          5,
          2,
          1,
          9,
          1,
          9,
          2,
          2,
          5,
          1,
          1,
          9,
          1,
          1,
          1,
          14,
          6,
          4,
          3,
          1,
          4,
          1,
          1,
          7,
          2,
          2,
          1,
          4,
          1,
          12,
          1,
          8,
          5,
          4,
          1,
          1,
          19,
          1
         ],
         "yaxis": "y"
        }
       ],
       "layout": {
        "legend": {
         "tracegroupgap": 0
        },
        "margin": {
         "t": 60
        },
        "template": {
         "data": {
          "bar": [
           {
            "error_x": {
             "color": "#2a3f5f"
            },
            "error_y": {
             "color": "#2a3f5f"
            },
            "marker": {
             "line": {
              "color": "#E5ECF6",
              "width": 0.5
             },
             "pattern": {
              "fillmode": "overlay",
              "size": 10,
              "solidity": 0.2
             }
            },
            "type": "bar"
           }
          ],
          "barpolar": [
           {
            "marker": {
             "line": {
              "color": "#E5ECF6",
              "width": 0.5
             },
             "pattern": {
              "fillmode": "overlay",
              "size": 10,
              "solidity": 0.2
             }
            },
            "type": "barpolar"
           }
          ],
          "carpet": [
           {
            "aaxis": {
             "endlinecolor": "#2a3f5f",
             "gridcolor": "white",
             "linecolor": "white",
             "minorgridcolor": "white",
             "startlinecolor": "#2a3f5f"
            },
            "baxis": {
             "endlinecolor": "#2a3f5f",
             "gridcolor": "white",
             "linecolor": "white",
             "minorgridcolor": "white",
             "startlinecolor": "#2a3f5f"
            },
            "type": "carpet"
           }
          ],
          "choropleth": [
           {
            "colorbar": {
             "outlinewidth": 0,
             "ticks": ""
            },
            "type": "choropleth"
           }
          ],
          "contour": [
           {
            "colorbar": {
             "outlinewidth": 0,
             "ticks": ""
            },
            "colorscale": [
             [
              0,
              "#0d0887"
             ],
             [
              0.1111111111111111,
              "#46039f"
             ],
             [
              0.2222222222222222,
              "#7201a8"
             ],
             [
              0.3333333333333333,
              "#9c179e"
             ],
             [
              0.4444444444444444,
              "#bd3786"
             ],
             [
              0.5555555555555556,
              "#d8576b"
             ],
             [
              0.6666666666666666,
              "#ed7953"
             ],
             [
              0.7777777777777778,
              "#fb9f3a"
             ],
             [
              0.8888888888888888,
              "#fdca26"
             ],
             [
              1,
              "#f0f921"
             ]
            ],
            "type": "contour"
           }
          ],
          "contourcarpet": [
           {
            "colorbar": {
             "outlinewidth": 0,
             "ticks": ""
            },
            "type": "contourcarpet"
           }
          ],
          "heatmap": [
           {
            "colorbar": {
             "outlinewidth": 0,
             "ticks": ""
            },
            "colorscale": [
             [
              0,
              "#0d0887"
             ],
             [
              0.1111111111111111,
              "#46039f"
             ],
             [
              0.2222222222222222,
              "#7201a8"
             ],
             [
              0.3333333333333333,
              "#9c179e"
             ],
             [
              0.4444444444444444,
              "#bd3786"
             ],
             [
              0.5555555555555556,
              "#d8576b"
             ],
             [
              0.6666666666666666,
              "#ed7953"
             ],
             [
              0.7777777777777778,
              "#fb9f3a"
             ],
             [
              0.8888888888888888,
              "#fdca26"
             ],
             [
              1,
              "#f0f921"
             ]
            ],
            "type": "heatmap"
           }
          ],
          "heatmapgl": [
           {
            "colorbar": {
             "outlinewidth": 0,
             "ticks": ""
            },
            "colorscale": [
             [
              0,
              "#0d0887"
             ],
             [
              0.1111111111111111,
              "#46039f"
             ],
             [
              0.2222222222222222,
              "#7201a8"
             ],
             [
              0.3333333333333333,
              "#9c179e"
             ],
             [
              0.4444444444444444,
              "#bd3786"
             ],
             [
              0.5555555555555556,
              "#d8576b"
             ],
             [
              0.6666666666666666,
              "#ed7953"
             ],
             [
              0.7777777777777778,
              "#fb9f3a"
             ],
             [
              0.8888888888888888,
              "#fdca26"
             ],
             [
              1,
              "#f0f921"
             ]
            ],
            "type": "heatmapgl"
           }
          ],
          "histogram": [
           {
            "marker": {
             "pattern": {
              "fillmode": "overlay",
              "size": 10,
              "solidity": 0.2
             }
            },
            "type": "histogram"
           }
          ],
          "histogram2d": [
           {
            "colorbar": {
             "outlinewidth": 0,
             "ticks": ""
            },
            "colorscale": [
             [
              0,
              "#0d0887"
             ],
             [
              0.1111111111111111,
              "#46039f"
             ],
             [
              0.2222222222222222,
              "#7201a8"
             ],
             [
              0.3333333333333333,
              "#9c179e"
             ],
             [
              0.4444444444444444,
              "#bd3786"
             ],
             [
              0.5555555555555556,
              "#d8576b"
             ],
             [
              0.6666666666666666,
              "#ed7953"
             ],
             [
              0.7777777777777778,
              "#fb9f3a"
             ],
             [
              0.8888888888888888,
              "#fdca26"
             ],
             [
              1,
              "#f0f921"
             ]
            ],
            "type": "histogram2d"
           }
          ],
          "histogram2dcontour": [
           {
            "colorbar": {
             "outlinewidth": 0,
             "ticks": ""
            },
            "colorscale": [
             [
              0,
              "#0d0887"
             ],
             [
              0.1111111111111111,
              "#46039f"
             ],
             [
              0.2222222222222222,
              "#7201a8"
             ],
             [
              0.3333333333333333,
              "#9c179e"
             ],
             [
              0.4444444444444444,
              "#bd3786"
             ],
             [
              0.5555555555555556,
              "#d8576b"
             ],
             [
              0.6666666666666666,
              "#ed7953"
             ],
             [
              0.7777777777777778,
              "#fb9f3a"
             ],
             [
              0.8888888888888888,
              "#fdca26"
             ],
             [
              1,
              "#f0f921"
             ]
            ],
            "type": "histogram2dcontour"
           }
          ],
          "mesh3d": [
           {
            "colorbar": {
             "outlinewidth": 0,
             "ticks": ""
            },
            "type": "mesh3d"
           }
          ],
          "parcoords": [
           {
            "line": {
             "colorbar": {
              "outlinewidth": 0,
              "ticks": ""
             }
            },
            "type": "parcoords"
           }
          ],
          "pie": [
           {
            "automargin": true,
            "type": "pie"
           }
          ],
          "scatter": [
           {
            "marker": {
             "colorbar": {
              "outlinewidth": 0,
              "ticks": ""
             }
            },
            "type": "scatter"
           }
          ],
          "scatter3d": [
           {
            "line": {
             "colorbar": {
              "outlinewidth": 0,
              "ticks": ""
             }
            },
            "marker": {
             "colorbar": {
              "outlinewidth": 0,
              "ticks": ""
             }
            },
            "type": "scatter3d"
           }
          ],
          "scattercarpet": [
           {
            "marker": {
             "colorbar": {
              "outlinewidth": 0,
              "ticks": ""
             }
            },
            "type": "scattercarpet"
           }
          ],
          "scattergeo": [
           {
            "marker": {
             "colorbar": {
              "outlinewidth": 0,
              "ticks": ""
             }
            },
            "type": "scattergeo"
           }
          ],
          "scattergl": [
           {
            "marker": {
             "colorbar": {
              "outlinewidth": 0,
              "ticks": ""
             }
            },
            "type": "scattergl"
           }
          ],
          "scattermapbox": [
           {
            "marker": {
             "colorbar": {
              "outlinewidth": 0,
              "ticks": ""
             }
            },
            "type": "scattermapbox"
           }
          ],
          "scatterpolar": [
           {
            "marker": {
             "colorbar": {
              "outlinewidth": 0,
              "ticks": ""
             }
            },
            "type": "scatterpolar"
           }
          ],
          "scatterpolargl": [
           {
            "marker": {
             "colorbar": {
              "outlinewidth": 0,
              "ticks": ""
             }
            },
            "type": "scatterpolargl"
           }
          ],
          "scatterternary": [
           {
            "marker": {
             "colorbar": {
              "outlinewidth": 0,
              "ticks": ""
             }
            },
            "type": "scatterternary"
           }
          ],
          "surface": [
           {
            "colorbar": {
             "outlinewidth": 0,
             "ticks": ""
            },
            "colorscale": [
             [
              0,
              "#0d0887"
             ],
             [
              0.1111111111111111,
              "#46039f"
             ],
             [
              0.2222222222222222,
              "#7201a8"
             ],
             [
              0.3333333333333333,
              "#9c179e"
             ],
             [
              0.4444444444444444,
              "#bd3786"
             ],
             [
              0.5555555555555556,
              "#d8576b"
             ],
             [
              0.6666666666666666,
              "#ed7953"
             ],
             [
              0.7777777777777778,
              "#fb9f3a"
             ],
             [
              0.8888888888888888,
              "#fdca26"
             ],
             [
              1,
              "#f0f921"
             ]
            ],
            "type": "surface"
           }
          ],
          "table": [
           {
            "cells": {
             "fill": {
              "color": "#EBF0F8"
             },
             "line": {
              "color": "white"
             }
            },
            "header": {
             "fill": {
              "color": "#C8D4E3"
             },
             "line": {
              "color": "white"
             }
            },
            "type": "table"
           }
          ]
         },
         "layout": {
          "annotationdefaults": {
           "arrowcolor": "#2a3f5f",
           "arrowhead": 0,
           "arrowwidth": 1
          },
          "autotypenumbers": "strict",
          "coloraxis": {
           "colorbar": {
            "outlinewidth": 0,
            "ticks": ""
           }
          },
          "colorscale": {
           "diverging": [
            [
             0,
             "#8e0152"
            ],
            [
             0.1,
             "#c51b7d"
            ],
            [
             0.2,
             "#de77ae"
            ],
            [
             0.3,
             "#f1b6da"
            ],
            [
             0.4,
             "#fde0ef"
            ],
            [
             0.5,
             "#f7f7f7"
            ],
            [
             0.6,
             "#e6f5d0"
            ],
            [
             0.7,
             "#b8e186"
            ],
            [
             0.8,
             "#7fbc41"
            ],
            [
             0.9,
             "#4d9221"
            ],
            [
             1,
             "#276419"
            ]
           ],
           "sequential": [
            [
             0,
             "#0d0887"
            ],
            [
             0.1111111111111111,
             "#46039f"
            ],
            [
             0.2222222222222222,
             "#7201a8"
            ],
            [
             0.3333333333333333,
             "#9c179e"
            ],
            [
             0.4444444444444444,
             "#bd3786"
            ],
            [
             0.5555555555555556,
             "#d8576b"
            ],
            [
             0.6666666666666666,
             "#ed7953"
            ],
            [
             0.7777777777777778,
             "#fb9f3a"
            ],
            [
             0.8888888888888888,
             "#fdca26"
            ],
            [
             1,
             "#f0f921"
            ]
           ],
           "sequentialminus": [
            [
             0,
             "#0d0887"
            ],
            [
             0.1111111111111111,
             "#46039f"
            ],
            [
             0.2222222222222222,
             "#7201a8"
            ],
            [
             0.3333333333333333,
             "#9c179e"
            ],
            [
             0.4444444444444444,
             "#bd3786"
            ],
            [
             0.5555555555555556,
             "#d8576b"
            ],
            [
             0.6666666666666666,
             "#ed7953"
            ],
            [
             0.7777777777777778,
             "#fb9f3a"
            ],
            [
             0.8888888888888888,
             "#fdca26"
            ],
            [
             1,
             "#f0f921"
            ]
           ]
          },
          "colorway": [
           "#636efa",
           "#EF553B",
           "#00cc96",
           "#ab63fa",
           "#FFA15A",
           "#19d3f3",
           "#FF6692",
           "#B6E880",
           "#FF97FF",
           "#FECB52"
          ],
          "font": {
           "color": "#2a3f5f"
          },
          "geo": {
           "bgcolor": "white",
           "lakecolor": "white",
           "landcolor": "#E5ECF6",
           "showlakes": true,
           "showland": true,
           "subunitcolor": "white"
          },
          "hoverlabel": {
           "align": "left"
          },
          "hovermode": "closest",
          "mapbox": {
           "style": "light"
          },
          "paper_bgcolor": "white",
          "plot_bgcolor": "#E5ECF6",
          "polar": {
           "angularaxis": {
            "gridcolor": "white",
            "linecolor": "white",
            "ticks": ""
           },
           "bgcolor": "#E5ECF6",
           "radialaxis": {
            "gridcolor": "white",
            "linecolor": "white",
            "ticks": ""
           }
          },
          "scene": {
           "xaxis": {
            "backgroundcolor": "#E5ECF6",
            "gridcolor": "white",
            "gridwidth": 2,
            "linecolor": "white",
            "showbackground": true,
            "ticks": "",
            "zerolinecolor": "white"
           },
           "yaxis": {
            "backgroundcolor": "#E5ECF6",
            "gridcolor": "white",
            "gridwidth": 2,
            "linecolor": "white",
            "showbackground": true,
            "ticks": "",
            "zerolinecolor": "white"
           },
           "zaxis": {
            "backgroundcolor": "#E5ECF6",
            "gridcolor": "white",
            "gridwidth": 2,
            "linecolor": "white",
            "showbackground": true,
            "ticks": "",
            "zerolinecolor": "white"
           }
          },
          "shapedefaults": {
           "line": {
            "color": "#2a3f5f"
           }
          },
          "ternary": {
           "aaxis": {
            "gridcolor": "white",
            "linecolor": "white",
            "ticks": ""
           },
           "baxis": {
            "gridcolor": "white",
            "linecolor": "white",
            "ticks": ""
           },
           "bgcolor": "#E5ECF6",
           "caxis": {
            "gridcolor": "white",
            "linecolor": "white",
            "ticks": ""
           }
          },
          "title": {
           "x": 0.05
          },
          "xaxis": {
           "automargin": true,
           "gridcolor": "white",
           "linecolor": "white",
           "ticks": "",
           "title": {
            "standoff": 15
           },
           "zerolinecolor": "white",
           "zerolinewidth": 2
          },
          "yaxis": {
           "automargin": true,
           "gridcolor": "white",
           "linecolor": "white",
           "ticks": "",
           "title": {
            "standoff": 15
           },
           "zerolinecolor": "white",
           "zerolinewidth": 2
          }
         }
        },
        "xaxis": {
         "anchor": "y",
         "domain": [
          0,
          1
         ],
         "title": {
          "text": "rate"
         }
        },
        "yaxis": {
         "anchor": "x",
         "domain": [
          0,
          1
         ],
         "title": {
          "text": "number_of_patients"
         }
        }
       }
      }
     },
     "metadata": {},
     "output_type": "display_data"
    }
   ],
   "source": [
    "fig = px.scatter(df[df['number_of_patients']<100], x='rate', y='number_of_patients', hover_data=['doctor_id'])\n",
    "fig.show()"
   ]
  },
  {
   "cell_type": "markdown",
   "metadata": {},
   "source": [
    "### Include this scatter plot in case plotly crash when open on diffrent computer"
   ]
  },
  {
   "cell_type": "code",
   "execution_count": 16,
   "metadata": {},
   "outputs": [
    {
     "data": {
      "text/plain": [
       "<AxesSubplot:xlabel='rate', ylabel='number_of_patients'>"
      ]
     },
     "execution_count": 16,
     "metadata": {},
     "output_type": "execute_result"
    },
    {
     "data": {
      "image/png": "[encoded data removed]",
      "text/plain": [
       "<Figure size 432x288 with 1 Axes>"
      ]
     },
     "metadata": {
      "needs_background": "light"
     },
     "output_type": "display_data"
    }
   ],
   "source": [
    "df[df['number_of_patients']<100].plot.scatter(x='rate', y='number_of_patients')"
   ]
  }
 ],
 "metadata": {
  "interpreter": {
   "hash": "ba4d2079144921f47a0051f89d25b8f0eb527c9bc1d112344d7a1e8ee5fb467f"
  },
  "kernelspec": {
   "display_name": "Python 3.8.5 64-bit ('garner_health-HEuggAod': pipenv)",
   "language": "python",
   "name": "python3"
  },
  "language_info": {
   "codemirror_mode": {
    "name": "ipython",
    "version": 3
   },
   "file_extension": ".py",
   "mimetype": "text/x-python",
   "name": "python",
   "nbconvert_exporter": "python",
   "pygments_lexer": "ipython3",
   "version": "3.8.5"
  },
  "orig_nbformat": 4
 },
 "nbformat": 4,
 "nbformat_minor": 2
}
